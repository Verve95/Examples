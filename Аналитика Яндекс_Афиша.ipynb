{
 "cells": [
  {
   "cell_type": "markdown",
   "metadata": {},
   "source": [
    "# Аналитика Яндекс.Афиша"
   ]
  },
  {
   "cell_type": "markdown",
   "metadata": {},
   "source": [
    "Импортируем необходимые библиотеки"
   ]
  },
  {
   "cell_type": "code",
   "execution_count": 1,
   "metadata": {},
   "outputs": [],
   "source": [
    "import pandas as pd\n",
    "import numpy as np\n",
    "import seaborn as sns\n",
    "from matplotlib import pyplot as plt"
   ]
  },
  {
   "cell_type": "markdown",
   "metadata": {},
   "source": [
    "Импортируем рабочие файлы"
   ]
  },
  {
   "cell_type": "code",
   "execution_count": 2,
   "metadata": {},
   "outputs": [],
   "source": [
    "# df_costs = pd.read_csv('/Users/administrator/Desktop/Jupyter/update/costs (1).csv')\n",
    "# df_orders = pd.read_csv('/Users/administrator/Desktop/Jupyter/update/orders_log (1).csv')\n",
    "# df_visits = pd.read_csv('/Users/administrator/Desktop/Jupyter/update/visits_log_1.csv')\n",
    "\n",
    "df_costs = pd.read_csv('/datasets/costs.csv')\n",
    "df_orders = pd.read_csv('/datasets/orders_log.csv')\n",
    "df_visits = pd.read_csv('/datasets/visits_log.csv')"
   ]
  },
  {
   "cell_type": "markdown",
   "metadata": {},
   "source": [
    "Просмотрим файл *df_costs*"
   ]
  },
  {
   "cell_type": "code",
   "execution_count": 3,
   "metadata": {},
   "outputs": [
    {
     "data": {
      "text/html": [
       "<div>\n",
       "<style scoped>\n",
       "    .dataframe tbody tr th:only-of-type {\n",
       "        vertical-align: middle;\n",
       "    }\n",
       "\n",
       "    .dataframe tbody tr th {\n",
       "        vertical-align: top;\n",
       "    }\n",
       "\n",
       "    .dataframe thead th {\n",
       "        text-align: right;\n",
       "    }\n",
       "</style>\n",
       "<table border=\"1\" class=\"dataframe\">\n",
       "  <thead>\n",
       "    <tr style=\"text-align: right;\">\n",
       "      <th></th>\n",
       "      <th>source_id</th>\n",
       "      <th>dt</th>\n",
       "      <th>costs</th>\n",
       "    </tr>\n",
       "  </thead>\n",
       "  <tbody>\n",
       "    <tr>\n",
       "      <td>1379</td>\n",
       "      <td>4</td>\n",
       "      <td>2018-03-18</td>\n",
       "      <td>0.83</td>\n",
       "    </tr>\n",
       "    <tr>\n",
       "      <td>1293</td>\n",
       "      <td>4</td>\n",
       "      <td>2017-12-22</td>\n",
       "      <td>64.88</td>\n",
       "    </tr>\n",
       "    <tr>\n",
       "      <td>1556</td>\n",
       "      <td>5</td>\n",
       "      <td>2017-09-13</td>\n",
       "      <td>89.67</td>\n",
       "    </tr>\n",
       "    <tr>\n",
       "      <td>2184</td>\n",
       "      <td>10</td>\n",
       "      <td>2017-06-06</td>\n",
       "      <td>21.69</td>\n",
       "    </tr>\n",
       "    <tr>\n",
       "      <td>645</td>\n",
       "      <td>2</td>\n",
       "      <td>2018-03-10</td>\n",
       "      <td>109.34</td>\n",
       "    </tr>\n",
       "  </tbody>\n",
       "</table>\n",
       "</div>"
      ],
      "text/plain": [
       "      source_id          dt   costs\n",
       "1379          4  2018-03-18    0.83\n",
       "1293          4  2017-12-22   64.88\n",
       "1556          5  2017-09-13   89.67\n",
       "2184         10  2017-06-06   21.69\n",
       "645           2  2018-03-10  109.34"
      ]
     },
     "execution_count": 3,
     "metadata": {},
     "output_type": "execute_result"
    }
   ],
   "source": [
    "df_costs.sample(5)"
   ]
  },
  {
   "cell_type": "code",
   "execution_count": 4,
   "metadata": {},
   "outputs": [
    {
     "name": "stdout",
     "output_type": "stream",
     "text": [
      "<class 'pandas.core.frame.DataFrame'>\n",
      "RangeIndex: 2542 entries, 0 to 2541\n",
      "Data columns (total 3 columns):\n",
      "source_id    2542 non-null int64\n",
      "dt           2542 non-null object\n",
      "costs        2542 non-null float64\n",
      "dtypes: float64(1), int64(1), object(1)\n",
      "memory usage: 59.7+ KB\n"
     ]
    }
   ],
   "source": [
    "df_costs.info()"
   ]
  },
  {
   "cell_type": "markdown",
   "metadata": {},
   "source": [
    "Таблица **df_costs** (информация о затратах на маркетинг):\n",
    "* source_id — идентификатор рекламного источника\n",
    "* dt — дата\n",
    "* costs — затраты на этот рекламный источник в этот день"
   ]
  },
  {
   "cell_type": "markdown",
   "metadata": {},
   "source": [
    "Просмотрим файл *df_orders*"
   ]
  },
  {
   "cell_type": "code",
   "execution_count": 5,
   "metadata": {},
   "outputs": [
    {
     "data": {
      "text/html": [
       "<div>\n",
       "<style scoped>\n",
       "    .dataframe tbody tr th:only-of-type {\n",
       "        vertical-align: middle;\n",
       "    }\n",
       "\n",
       "    .dataframe tbody tr th {\n",
       "        vertical-align: top;\n",
       "    }\n",
       "\n",
       "    .dataframe thead th {\n",
       "        text-align: right;\n",
       "    }\n",
       "</style>\n",
       "<table border=\"1\" class=\"dataframe\">\n",
       "  <thead>\n",
       "    <tr style=\"text-align: right;\">\n",
       "      <th></th>\n",
       "      <th>Buy Ts</th>\n",
       "      <th>Revenue</th>\n",
       "      <th>Uid</th>\n",
       "    </tr>\n",
       "  </thead>\n",
       "  <tbody>\n",
       "    <tr>\n",
       "      <td>23055</td>\n",
       "      <td>2017-12-09 19:08:00</td>\n",
       "      <td>3.30</td>\n",
       "      <td>2127794722036533158</td>\n",
       "    </tr>\n",
       "    <tr>\n",
       "      <td>43508</td>\n",
       "      <td>2018-04-08 18:55:00</td>\n",
       "      <td>4.89</td>\n",
       "      <td>473335047102617864</td>\n",
       "    </tr>\n",
       "    <tr>\n",
       "      <td>11883</td>\n",
       "      <td>2017-10-09 20:45:00</td>\n",
       "      <td>2.75</td>\n",
       "      <td>365173820622664624</td>\n",
       "    </tr>\n",
       "    <tr>\n",
       "      <td>15443</td>\n",
       "      <td>2017-10-31 11:04:00</td>\n",
       "      <td>8.55</td>\n",
       "      <td>17377546289560474746</td>\n",
       "    </tr>\n",
       "    <tr>\n",
       "      <td>28479</td>\n",
       "      <td>2018-01-08 06:15:00</td>\n",
       "      <td>2.93</td>\n",
       "      <td>9203010134327920270</td>\n",
       "    </tr>\n",
       "  </tbody>\n",
       "</table>\n",
       "</div>"
      ],
      "text/plain": [
       "                    Buy Ts  Revenue                   Uid\n",
       "23055  2017-12-09 19:08:00     3.30   2127794722036533158\n",
       "43508  2018-04-08 18:55:00     4.89    473335047102617864\n",
       "11883  2017-10-09 20:45:00     2.75    365173820622664624\n",
       "15443  2017-10-31 11:04:00     8.55  17377546289560474746\n",
       "28479  2018-01-08 06:15:00     2.93   9203010134327920270"
      ]
     },
     "execution_count": 5,
     "metadata": {},
     "output_type": "execute_result"
    }
   ],
   "source": [
    "df_orders.sample(5)"
   ]
  },
  {
   "cell_type": "code",
   "execution_count": 6,
   "metadata": {},
   "outputs": [
    {
     "name": "stdout",
     "output_type": "stream",
     "text": [
      "<class 'pandas.core.frame.DataFrame'>\n",
      "RangeIndex: 50415 entries, 0 to 50414\n",
      "Data columns (total 3 columns):\n",
      "Buy Ts     50415 non-null object\n",
      "Revenue    50415 non-null float64\n",
      "Uid        50415 non-null uint64\n",
      "dtypes: float64(1), object(1), uint64(1)\n",
      "memory usage: 1.2+ MB\n"
     ]
    }
   ],
   "source": [
    "df_orders.info()"
   ]
  },
  {
   "cell_type": "markdown",
   "metadata": {},
   "source": [
    "Таблица **df_orders** (информация о заказах):\n",
    "* Uid — уникальный id пользователя, который сделал заказ\n",
    "* Buy Ts — дата и время заказа\n",
    "* Revenue — выручка Яндекс.Афиши с этого заказа"
   ]
  },
  {
   "cell_type": "markdown",
   "metadata": {},
   "source": [
    "Просмотрим файл *df_visits*"
   ]
  },
  {
   "cell_type": "code",
   "execution_count": 7,
   "metadata": {},
   "outputs": [
    {
     "data": {
      "text/html": [
       "<div>\n",
       "<style scoped>\n",
       "    .dataframe tbody tr th:only-of-type {\n",
       "        vertical-align: middle;\n",
       "    }\n",
       "\n",
       "    .dataframe tbody tr th {\n",
       "        vertical-align: top;\n",
       "    }\n",
       "\n",
       "    .dataframe thead th {\n",
       "        text-align: right;\n",
       "    }\n",
       "</style>\n",
       "<table border=\"1\" class=\"dataframe\">\n",
       "  <thead>\n",
       "    <tr style=\"text-align: right;\">\n",
       "      <th></th>\n",
       "      <th>Device</th>\n",
       "      <th>End Ts</th>\n",
       "      <th>Source Id</th>\n",
       "      <th>Start Ts</th>\n",
       "      <th>Uid</th>\n",
       "    </tr>\n",
       "  </thead>\n",
       "  <tbody>\n",
       "    <tr>\n",
       "      <td>347555</td>\n",
       "      <td>desktop</td>\n",
       "      <td>2018-01-02 20:49:00</td>\n",
       "      <td>2</td>\n",
       "      <td>2018-01-02 20:44:00</td>\n",
       "      <td>11177822545716045840</td>\n",
       "    </tr>\n",
       "    <tr>\n",
       "      <td>185458</td>\n",
       "      <td>touch</td>\n",
       "      <td>2018-03-02 00:45:00</td>\n",
       "      <td>4</td>\n",
       "      <td>2018-03-02 00:42:00</td>\n",
       "      <td>8520189812062482957</td>\n",
       "    </tr>\n",
       "    <tr>\n",
       "      <td>338356</td>\n",
       "      <td>desktop</td>\n",
       "      <td>2017-11-16 17:24:00</td>\n",
       "      <td>3</td>\n",
       "      <td>2017-11-16 17:06:00</td>\n",
       "      <td>290489191476667666</td>\n",
       "    </tr>\n",
       "    <tr>\n",
       "      <td>87362</td>\n",
       "      <td>touch</td>\n",
       "      <td>2018-05-24 16:15:00</td>\n",
       "      <td>9</td>\n",
       "      <td>2018-05-24 16:11:00</td>\n",
       "      <td>9095483400029799549</td>\n",
       "    </tr>\n",
       "    <tr>\n",
       "      <td>249098</td>\n",
       "      <td>desktop</td>\n",
       "      <td>2017-11-24 19:35:00</td>\n",
       "      <td>1</td>\n",
       "      <td>2017-11-24 18:13:00</td>\n",
       "      <td>17758898927020866447</td>\n",
       "    </tr>\n",
       "  </tbody>\n",
       "</table>\n",
       "</div>"
      ],
      "text/plain": [
       "         Device               End Ts  Source Id             Start Ts  \\\n",
       "347555  desktop  2018-01-02 20:49:00          2  2018-01-02 20:44:00   \n",
       "185458    touch  2018-03-02 00:45:00          4  2018-03-02 00:42:00   \n",
       "338356  desktop  2017-11-16 17:24:00          3  2017-11-16 17:06:00   \n",
       "87362     touch  2018-05-24 16:15:00          9  2018-05-24 16:11:00   \n",
       "249098  desktop  2017-11-24 19:35:00          1  2017-11-24 18:13:00   \n",
       "\n",
       "                         Uid  \n",
       "347555  11177822545716045840  \n",
       "185458   8520189812062482957  \n",
       "338356    290489191476667666  \n",
       "87362    9095483400029799549  \n",
       "249098  17758898927020866447  "
      ]
     },
     "execution_count": 7,
     "metadata": {},
     "output_type": "execute_result"
    }
   ],
   "source": [
    "df_visits.sample(5)"
   ]
  },
  {
   "cell_type": "code",
   "execution_count": 8,
   "metadata": {},
   "outputs": [
    {
     "name": "stdout",
     "output_type": "stream",
     "text": [
      "<class 'pandas.core.frame.DataFrame'>\n",
      "RangeIndex: 359400 entries, 0 to 359399\n",
      "Data columns (total 5 columns):\n",
      "Device       359400 non-null object\n",
      "End Ts       359400 non-null object\n",
      "Source Id    359400 non-null int64\n",
      "Start Ts     359400 non-null object\n",
      "Uid          359400 non-null uint64\n",
      "dtypes: int64(1), object(3), uint64(1)\n",
      "memory usage: 13.7+ MB\n"
     ]
    }
   ],
   "source": [
    "df_visits.info()"
   ]
  },
  {
   "cell_type": "markdown",
   "metadata": {},
   "source": [
    "Таблица **df_visits** (лог сервера с информацией о посещениях сайта):\n",
    "* Uid — уникальный идентификатор пользователя\n",
    "* Device — категория устройства пользователя\n",
    "* Start Ts — дата и время начала сессии\n",
    "* End Ts — дата и время окончания сессии\n",
    "* Source Id — идентификатор рекламного источника, из которого пришел пользователь"
   ]
  },
  {
   "cell_type": "markdown",
   "metadata": {},
   "source": [
    "Проверим файлы на наличие дубликатов"
   ]
  },
  {
   "cell_type": "code",
   "execution_count": 9,
   "metadata": {},
   "outputs": [
    {
     "data": {
      "text/plain": [
       "0"
      ]
     },
     "execution_count": 9,
     "metadata": {},
     "output_type": "execute_result"
    }
   ],
   "source": [
    "df_costs.duplicated().sum()\n",
    "df_orders.duplicated().sum()\n",
    "df_visits.duplicated().sum()"
   ]
  },
  {
   "cell_type": "markdown",
   "metadata": {},
   "source": [
    "Для более удобной работы с файлом *df_visits* переименуем название столбцов"
   ]
  },
  {
   "cell_type": "code",
   "execution_count": 10,
   "metadata": {},
   "outputs": [],
   "source": [
    "df_visits.rename(columns={'Unnamed: 0': 'named', \n",
    "                          'Device': 'device', \n",
    "                          'End Ts': 'end_ts',\n",
    "                          'Source Id': 'source_id',\n",
    "                          'Start Ts': 'start_ts',\n",
    "                          'Uid': 'uid'}, inplace = True)"
   ]
  },
  {
   "cell_type": "markdown",
   "metadata": {},
   "source": [
    "Теперь работать с одним типом записи будет удобней"
   ]
  },
  {
   "cell_type": "code",
   "execution_count": 11,
   "metadata": {},
   "outputs": [
    {
     "data": {
      "text/html": [
       "<div>\n",
       "<style scoped>\n",
       "    .dataframe tbody tr th:only-of-type {\n",
       "        vertical-align: middle;\n",
       "    }\n",
       "\n",
       "    .dataframe tbody tr th {\n",
       "        vertical-align: top;\n",
       "    }\n",
       "\n",
       "    .dataframe thead th {\n",
       "        text-align: right;\n",
       "    }\n",
       "</style>\n",
       "<table border=\"1\" class=\"dataframe\">\n",
       "  <thead>\n",
       "    <tr style=\"text-align: right;\">\n",
       "      <th></th>\n",
       "      <th>device</th>\n",
       "      <th>end_ts</th>\n",
       "      <th>source_id</th>\n",
       "      <th>start_ts</th>\n",
       "      <th>uid</th>\n",
       "    </tr>\n",
       "  </thead>\n",
       "  <tbody>\n",
       "    <tr>\n",
       "      <td>98041</td>\n",
       "      <td>desktop</td>\n",
       "      <td>2018-03-28 03:14:00</td>\n",
       "      <td>5</td>\n",
       "      <td>2018-03-28 03:12:00</td>\n",
       "      <td>4485298274454232445</td>\n",
       "    </tr>\n",
       "    <tr>\n",
       "      <td>291299</td>\n",
       "      <td>desktop</td>\n",
       "      <td>2017-12-17 22:37:00</td>\n",
       "      <td>4</td>\n",
       "      <td>2017-12-17 22:25:00</td>\n",
       "      <td>10948533179188538582</td>\n",
       "    </tr>\n",
       "    <tr>\n",
       "      <td>243359</td>\n",
       "      <td>desktop</td>\n",
       "      <td>2017-06-20 15:11:00</td>\n",
       "      <td>3</td>\n",
       "      <td>2017-06-20 15:09:00</td>\n",
       "      <td>17548064061638883762</td>\n",
       "    </tr>\n",
       "    <tr>\n",
       "      <td>33614</td>\n",
       "      <td>desktop</td>\n",
       "      <td>2017-10-13 00:46:00</td>\n",
       "      <td>5</td>\n",
       "      <td>2017-10-13 00:35:00</td>\n",
       "      <td>936417777172388115</td>\n",
       "    </tr>\n",
       "    <tr>\n",
       "      <td>252198</td>\n",
       "      <td>touch</td>\n",
       "      <td>2017-12-28 14:13:00</td>\n",
       "      <td>4</td>\n",
       "      <td>2017-12-28 14:13:00</td>\n",
       "      <td>14683632019595284490</td>\n",
       "    </tr>\n",
       "  </tbody>\n",
       "</table>\n",
       "</div>"
      ],
      "text/plain": [
       "         device               end_ts  source_id             start_ts  \\\n",
       "98041   desktop  2018-03-28 03:14:00          5  2018-03-28 03:12:00   \n",
       "291299  desktop  2017-12-17 22:37:00          4  2017-12-17 22:25:00   \n",
       "243359  desktop  2017-06-20 15:11:00          3  2017-06-20 15:09:00   \n",
       "33614   desktop  2017-10-13 00:46:00          5  2017-10-13 00:35:00   \n",
       "252198    touch  2017-12-28 14:13:00          4  2017-12-28 14:13:00   \n",
       "\n",
       "                         uid  \n",
       "98041    4485298274454232445  \n",
       "291299  10948533179188538582  \n",
       "243359  17548064061638883762  \n",
       "33614     936417777172388115  \n",
       "252198  14683632019595284490  "
      ]
     },
     "execution_count": 11,
     "metadata": {},
     "output_type": "execute_result"
    }
   ],
   "source": [
    "df_visits.sample(5)"
   ]
  },
  {
   "cell_type": "markdown",
   "metadata": {},
   "source": [
    "Переведём данные *df_visits* столбцов в нужный формат для времени"
   ]
  },
  {
   "cell_type": "code",
   "execution_count": 12,
   "metadata": {},
   "outputs": [],
   "source": [
    "df_visits['end_ts'] = pd.to_datetime(df_visits['end_ts'], format =\"%Y.%m.%d %H:%M\")\n",
    "df_visits['start_ts'] = pd.to_datetime(df_visits['start_ts'], format =\"%Y.%m.%d %H:%M\")"
   ]
  },
  {
   "cell_type": "markdown",
   "metadata": {},
   "source": [
    "Чтобы посчитать использование, выделим в отдельные столбцы год, месяц и неделю, а также полную дату"
   ]
  },
  {
   "cell_type": "code",
   "execution_count": 13,
   "metadata": {},
   "outputs": [],
   "source": [
    "df_visits['visit_day'] = df_visits['start_ts'].dt.date\n",
    "df_visits['visit_week'] = df_visits['start_ts'].dt.week\n",
    "df_visits['visit_month'] = df_visits['start_ts'].dt.month\n",
    "df_visits['visit_year'] = df_visits['start_ts'].dt.year"
   ]
  },
  {
   "cell_type": "markdown",
   "metadata": {},
   "source": [
    "Посмотрим результат вывода таблицы"
   ]
  },
  {
   "cell_type": "code",
   "execution_count": 14,
   "metadata": {
    "scrolled": true
   },
   "outputs": [
    {
     "data": {
      "text/html": [
       "<div>\n",
       "<style scoped>\n",
       "    .dataframe tbody tr th:only-of-type {\n",
       "        vertical-align: middle;\n",
       "    }\n",
       "\n",
       "    .dataframe tbody tr th {\n",
       "        vertical-align: top;\n",
       "    }\n",
       "\n",
       "    .dataframe thead th {\n",
       "        text-align: right;\n",
       "    }\n",
       "</style>\n",
       "<table border=\"1\" class=\"dataframe\">\n",
       "  <thead>\n",
       "    <tr style=\"text-align: right;\">\n",
       "      <th></th>\n",
       "      <th>device</th>\n",
       "      <th>end_ts</th>\n",
       "      <th>source_id</th>\n",
       "      <th>start_ts</th>\n",
       "      <th>uid</th>\n",
       "      <th>visit_day</th>\n",
       "      <th>visit_week</th>\n",
       "      <th>visit_month</th>\n",
       "      <th>visit_year</th>\n",
       "    </tr>\n",
       "  </thead>\n",
       "  <tbody>\n",
       "    <tr>\n",
       "      <td>224014</td>\n",
       "      <td>touch</td>\n",
       "      <td>2018-04-22 11:47:00</td>\n",
       "      <td>5</td>\n",
       "      <td>2018-04-22 11:46:00</td>\n",
       "      <td>10132755775016295248</td>\n",
       "      <td>2018-04-22</td>\n",
       "      <td>16</td>\n",
       "      <td>4</td>\n",
       "      <td>2018</td>\n",
       "    </tr>\n",
       "    <tr>\n",
       "      <td>73828</td>\n",
       "      <td>touch</td>\n",
       "      <td>2018-01-05 00:48:00</td>\n",
       "      <td>4</td>\n",
       "      <td>2018-01-05 00:41:00</td>\n",
       "      <td>829391632904563695</td>\n",
       "      <td>2018-01-05</td>\n",
       "      <td>1</td>\n",
       "      <td>1</td>\n",
       "      <td>2018</td>\n",
       "    </tr>\n",
       "    <tr>\n",
       "      <td>84374</td>\n",
       "      <td>touch</td>\n",
       "      <td>2017-06-09 07:48:00</td>\n",
       "      <td>3</td>\n",
       "      <td>2017-06-09 07:45:00</td>\n",
       "      <td>18124720426242126138</td>\n",
       "      <td>2017-06-09</td>\n",
       "      <td>23</td>\n",
       "      <td>6</td>\n",
       "      <td>2017</td>\n",
       "    </tr>\n",
       "    <tr>\n",
       "      <td>343353</td>\n",
       "      <td>desktop</td>\n",
       "      <td>2018-01-07 04:11:00</td>\n",
       "      <td>1</td>\n",
       "      <td>2018-01-07 03:19:00</td>\n",
       "      <td>9500491647076530132</td>\n",
       "      <td>2018-01-07</td>\n",
       "      <td>1</td>\n",
       "      <td>1</td>\n",
       "      <td>2018</td>\n",
       "    </tr>\n",
       "    <tr>\n",
       "      <td>104859</td>\n",
       "      <td>desktop</td>\n",
       "      <td>2017-11-16 14:15:00</td>\n",
       "      <td>2</td>\n",
       "      <td>2017-11-16 14:04:00</td>\n",
       "      <td>10557139472070446513</td>\n",
       "      <td>2017-11-16</td>\n",
       "      <td>46</td>\n",
       "      <td>11</td>\n",
       "      <td>2017</td>\n",
       "    </tr>\n",
       "  </tbody>\n",
       "</table>\n",
       "</div>"
      ],
      "text/plain": [
       "         device              end_ts  source_id            start_ts  \\\n",
       "224014    touch 2018-04-22 11:47:00          5 2018-04-22 11:46:00   \n",
       "73828     touch 2018-01-05 00:48:00          4 2018-01-05 00:41:00   \n",
       "84374     touch 2017-06-09 07:48:00          3 2017-06-09 07:45:00   \n",
       "343353  desktop 2018-01-07 04:11:00          1 2018-01-07 03:19:00   \n",
       "104859  desktop 2017-11-16 14:15:00          2 2017-11-16 14:04:00   \n",
       "\n",
       "                         uid   visit_day  visit_week  visit_month  visit_year  \n",
       "224014  10132755775016295248  2018-04-22          16            4        2018  \n",
       "73828     829391632904563695  2018-01-05           1            1        2018  \n",
       "84374   18124720426242126138  2017-06-09          23            6        2017  \n",
       "343353   9500491647076530132  2018-01-07           1            1        2018  \n",
       "104859  10557139472070446513  2017-11-16          46           11        2017  "
      ]
     },
     "execution_count": 14,
     "metadata": {},
     "output_type": "execute_result"
    }
   ],
   "source": [
    "df_visits.sample(5)"
   ]
  },
  {
   "cell_type": "markdown",
   "metadata": {},
   "source": [
    "Сгруппируем данные по уникальным пользователям и найдём среднее для daily active users"
   ]
  },
  {
   "cell_type": "code",
   "execution_count": 15,
   "metadata": {},
   "outputs": [],
   "source": [
    "dau_total = df_visits.groupby('visit_day').agg({'uid': 'nunique'}).mean().round()"
   ]
  },
  {
   "cell_type": "markdown",
   "metadata": {},
   "source": [
    "Видим, что показатель суточного посещения - 908"
   ]
  },
  {
   "cell_type": "code",
   "execution_count": 16,
   "metadata": {},
   "outputs": [
    {
     "data": {
      "text/plain": [
       "908"
      ]
     },
     "execution_count": 16,
     "metadata": {},
     "output_type": "execute_result"
    }
   ],
   "source": [
    "int(dau_total)"
   ]
  },
  {
   "cell_type": "markdown",
   "metadata": {},
   "source": [
    "Сгруппируем данные по уникальным пользователям и найдём среднее для weekly active users"
   ]
  },
  {
   "cell_type": "code",
   "execution_count": 17,
   "metadata": {},
   "outputs": [],
   "source": [
    "wau_total = df_visits.groupby(['visit_year', 'visit_week']).agg({'uid': 'nunique'}).mean().round()"
   ]
  },
  {
   "cell_type": "markdown",
   "metadata": {},
   "source": [
    "Видим, что недельный показатель - 5716"
   ]
  },
  {
   "cell_type": "code",
   "execution_count": 18,
   "metadata": {},
   "outputs": [
    {
     "data": {
      "text/plain": [
       "5716"
      ]
     },
     "execution_count": 18,
     "metadata": {},
     "output_type": "execute_result"
    }
   ],
   "source": [
    "int(wau_total)"
   ]
  },
  {
   "cell_type": "markdown",
   "metadata": {},
   "source": [
    "Сгруппируем данные по уникальным пользователям и найдём среднее для monthly active users"
   ]
  },
  {
   "cell_type": "code",
   "execution_count": 19,
   "metadata": {},
   "outputs": [],
   "source": [
    "mau_total = df_visits.groupby('visit_month').agg({'uid': 'nunique'}).mean()"
   ]
  },
  {
   "cell_type": "markdown",
   "metadata": {},
   "source": [
    "Видим, что месячный показатель - 23228"
   ]
  },
  {
   "cell_type": "code",
   "execution_count": 20,
   "metadata": {},
   "outputs": [
    {
     "data": {
      "text/plain": [
       "23228"
      ]
     },
     "execution_count": 20,
     "metadata": {},
     "output_type": "execute_result"
    }
   ],
   "source": [
    "int(mau_total)"
   ]
  },
  {
   "cell_type": "code",
   "execution_count": 21,
   "metadata": {},
   "outputs": [
    {
     "data": {
      "text/plain": [
       "uid    23228.416667\n",
       "dtype: float64"
      ]
     },
     "execution_count": 21,
     "metadata": {},
     "output_type": "execute_result"
    }
   ],
   "source": [
    "mau_total"
   ]
  },
  {
   "cell_type": "markdown",
   "metadata": {},
   "source": [
    "Проведём расчёт показателя sticky factor для недели"
   ]
  },
  {
   "cell_type": "code",
   "execution_count": 22,
   "metadata": {},
   "outputs": [],
   "source": [
    "sticky_wau = (dau_total/wau_total) * 100"
   ]
  },
  {
   "cell_type": "markdown",
   "metadata": {},
   "source": [
    "Видим, что показатель - 15.9"
   ]
  },
  {
   "cell_type": "code",
   "execution_count": 23,
   "metadata": {},
   "outputs": [
    {
     "data": {
      "text/plain": [
       "uid    15.885234\n",
       "dtype: float64"
      ]
     },
     "execution_count": 23,
     "metadata": {},
     "output_type": "execute_result"
    }
   ],
   "source": [
    "sticky_wau"
   ]
  },
  {
   "cell_type": "markdown",
   "metadata": {},
   "source": [
    "Проведём расчёт показателя sticky factor для месяца"
   ]
  },
  {
   "cell_type": "code",
   "execution_count": 24,
   "metadata": {},
   "outputs": [],
   "source": [
    "sticky_mau = (dau_total/mau_total) * 100"
   ]
  },
  {
   "cell_type": "markdown",
   "metadata": {},
   "source": [
    "Видим, что показатель - 3.9"
   ]
  },
  {
   "cell_type": "code",
   "execution_count": 25,
   "metadata": {},
   "outputs": [
    {
     "data": {
      "text/plain": [
       "uid    3.909005\n",
       "dtype: float64"
      ]
     },
     "execution_count": 25,
     "metadata": {},
     "output_type": "execute_result"
    }
   ],
   "source": [
    "sticky_mau"
   ]
  },
  {
   "cell_type": "markdown",
   "metadata": {},
   "source": [
    "Изучим, сколько сессий приходится на одного пользователя, сгрупировав визиты за месяц и день"
   ]
  },
  {
   "cell_type": "code",
   "execution_count": 26,
   "metadata": {},
   "outputs": [],
   "source": [
    "sessions_per_user = df_visits.groupby(['visit_month', 'visit_day']).agg({'uid':['count', 'nunique']})\n"
   ]
  },
  {
   "cell_type": "markdown",
   "metadata": {},
   "source": [
    "Переименуем столбцы"
   ]
  },
  {
   "cell_type": "code",
   "execution_count": 27,
   "metadata": {},
   "outputs": [],
   "source": [
    "sessions_per_user.columns = ['n_sessions', 'n_users']"
   ]
  },
  {
   "cell_type": "markdown",
   "metadata": {},
   "source": [
    "Разделим число сессий на количество пользователей за период"
   ]
  },
  {
   "cell_type": "code",
   "execution_count": 28,
   "metadata": {},
   "outputs": [],
   "source": [
    "sessions_per_user['sess_per_user'] = sessions_per_user['n_sessions'] / sessions_per_user['n_users']"
   ]
  },
  {
   "cell_type": "markdown",
   "metadata": {},
   "source": [
    "Один пользователь в среднем проводит чуть больше 1-ой сессии"
   ]
  },
  {
   "cell_type": "code",
   "execution_count": 29,
   "metadata": {},
   "outputs": [
    {
     "data": {
      "text/html": [
       "<div>\n",
       "<style scoped>\n",
       "    .dataframe tbody tr th:only-of-type {\n",
       "        vertical-align: middle;\n",
       "    }\n",
       "\n",
       "    .dataframe tbody tr th {\n",
       "        vertical-align: top;\n",
       "    }\n",
       "\n",
       "    .dataframe thead th {\n",
       "        text-align: right;\n",
       "    }\n",
       "</style>\n",
       "<table border=\"1\" class=\"dataframe\">\n",
       "  <thead>\n",
       "    <tr style=\"text-align: right;\">\n",
       "      <th></th>\n",
       "      <th></th>\n",
       "      <th>n_sessions</th>\n",
       "      <th>n_users</th>\n",
       "      <th>sess_per_user</th>\n",
       "    </tr>\n",
       "    <tr>\n",
       "      <th>visit_month</th>\n",
       "      <th>visit_day</th>\n",
       "      <th></th>\n",
       "      <th></th>\n",
       "      <th></th>\n",
       "    </tr>\n",
       "  </thead>\n",
       "  <tbody>\n",
       "    <tr>\n",
       "      <td>3</td>\n",
       "      <td>2018-03-12</td>\n",
       "      <td>1293</td>\n",
       "      <td>1169</td>\n",
       "      <td>1.106074</td>\n",
       "    </tr>\n",
       "    <tr>\n",
       "      <td>11</td>\n",
       "      <td>2017-11-17</td>\n",
       "      <td>1538</td>\n",
       "      <td>1411</td>\n",
       "      <td>1.090007</td>\n",
       "    </tr>\n",
       "    <tr>\n",
       "      <td>9</td>\n",
       "      <td>2017-09-19</td>\n",
       "      <td>883</td>\n",
       "      <td>799</td>\n",
       "      <td>1.105131</td>\n",
       "    </tr>\n",
       "    <tr>\n",
       "      <td>10</td>\n",
       "      <td>2017-10-03</td>\n",
       "      <td>1289</td>\n",
       "      <td>1190</td>\n",
       "      <td>1.083193</td>\n",
       "    </tr>\n",
       "    <tr>\n",
       "      <td>7</td>\n",
       "      <td>2017-07-01</td>\n",
       "      <td>391</td>\n",
       "      <td>361</td>\n",
       "      <td>1.083102</td>\n",
       "    </tr>\n",
       "  </tbody>\n",
       "</table>\n",
       "</div>"
      ],
      "text/plain": [
       "                        n_sessions  n_users  sess_per_user\n",
       "visit_month visit_day                                     \n",
       "3           2018-03-12        1293     1169       1.106074\n",
       "11          2017-11-17        1538     1411       1.090007\n",
       "9           2017-09-19         883      799       1.105131\n",
       "10          2017-10-03        1289     1190       1.083193\n",
       "7           2017-07-01         391      361       1.083102"
      ]
     },
     "execution_count": 29,
     "metadata": {},
     "output_type": "execute_result"
    }
   ],
   "source": [
    "sessions_per_user.sample(5)"
   ]
  },
  {
   "cell_type": "markdown",
   "metadata": {},
   "source": [
    "Найдём ASL — посчитаем длину всех сессий и вычислим среднее"
   ]
  },
  {
   "cell_type": "code",
   "execution_count": 30,
   "metadata": {},
   "outputs": [
    {
     "data": {
      "text/plain": [
       "643.506488592098"
      ]
     },
     "execution_count": 30,
     "metadata": {},
     "output_type": "execute_result"
    }
   ],
   "source": [
    "df_visits['session_duration_sec'] = (df_visits['end_ts'] - df_visits['start_ts']).dt.seconds\n",
    "df_visits['session_duration_sec'].mean()"
   ]
  },
  {
   "cell_type": "markdown",
   "metadata": {},
   "source": [
    "Наше распределение не близко к нормальному, поэтому расчитаем моду"
   ]
  },
  {
   "cell_type": "code",
   "execution_count": 31,
   "metadata": {},
   "outputs": [
    {
     "data": {
      "text/plain": [
       "<matplotlib.axes._subplots.AxesSubplot at 0x7fd30ca6a128>"
      ]
     },
     "execution_count": 31,
     "metadata": {},
     "output_type": "execute_result"
    },
    {
     "data": {
      "image/png": "[encoded data removed]",
      "text/plain": [
       "<Figure size 432x288 with 1 Axes>"
      ]
     },
     "metadata": {
      "needs_background": "light"
     },
     "output_type": "display_data"
    }
   ],
   "source": [
    "df_visits['session_duration_sec'].hist(bins = 80, range = (0, 5000))\n"
   ]
  },
  {
   "cell_type": "code",
   "execution_count": 32,
   "metadata": {},
   "outputs": [],
   "source": [
    "asl = df_visits['session_duration_sec'].mode()"
   ]
  },
  {
   "cell_type": "markdown",
   "metadata": {},
   "source": [
    "Видим, что мода (значение в выборке, которое встречается чаще всего) равна 60"
   ]
  },
  {
   "cell_type": "code",
   "execution_count": 33,
   "metadata": {},
   "outputs": [
    {
     "data": {
      "text/plain": [
       "0    60\n",
       "dtype: int64"
      ]
     },
     "execution_count": 33,
     "metadata": {},
     "output_type": "execute_result"
    }
   ],
   "source": [
    "asl"
   ]
  },
  {
   "cell_type": "markdown",
   "metadata": {},
   "source": [
    "### Retention Rate"
   ]
  },
  {
   "cell_type": "markdown",
   "metadata": {},
   "source": [
    "Возьмём дату, когда пользователь впервые проявил активность"
   ]
  },
  {
   "cell_type": "code",
   "execution_count": 34,
   "metadata": {},
   "outputs": [],
   "source": [
    "first_session_date_by_customers = df_visits.groupby('uid')['start_ts'].min()"
   ]
  },
  {
   "cell_type": "code",
   "execution_count": 35,
   "metadata": {},
   "outputs": [],
   "source": [
    "first_session_date_by_customers.name = 'first_session_month'"
   ]
  },
  {
   "cell_type": "code",
   "execution_count": 36,
   "metadata": {},
   "outputs": [],
   "source": [
    "visits1 = df_visits.join(first_session_date_by_customers,on='uid')"
   ]
  },
  {
   "cell_type": "markdown",
   "metadata": {},
   "source": [
    "Переведём столбцы в нужный тип datetime64[M]"
   ]
  },
  {
   "cell_type": "code",
   "execution_count": 37,
   "metadata": {},
   "outputs": [],
   "source": [
    "visits1['first_session_month'] = visits1['first_session_month'].astype('datetime64[M]')"
   ]
  },
  {
   "cell_type": "code",
   "execution_count": 38,
   "metadata": {},
   "outputs": [],
   "source": [
    "visits1['session_month'] = visits1['start_ts'].astype('datetime64[M]')"
   ]
  },
  {
   "cell_type": "markdown",
   "metadata": {},
   "source": [
    "Для каждой строки датафрейма рассчитаем lifetime пользователя в рамках когорты"
   ]
  },
  {
   "cell_type": "code",
   "execution_count": 39,
   "metadata": {},
   "outputs": [],
   "source": [
    "visits1['cohort_lifetime'] = visits1['session_month'] - visits1['first_session_month']"
   ]
  },
  {
   "cell_type": "code",
   "execution_count": 40,
   "metadata": {},
   "outputs": [],
   "source": [
    "visits1['cohort_lifetime'] = visits1['cohort_lifetime'] / np.timedelta64(1,'M')"
   ]
  },
  {
   "cell_type": "code",
   "execution_count": 41,
   "metadata": {},
   "outputs": [],
   "source": [
    "visits1['cohort_lifetime'] = visits1['cohort_lifetime'].round().astype('int')"
   ]
  },
  {
   "cell_type": "markdown",
   "metadata": {},
   "source": [
    "Сгруппируем данные по когорте и lifetime"
   ]
  },
  {
   "cell_type": "code",
   "execution_count": 42,
   "metadata": {},
   "outputs": [],
   "source": [
    "cohorts = visits1.groupby(['first_session_month', 'cohort_lifetime']).agg({'uid': 'nunique'}).reset_index()"
   ]
  },
  {
   "cell_type": "markdown",
   "metadata": {},
   "source": [
    "Найдём исходное количество пользователей в когорте. Возьмём их число на нулевую неделю"
   ]
  },
  {
   "cell_type": "code",
   "execution_count": 43,
   "metadata": {},
   "outputs": [],
   "source": [
    "initial_users_count = cohorts[cohorts['cohort_lifetime']==0][['first_session_month', 'uid']]"
   ]
  },
  {
   "cell_type": "code",
   "execution_count": 44,
   "metadata": {},
   "outputs": [],
   "source": [
    "initial_users_count = initial_users_count.rename(columns={'uid': 'cohort_users'})"
   ]
  },
  {
   "cell_type": "markdown",
   "metadata": {},
   "source": [
    "Объединим данные по когортам с исходным количеством пользователей в когорте"
   ]
  },
  {
   "cell_type": "code",
   "execution_count": 45,
   "metadata": {},
   "outputs": [],
   "source": [
    "cohorts = cohorts.merge(initial_users_count, on='first_session_month')"
   ]
  },
  {
   "cell_type": "markdown",
   "metadata": {},
   "source": [
    "Разделим количество активных пользователей в каждую из недель на исходное число пользователей в когорте"
   ]
  },
  {
   "cell_type": "code",
   "execution_count": 46,
   "metadata": {},
   "outputs": [],
   "source": [
    "cohorts['retention'] = cohorts['uid']/cohorts['cohort_users']"
   ]
  },
  {
   "cell_type": "code",
   "execution_count": 47,
   "metadata": {},
   "outputs": [],
   "source": [
    "retention_pivot = cohorts.pivot_table(index='first_session_month', columns='cohort_lifetime',\n",
    "                                      values='retention', aggfunc='sum')"
   ]
  },
  {
   "cell_type": "code",
   "execution_count": 48,
   "metadata": {},
   "outputs": [
    {
     "data": {
      "text/html": [
       "<div>\n",
       "<style scoped>\n",
       "    .dataframe tbody tr th:only-of-type {\n",
       "        vertical-align: middle;\n",
       "    }\n",
       "\n",
       "    .dataframe tbody tr th {\n",
       "        vertical-align: top;\n",
       "    }\n",
       "\n",
       "    .dataframe thead th {\n",
       "        text-align: right;\n",
       "    }\n",
       "</style>\n",
       "<table border=\"1\" class=\"dataframe\">\n",
       "  <thead>\n",
       "    <tr style=\"text-align: right;\">\n",
       "      <th>cohort_lifetime</th>\n",
       "      <th>0</th>\n",
       "      <th>1</th>\n",
       "      <th>2</th>\n",
       "      <th>3</th>\n",
       "      <th>4</th>\n",
       "      <th>5</th>\n",
       "      <th>6</th>\n",
       "      <th>7</th>\n",
       "      <th>8</th>\n",
       "      <th>9</th>\n",
       "      <th>10</th>\n",
       "      <th>11</th>\n",
       "    </tr>\n",
       "    <tr>\n",
       "      <th>first_session_month</th>\n",
       "      <th></th>\n",
       "      <th></th>\n",
       "      <th></th>\n",
       "      <th></th>\n",
       "      <th></th>\n",
       "      <th></th>\n",
       "      <th></th>\n",
       "      <th></th>\n",
       "      <th></th>\n",
       "      <th></th>\n",
       "      <th></th>\n",
       "      <th></th>\n",
       "    </tr>\n",
       "  </thead>\n",
       "  <tbody>\n",
       "    <tr>\n",
       "      <td>2017-06-01</td>\n",
       "      <td>1.0</td>\n",
       "      <td>0.079</td>\n",
       "      <td>0.054</td>\n",
       "      <td>0.061</td>\n",
       "      <td>0.069</td>\n",
       "      <td>0.071</td>\n",
       "      <td>0.061</td>\n",
       "      <td>0.058</td>\n",
       "      <td>0.052</td>\n",
       "      <td>0.051</td>\n",
       "      <td>0.041</td>\n",
       "      <td>0.045</td>\n",
       "    </tr>\n",
       "    <tr>\n",
       "      <td>2017-07-01</td>\n",
       "      <td>1.0</td>\n",
       "      <td>0.056</td>\n",
       "      <td>0.051</td>\n",
       "      <td>0.056</td>\n",
       "      <td>0.058</td>\n",
       "      <td>0.048</td>\n",
       "      <td>0.045</td>\n",
       "      <td>0.046</td>\n",
       "      <td>0.039</td>\n",
       "      <td>0.029</td>\n",
       "      <td>0.027</td>\n",
       "      <td></td>\n",
       "    </tr>\n",
       "    <tr>\n",
       "      <td>2017-08-01</td>\n",
       "      <td>1.0</td>\n",
       "      <td>0.077</td>\n",
       "      <td>0.063</td>\n",
       "      <td>0.063</td>\n",
       "      <td>0.05</td>\n",
       "      <td>0.044</td>\n",
       "      <td>0.036</td>\n",
       "      <td>0.039</td>\n",
       "      <td>0.028</td>\n",
       "      <td>0.026</td>\n",
       "      <td></td>\n",
       "      <td></td>\n",
       "    </tr>\n",
       "    <tr>\n",
       "      <td>2017-09-01</td>\n",
       "      <td>1.0</td>\n",
       "      <td>0.085</td>\n",
       "      <td>0.069</td>\n",
       "      <td>0.051</td>\n",
       "      <td>0.039</td>\n",
       "      <td>0.038</td>\n",
       "      <td>0.036</td>\n",
       "      <td>0.024</td>\n",
       "      <td>0.023</td>\n",
       "      <td></td>\n",
       "      <td></td>\n",
       "      <td></td>\n",
       "    </tr>\n",
       "    <tr>\n",
       "      <td>2017-10-01</td>\n",
       "      <td>1.0</td>\n",
       "      <td>0.079</td>\n",
       "      <td>0.052</td>\n",
       "      <td>0.039</td>\n",
       "      <td>0.034</td>\n",
       "      <td>0.032</td>\n",
       "      <td>0.021</td>\n",
       "      <td>0.02</td>\n",
       "      <td></td>\n",
       "      <td></td>\n",
       "      <td></td>\n",
       "      <td></td>\n",
       "    </tr>\n",
       "    <tr>\n",
       "      <td>2017-11-01</td>\n",
       "      <td>1.0</td>\n",
       "      <td>0.078</td>\n",
       "      <td>0.044</td>\n",
       "      <td>0.039</td>\n",
       "      <td>0.034</td>\n",
       "      <td>0.023</td>\n",
       "      <td>0.022</td>\n",
       "      <td></td>\n",
       "      <td></td>\n",
       "      <td></td>\n",
       "      <td></td>\n",
       "      <td></td>\n",
       "    </tr>\n",
       "    <tr>\n",
       "      <td>2017-12-01</td>\n",
       "      <td>1.0</td>\n",
       "      <td>0.056</td>\n",
       "      <td>0.038</td>\n",
       "      <td>0.031</td>\n",
       "      <td>0.02</td>\n",
       "      <td>0.019</td>\n",
       "      <td></td>\n",
       "      <td></td>\n",
       "      <td></td>\n",
       "      <td></td>\n",
       "      <td></td>\n",
       "      <td></td>\n",
       "    </tr>\n",
       "    <tr>\n",
       "      <td>2018-01-01</td>\n",
       "      <td>1.0</td>\n",
       "      <td>0.06</td>\n",
       "      <td>0.039</td>\n",
       "      <td>0.025</td>\n",
       "      <td>0.02</td>\n",
       "      <td></td>\n",
       "      <td></td>\n",
       "      <td></td>\n",
       "      <td></td>\n",
       "      <td></td>\n",
       "      <td></td>\n",
       "      <td></td>\n",
       "    </tr>\n",
       "    <tr>\n",
       "      <td>2018-02-01</td>\n",
       "      <td>1.0</td>\n",
       "      <td>0.057</td>\n",
       "      <td>0.025</td>\n",
       "      <td>0.02</td>\n",
       "      <td></td>\n",
       "      <td></td>\n",
       "      <td></td>\n",
       "      <td></td>\n",
       "      <td></td>\n",
       "      <td></td>\n",
       "      <td></td>\n",
       "      <td></td>\n",
       "    </tr>\n",
       "    <tr>\n",
       "      <td>2018-03-01</td>\n",
       "      <td>1.0</td>\n",
       "      <td>0.042</td>\n",
       "      <td>0.027</td>\n",
       "      <td></td>\n",
       "      <td></td>\n",
       "      <td></td>\n",
       "      <td></td>\n",
       "      <td></td>\n",
       "      <td></td>\n",
       "      <td></td>\n",
       "      <td></td>\n",
       "      <td></td>\n",
       "    </tr>\n",
       "    <tr>\n",
       "      <td>2018-04-01</td>\n",
       "      <td>1.0</td>\n",
       "      <td>0.048</td>\n",
       "      <td></td>\n",
       "      <td></td>\n",
       "      <td></td>\n",
       "      <td></td>\n",
       "      <td></td>\n",
       "      <td></td>\n",
       "      <td></td>\n",
       "      <td></td>\n",
       "      <td></td>\n",
       "      <td></td>\n",
       "    </tr>\n",
       "    <tr>\n",
       "      <td>2018-05-01</td>\n",
       "      <td>1.0</td>\n",
       "      <td></td>\n",
       "      <td></td>\n",
       "      <td></td>\n",
       "      <td></td>\n",
       "      <td></td>\n",
       "      <td></td>\n",
       "      <td></td>\n",
       "      <td></td>\n",
       "      <td></td>\n",
       "      <td></td>\n",
       "      <td></td>\n",
       "    </tr>\n",
       "  </tbody>\n",
       "</table>\n",
       "</div>"
      ],
      "text/plain": [
       "cohort_lifetime       0      1      2      3      4      5      6      7   \\\n",
       "first_session_month                                                         \n",
       "2017-06-01           1.0  0.079  0.054  0.061  0.069  0.071  0.061  0.058   \n",
       "2017-07-01           1.0  0.056  0.051  0.056  0.058  0.048  0.045  0.046   \n",
       "2017-08-01           1.0  0.077  0.063  0.063   0.05  0.044  0.036  0.039   \n",
       "2017-09-01           1.0  0.085  0.069  0.051  0.039  0.038  0.036  0.024   \n",
       "2017-10-01           1.0  0.079  0.052  0.039  0.034  0.032  0.021   0.02   \n",
       "2017-11-01           1.0  0.078  0.044  0.039  0.034  0.023  0.022          \n",
       "2017-12-01           1.0  0.056  0.038  0.031   0.02  0.019                 \n",
       "2018-01-01           1.0   0.06  0.039  0.025   0.02                        \n",
       "2018-02-01           1.0  0.057  0.025   0.02                               \n",
       "2018-03-01           1.0  0.042  0.027                                      \n",
       "2018-04-01           1.0  0.048                                             \n",
       "2018-05-01           1.0                                                    \n",
       "\n",
       "cohort_lifetime         8      9      10     11  \n",
       "first_session_month                              \n",
       "2017-06-01           0.052  0.051  0.041  0.045  \n",
       "2017-07-01           0.039  0.029  0.027         \n",
       "2017-08-01           0.028  0.026                \n",
       "2017-09-01           0.023                       \n",
       "2017-10-01                                       \n",
       "2017-11-01                                       \n",
       "2017-12-01                                       \n",
       "2018-01-01                                       \n",
       "2018-02-01                                       \n",
       "2018-03-01                                       \n",
       "2018-04-01                                       \n",
       "2018-05-01                                       "
      ]
     },
     "execution_count": 48,
     "metadata": {},
     "output_type": "execute_result"
    }
   ],
   "source": [
    "retention_pivot.round(3).fillna('')"
   ]
  },
  {
   "cell_type": "code",
   "execution_count": 49,
   "metadata": {},
   "outputs": [
    {
     "data": {
      "image/png": "[encoded data removed]",
      "text/plain": [
       "<Figure size 936x648 with 2 Axes>"
      ]
     },
     "metadata": {},
     "output_type": "display_data"
    }
   ],
   "source": [
    "sns.set(style='white')\n",
    "plt.figure(figsize=(13, 9))\n",
    "plt.title('Cohorts: User Retention')\n",
    "sns.heatmap(retention_pivot, annot=True, fmt='.1%', linewidths=1, linecolor='gray', cmap = 'Blues');"
   ]
  },
  {
   "cell_type": "markdown",
   "metadata": {},
   "source": [
    "### Изучим продажи"
   ]
  },
  {
   "cell_type": "markdown",
   "metadata": {},
   "source": [
    "Изучим файл *df_orders*"
   ]
  },
  {
   "cell_type": "code",
   "execution_count": 50,
   "metadata": {},
   "outputs": [
    {
     "data": {
      "text/html": [
       "<div>\n",
       "<style scoped>\n",
       "    .dataframe tbody tr th:only-of-type {\n",
       "        vertical-align: middle;\n",
       "    }\n",
       "\n",
       "    .dataframe tbody tr th {\n",
       "        vertical-align: top;\n",
       "    }\n",
       "\n",
       "    .dataframe thead th {\n",
       "        text-align: right;\n",
       "    }\n",
       "</style>\n",
       "<table border=\"1\" class=\"dataframe\">\n",
       "  <thead>\n",
       "    <tr style=\"text-align: right;\">\n",
       "      <th></th>\n",
       "      <th>Buy Ts</th>\n",
       "      <th>Revenue</th>\n",
       "      <th>Uid</th>\n",
       "    </tr>\n",
       "  </thead>\n",
       "  <tbody>\n",
       "    <tr>\n",
       "      <td>0</td>\n",
       "      <td>2017-06-01 00:10:00</td>\n",
       "      <td>17.00</td>\n",
       "      <td>10329302124590727494</td>\n",
       "    </tr>\n",
       "    <tr>\n",
       "      <td>1</td>\n",
       "      <td>2017-06-01 00:25:00</td>\n",
       "      <td>0.55</td>\n",
       "      <td>11627257723692907447</td>\n",
       "    </tr>\n",
       "    <tr>\n",
       "      <td>2</td>\n",
       "      <td>2017-06-01 00:27:00</td>\n",
       "      <td>0.37</td>\n",
       "      <td>17903680561304213844</td>\n",
       "    </tr>\n",
       "    <tr>\n",
       "      <td>3</td>\n",
       "      <td>2017-06-01 00:29:00</td>\n",
       "      <td>0.55</td>\n",
       "      <td>16109239769442553005</td>\n",
       "    </tr>\n",
       "    <tr>\n",
       "      <td>4</td>\n",
       "      <td>2017-06-01 07:58:00</td>\n",
       "      <td>0.37</td>\n",
       "      <td>14200605875248379450</td>\n",
       "    </tr>\n",
       "    <tr>\n",
       "      <td>...</td>\n",
       "      <td>...</td>\n",
       "      <td>...</td>\n",
       "      <td>...</td>\n",
       "    </tr>\n",
       "    <tr>\n",
       "      <td>50410</td>\n",
       "      <td>2018-05-31 23:50:00</td>\n",
       "      <td>4.64</td>\n",
       "      <td>12296626599487328624</td>\n",
       "    </tr>\n",
       "    <tr>\n",
       "      <td>50411</td>\n",
       "      <td>2018-05-31 23:50:00</td>\n",
       "      <td>5.80</td>\n",
       "      <td>11369640365507475976</td>\n",
       "    </tr>\n",
       "    <tr>\n",
       "      <td>50412</td>\n",
       "      <td>2018-05-31 23:54:00</td>\n",
       "      <td>0.30</td>\n",
       "      <td>1786462140797698849</td>\n",
       "    </tr>\n",
       "    <tr>\n",
       "      <td>50413</td>\n",
       "      <td>2018-05-31 23:56:00</td>\n",
       "      <td>3.67</td>\n",
       "      <td>3993697860786194247</td>\n",
       "    </tr>\n",
       "    <tr>\n",
       "      <td>50414</td>\n",
       "      <td>2018-06-01 00:02:00</td>\n",
       "      <td>3.42</td>\n",
       "      <td>83872787173869366</td>\n",
       "    </tr>\n",
       "  </tbody>\n",
       "</table>\n",
       "<p>50415 rows × 3 columns</p>\n",
       "</div>"
      ],
      "text/plain": [
       "                    Buy Ts  Revenue                   Uid\n",
       "0      2017-06-01 00:10:00    17.00  10329302124590727494\n",
       "1      2017-06-01 00:25:00     0.55  11627257723692907447\n",
       "2      2017-06-01 00:27:00     0.37  17903680561304213844\n",
       "3      2017-06-01 00:29:00     0.55  16109239769442553005\n",
       "4      2017-06-01 07:58:00     0.37  14200605875248379450\n",
       "...                    ...      ...                   ...\n",
       "50410  2018-05-31 23:50:00     4.64  12296626599487328624\n",
       "50411  2018-05-31 23:50:00     5.80  11369640365507475976\n",
       "50412  2018-05-31 23:54:00     0.30   1786462140797698849\n",
       "50413  2018-05-31 23:56:00     3.67   3993697860786194247\n",
       "50414  2018-06-01 00:02:00     3.42     83872787173869366\n",
       "\n",
       "[50415 rows x 3 columns]"
      ]
     },
     "execution_count": 50,
     "metadata": {},
     "output_type": "execute_result"
    }
   ],
   "source": [
    "df_orders"
   ]
  },
  {
   "cell_type": "markdown",
   "metadata": {},
   "source": [
    "Переименуем столбцы для более удобной работы"
   ]
  },
  {
   "cell_type": "code",
   "execution_count": 51,
   "metadata": {},
   "outputs": [],
   "source": [
    "df_orders.rename(columns={'Unnamed: 0': 'named', \n",
    "                          'Buy Ts': 'buy_ts', \n",
    "                          'Revenue': 'revenue',\n",
    "                          'Uid': 'uid'}, inplace = True)"
   ]
  },
  {
   "cell_type": "markdown",
   "metadata": {},
   "source": [
    "Посмотрим столбцы"
   ]
  },
  {
   "cell_type": "code",
   "execution_count": 52,
   "metadata": {},
   "outputs": [
    {
     "data": {
      "text/html": [
       "<div>\n",
       "<style scoped>\n",
       "    .dataframe tbody tr th:only-of-type {\n",
       "        vertical-align: middle;\n",
       "    }\n",
       "\n",
       "    .dataframe tbody tr th {\n",
       "        vertical-align: top;\n",
       "    }\n",
       "\n",
       "    .dataframe thead th {\n",
       "        text-align: right;\n",
       "    }\n",
       "</style>\n",
       "<table border=\"1\" class=\"dataframe\">\n",
       "  <thead>\n",
       "    <tr style=\"text-align: right;\">\n",
       "      <th></th>\n",
       "      <th>buy_ts</th>\n",
       "      <th>revenue</th>\n",
       "      <th>uid</th>\n",
       "    </tr>\n",
       "  </thead>\n",
       "  <tbody>\n",
       "    <tr>\n",
       "      <td>26235</td>\n",
       "      <td>2017-12-26 17:09:00</td>\n",
       "      <td>2.44</td>\n",
       "      <td>4435931324057795549</td>\n",
       "    </tr>\n",
       "    <tr>\n",
       "      <td>45957</td>\n",
       "      <td>2018-04-29 13:39:00</td>\n",
       "      <td>7.82</td>\n",
       "      <td>2907159537784984698</td>\n",
       "    </tr>\n",
       "    <tr>\n",
       "      <td>41643</td>\n",
       "      <td>2018-03-25 07:40:00</td>\n",
       "      <td>0.44</td>\n",
       "      <td>1696674919164997679</td>\n",
       "    </tr>\n",
       "    <tr>\n",
       "      <td>5181</td>\n",
       "      <td>2017-08-11 12:24:00</td>\n",
       "      <td>0.85</td>\n",
       "      <td>1689785186224179658</td>\n",
       "    </tr>\n",
       "    <tr>\n",
       "      <td>31483</td>\n",
       "      <td>2018-01-28 18:13:00</td>\n",
       "      <td>2.93</td>\n",
       "      <td>7357895473102531043</td>\n",
       "    </tr>\n",
       "  </tbody>\n",
       "</table>\n",
       "</div>"
      ],
      "text/plain": [
       "                    buy_ts  revenue                  uid\n",
       "26235  2017-12-26 17:09:00     2.44  4435931324057795549\n",
       "45957  2018-04-29 13:39:00     7.82  2907159537784984698\n",
       "41643  2018-03-25 07:40:00     0.44  1696674919164997679\n",
       "5181   2017-08-11 12:24:00     0.85  1689785186224179658\n",
       "31483  2018-01-28 18:13:00     2.93  7357895473102531043"
      ]
     },
     "execution_count": 52,
     "metadata": {},
     "output_type": "execute_result"
    }
   ],
   "source": [
    "df_orders.sample(5)"
   ]
  },
  {
   "cell_type": "markdown",
   "metadata": {},
   "source": [
    "Переведём столбец со временем в нужный тип"
   ]
  },
  {
   "cell_type": "code",
   "execution_count": 53,
   "metadata": {},
   "outputs": [],
   "source": [
    "df_orders['buy_ts'] = pd.to_datetime(df_orders['buy_ts'], format =\"%Y.%m.%d %H:%M\")\n",
    "\n"
   ]
  },
  {
   "cell_type": "code",
   "execution_count": 54,
   "metadata": {},
   "outputs": [],
   "source": [
    "first_order_date_by_customers = df_orders.groupby('uid')['buy_ts'].min() \n"
   ]
  },
  {
   "cell_type": "markdown",
   "metadata": {},
   "source": [
    "Просмотрим результат"
   ]
  },
  {
   "cell_type": "code",
   "execution_count": 55,
   "metadata": {},
   "outputs": [
    {
     "data": {
      "text/plain": [
       "uid\n",
       "402880731712871855    2017-09-07 22:09:00\n",
       "4112000166055013800   2017-12-26 16:43:00\n",
       "5591931657833998998   2018-04-07 11:40:00\n",
       "8409001743276203013   2018-02-02 19:50:00\n",
       "5995674724016678055   2017-11-29 11:49:00\n",
       "Name: buy_ts, dtype: datetime64[ns]"
      ]
     },
     "execution_count": 55,
     "metadata": {},
     "output_type": "execute_result"
    }
   ],
   "source": [
    "first_order_date_by_customers.sample(5)"
   ]
  },
  {
   "cell_type": "markdown",
   "metadata": {},
   "source": [
    "Изменим имя Series на first_order_date, обратившись к атрибуту name у Series"
   ]
  },
  {
   "cell_type": "code",
   "execution_count": 56,
   "metadata": {},
   "outputs": [],
   "source": [
    "first_order_date_by_customers.name = 'first_order_date'"
   ]
  },
  {
   "cell_type": "markdown",
   "metadata": {},
   "source": [
    "Методом join() объединим датафрейм df_orders и Series first_order_date_by_customers по столбцу 'uid' в датафрейм orders"
   ]
  },
  {
   "cell_type": "code",
   "execution_count": 57,
   "metadata": {},
   "outputs": [],
   "source": [
    "orders = df_orders.join(first_order_date_by_customers,on='uid')\n"
   ]
  },
  {
   "cell_type": "code",
   "execution_count": 58,
   "metadata": {},
   "outputs": [
    {
     "data": {
      "text/plain": [
       "uid\n",
       "313578113262317        2018-01-03 21:51:00\n",
       "1575281904278712       2017-06-03 10:13:00\n",
       "2429014661409475       2017-10-11 18:33:00\n",
       "2464366381792757       2018-01-28 15:54:00\n",
       "2551852515556206       2017-11-24 10:14:00\n",
       "                               ...        \n",
       "18445147675727495770   2017-11-24 09:03:00\n",
       "18445407535914413204   2017-09-22 23:55:00\n",
       "18445601152732270159   2018-03-26 22:54:00\n",
       "18446156210226471712   2018-02-18 19:34:00\n",
       "18446167067214817906   2017-10-17 10:16:00\n",
       "Name: first_order_date, Length: 36523, dtype: datetime64[ns]"
      ]
     },
     "execution_count": 58,
     "metadata": {},
     "output_type": "execute_result"
    }
   ],
   "source": [
    "first_order_date_by_customers"
   ]
  },
  {
   "cell_type": "markdown",
   "metadata": {},
   "source": [
    "Посмотрми на результат"
   ]
  },
  {
   "cell_type": "code",
   "execution_count": 59,
   "metadata": {},
   "outputs": [
    {
     "data": {
      "text/html": [
       "<div>\n",
       "<style scoped>\n",
       "    .dataframe tbody tr th:only-of-type {\n",
       "        vertical-align: middle;\n",
       "    }\n",
       "\n",
       "    .dataframe tbody tr th {\n",
       "        vertical-align: top;\n",
       "    }\n",
       "\n",
       "    .dataframe thead th {\n",
       "        text-align: right;\n",
       "    }\n",
       "</style>\n",
       "<table border=\"1\" class=\"dataframe\">\n",
       "  <thead>\n",
       "    <tr style=\"text-align: right;\">\n",
       "      <th></th>\n",
       "      <th>buy_ts</th>\n",
       "      <th>revenue</th>\n",
       "      <th>uid</th>\n",
       "      <th>first_order_date</th>\n",
       "    </tr>\n",
       "  </thead>\n",
       "  <tbody>\n",
       "    <tr>\n",
       "      <td>10481</td>\n",
       "      <td>2017-10-04 09:11:00</td>\n",
       "      <td>0.55</td>\n",
       "      <td>2355117916482869091</td>\n",
       "      <td>2017-10-04 09:11:00</td>\n",
       "    </tr>\n",
       "    <tr>\n",
       "      <td>37738</td>\n",
       "      <td>2018-03-02 13:12:00</td>\n",
       "      <td>3.67</td>\n",
       "      <td>10805119391862435819</td>\n",
       "      <td>2018-03-02 13:12:00</td>\n",
       "    </tr>\n",
       "    <tr>\n",
       "      <td>33587</td>\n",
       "      <td>2018-02-08 16:20:00</td>\n",
       "      <td>1.83</td>\n",
       "      <td>6774496153642655881</td>\n",
       "      <td>2018-02-08 16:20:00</td>\n",
       "    </tr>\n",
       "    <tr>\n",
       "      <td>14069</td>\n",
       "      <td>2017-10-22 20:12:00</td>\n",
       "      <td>2.08</td>\n",
       "      <td>16507828257613250154</td>\n",
       "      <td>2017-10-22 20:12:00</td>\n",
       "    </tr>\n",
       "    <tr>\n",
       "      <td>27893</td>\n",
       "      <td>2018-01-03 17:20:00</td>\n",
       "      <td>1.83</td>\n",
       "      <td>1850478907071365512</td>\n",
       "      <td>2017-10-26 11:20:00</td>\n",
       "    </tr>\n",
       "  </tbody>\n",
       "</table>\n",
       "</div>"
      ],
      "text/plain": [
       "                   buy_ts  revenue                   uid    first_order_date\n",
       "10481 2017-10-04 09:11:00     0.55   2355117916482869091 2017-10-04 09:11:00\n",
       "37738 2018-03-02 13:12:00     3.67  10805119391862435819 2018-03-02 13:12:00\n",
       "33587 2018-02-08 16:20:00     1.83   6774496153642655881 2018-02-08 16:20:00\n",
       "14069 2017-10-22 20:12:00     2.08  16507828257613250154 2017-10-22 20:12:00\n",
       "27893 2018-01-03 17:20:00     1.83   1850478907071365512 2017-10-26 11:20:00"
      ]
     },
     "execution_count": 59,
     "metadata": {},
     "output_type": "execute_result"
    }
   ],
   "source": [
    "orders.sample(5)"
   ]
  },
  {
   "cell_type": "markdown",
   "metadata": {},
   "source": [
    "Вызовем метод astype() и преобразуем значения столбцов к типу 'datetime64[M]'"
   ]
  },
  {
   "cell_type": "code",
   "execution_count": 60,
   "metadata": {},
   "outputs": [],
   "source": [
    "orders['first_order_month'] = orders['first_order_date'].astype('datetime64[M]')"
   ]
  },
  {
   "cell_type": "code",
   "execution_count": 61,
   "metadata": {},
   "outputs": [],
   "source": [
    "orders['order_month'] = orders['buy_ts'].astype('datetime64[M]')\n"
   ]
  },
  {
   "cell_type": "markdown",
   "metadata": {},
   "source": [
    "Посмотрим на результат"
   ]
  },
  {
   "cell_type": "code",
   "execution_count": 62,
   "metadata": {},
   "outputs": [
    {
     "data": {
      "text/html": [
       "<div>\n",
       "<style scoped>\n",
       "    .dataframe tbody tr th:only-of-type {\n",
       "        vertical-align: middle;\n",
       "    }\n",
       "\n",
       "    .dataframe tbody tr th {\n",
       "        vertical-align: top;\n",
       "    }\n",
       "\n",
       "    .dataframe thead th {\n",
       "        text-align: right;\n",
       "    }\n",
       "</style>\n",
       "<table border=\"1\" class=\"dataframe\">\n",
       "  <thead>\n",
       "    <tr style=\"text-align: right;\">\n",
       "      <th></th>\n",
       "      <th>buy_ts</th>\n",
       "      <th>revenue</th>\n",
       "      <th>uid</th>\n",
       "      <th>first_order_date</th>\n",
       "      <th>first_order_month</th>\n",
       "      <th>order_month</th>\n",
       "    </tr>\n",
       "  </thead>\n",
       "  <tbody>\n",
       "    <tr>\n",
       "      <td>36446</td>\n",
       "      <td>2018-02-22 17:28:00</td>\n",
       "      <td>4.89</td>\n",
       "      <td>15468122609603359988</td>\n",
       "      <td>2018-02-22 17:28:00</td>\n",
       "      <td>2018-02-01</td>\n",
       "      <td>2018-02-01</td>\n",
       "    </tr>\n",
       "    <tr>\n",
       "      <td>10860</td>\n",
       "      <td>2017-10-05 16:57:00</td>\n",
       "      <td>6.61</td>\n",
       "      <td>16198092435581042108</td>\n",
       "      <td>2017-10-05 16:57:00</td>\n",
       "      <td>2017-10-01</td>\n",
       "      <td>2017-10-01</td>\n",
       "    </tr>\n",
       "    <tr>\n",
       "      <td>4795</td>\n",
       "      <td>2017-08-02 20:30:00</td>\n",
       "      <td>0.61</td>\n",
       "      <td>7358976485213746170</td>\n",
       "      <td>2017-06-05 01:35:00</td>\n",
       "      <td>2017-06-01</td>\n",
       "      <td>2017-08-01</td>\n",
       "    </tr>\n",
       "    <tr>\n",
       "      <td>27697</td>\n",
       "      <td>2018-01-02 16:07:00</td>\n",
       "      <td>2.44</td>\n",
       "      <td>3711710598491146509</td>\n",
       "      <td>2018-01-02 16:07:00</td>\n",
       "      <td>2018-01-01</td>\n",
       "      <td>2018-01-01</td>\n",
       "    </tr>\n",
       "    <tr>\n",
       "      <td>42018</td>\n",
       "      <td>2018-03-26 12:48:00</td>\n",
       "      <td>3.05</td>\n",
       "      <td>4536413950946237341</td>\n",
       "      <td>2018-03-26 12:48:00</td>\n",
       "      <td>2018-03-01</td>\n",
       "      <td>2018-03-01</td>\n",
       "    </tr>\n",
       "  </tbody>\n",
       "</table>\n",
       "</div>"
      ],
      "text/plain": [
       "                   buy_ts  revenue                   uid    first_order_date  \\\n",
       "36446 2018-02-22 17:28:00     4.89  15468122609603359988 2018-02-22 17:28:00   \n",
       "10860 2017-10-05 16:57:00     6.61  16198092435581042108 2017-10-05 16:57:00   \n",
       "4795  2017-08-02 20:30:00     0.61   7358976485213746170 2017-06-05 01:35:00   \n",
       "27697 2018-01-02 16:07:00     2.44   3711710598491146509 2018-01-02 16:07:00   \n",
       "42018 2018-03-26 12:48:00     3.05   4536413950946237341 2018-03-26 12:48:00   \n",
       "\n",
       "      first_order_month order_month  \n",
       "36446        2018-02-01  2018-02-01  \n",
       "10860        2017-10-01  2017-10-01  \n",
       "4795         2017-06-01  2017-08-01  \n",
       "27697        2018-01-01  2018-01-01  \n",
       "42018        2018-03-01  2018-03-01  "
      ]
     },
     "execution_count": 62,
     "metadata": {},
     "output_type": "execute_result"
    }
   ],
   "source": [
    "orders.sample(5)"
   ]
  },
  {
   "cell_type": "markdown",
   "metadata": {},
   "source": [
    "Сгруппируем данные по этому столбцу и оценим показатели каждой когорты"
   ]
  },
  {
   "cell_type": "code",
   "execution_count": 63,
   "metadata": {},
   "outputs": [],
   "source": [
    "cohort_grouped = orders.groupby('first_order_month').agg({'uid':'nunique',\n",
    "                                                          'revenue':'sum'})"
   ]
  },
  {
   "cell_type": "code",
   "execution_count": 64,
   "metadata": {},
   "outputs": [
    {
     "data": {
      "text/html": [
       "<div>\n",
       "<style scoped>\n",
       "    .dataframe tbody tr th:only-of-type {\n",
       "        vertical-align: middle;\n",
       "    }\n",
       "\n",
       "    .dataframe tbody tr th {\n",
       "        vertical-align: top;\n",
       "    }\n",
       "\n",
       "    .dataframe thead th {\n",
       "        text-align: right;\n",
       "    }\n",
       "</style>\n",
       "<table border=\"1\" class=\"dataframe\">\n",
       "  <thead>\n",
       "    <tr style=\"text-align: right;\">\n",
       "      <th></th>\n",
       "      <th>uid</th>\n",
       "      <th>revenue</th>\n",
       "    </tr>\n",
       "    <tr>\n",
       "      <th>first_order_month</th>\n",
       "      <th></th>\n",
       "      <th></th>\n",
       "    </tr>\n",
       "  </thead>\n",
       "  <tbody>\n",
       "    <tr>\n",
       "      <td>2017-06-01</td>\n",
       "      <td>2023</td>\n",
       "      <td>24031.69</td>\n",
       "    </tr>\n",
       "    <tr>\n",
       "      <td>2017-07-01</td>\n",
       "      <td>1923</td>\n",
       "      <td>16127.92</td>\n",
       "    </tr>\n",
       "    <tr>\n",
       "      <td>2017-08-01</td>\n",
       "      <td>1370</td>\n",
       "      <td>11606.26</td>\n",
       "    </tr>\n",
       "    <tr>\n",
       "      <td>2017-09-01</td>\n",
       "      <td>2581</td>\n",
       "      <td>34676.32</td>\n",
       "    </tr>\n",
       "    <tr>\n",
       "      <td>2017-10-01</td>\n",
       "      <td>4340</td>\n",
       "      <td>27603.45</td>\n",
       "    </tr>\n",
       "    <tr>\n",
       "      <td>2017-11-01</td>\n",
       "      <td>4081</td>\n",
       "      <td>26098.99</td>\n",
       "    </tr>\n",
       "    <tr>\n",
       "      <td>2017-12-01</td>\n",
       "      <td>4383</td>\n",
       "      <td>33485.74</td>\n",
       "    </tr>\n",
       "    <tr>\n",
       "      <td>2018-01-01</td>\n",
       "      <td>3373</td>\n",
       "      <td>16663.13</td>\n",
       "    </tr>\n",
       "    <tr>\n",
       "      <td>2018-02-01</td>\n",
       "      <td>3651</td>\n",
       "      <td>16750.50</td>\n",
       "    </tr>\n",
       "    <tr>\n",
       "      <td>2018-03-01</td>\n",
       "      <td>3533</td>\n",
       "      <td>19273.41</td>\n",
       "    </tr>\n",
       "    <tr>\n",
       "      <td>2018-04-01</td>\n",
       "      <td>2276</td>\n",
       "      <td>11810.61</td>\n",
       "    </tr>\n",
       "    <tr>\n",
       "      <td>2018-05-01</td>\n",
       "      <td>2988</td>\n",
       "      <td>13925.76</td>\n",
       "    </tr>\n",
       "    <tr>\n",
       "      <td>2018-06-01</td>\n",
       "      <td>1</td>\n",
       "      <td>3.42</td>\n",
       "    </tr>\n",
       "  </tbody>\n",
       "</table>\n",
       "</div>"
      ],
      "text/plain": [
       "                    uid   revenue\n",
       "first_order_month                \n",
       "2017-06-01         2023  24031.69\n",
       "2017-07-01         1923  16127.92\n",
       "2017-08-01         1370  11606.26\n",
       "2017-09-01         2581  34676.32\n",
       "2017-10-01         4340  27603.45\n",
       "2017-11-01         4081  26098.99\n",
       "2017-12-01         4383  33485.74\n",
       "2018-01-01         3373  16663.13\n",
       "2018-02-01         3651  16750.50\n",
       "2018-03-01         3533  19273.41\n",
       "2018-04-01         2276  11810.61\n",
       "2018-05-01         2988  13925.76\n",
       "2018-06-01            1      3.42"
      ]
     },
     "execution_count": 64,
     "metadata": {},
     "output_type": "execute_result"
    }
   ],
   "source": [
    "cohort_grouped"
   ]
  },
  {
   "cell_type": "markdown",
   "metadata": {},
   "source": [
    "### Оценка изменений абсолютных показателей по месяцам"
   ]
  },
  {
   "cell_type": "markdown",
   "metadata": {},
   "source": [
    "Отследис, как изменяется количество покупающих пользователей внутри одной когорты. Это позволит понять, сколько людей продолжают покупать в следующих месяцах после совершения первой покупки. "
   ]
  },
  {
   "cell_type": "code",
   "execution_count": 65,
   "metadata": {},
   "outputs": [
    {
     "data": {
      "text/html": [
       "<div>\n",
       "<style scoped>\n",
       "    .dataframe tbody tr th:only-of-type {\n",
       "        vertical-align: middle;\n",
       "    }\n",
       "\n",
       "    .dataframe tbody tr th {\n",
       "        vertical-align: top;\n",
       "    }\n",
       "\n",
       "    .dataframe thead th {\n",
       "        text-align: right;\n",
       "    }\n",
       "</style>\n",
       "<table border=\"1\" class=\"dataframe\">\n",
       "  <thead>\n",
       "    <tr style=\"text-align: right;\">\n",
       "      <th>order_month</th>\n",
       "      <th>2017-06-01</th>\n",
       "      <th>2017-07-01</th>\n",
       "      <th>2017-08-01</th>\n",
       "      <th>2017-09-01</th>\n",
       "      <th>2017-10-01</th>\n",
       "      <th>2017-11-01</th>\n",
       "      <th>2017-12-01</th>\n",
       "      <th>2018-01-01</th>\n",
       "      <th>2018-02-01</th>\n",
       "      <th>2018-03-01</th>\n",
       "      <th>2018-04-01</th>\n",
       "      <th>2018-05-01</th>\n",
       "      <th>2018-06-01</th>\n",
       "    </tr>\n",
       "    <tr>\n",
       "      <th>first_order_month</th>\n",
       "      <th></th>\n",
       "      <th></th>\n",
       "      <th></th>\n",
       "      <th></th>\n",
       "      <th></th>\n",
       "      <th></th>\n",
       "      <th></th>\n",
       "      <th></th>\n",
       "      <th></th>\n",
       "      <th></th>\n",
       "      <th></th>\n",
       "      <th></th>\n",
       "      <th></th>\n",
       "    </tr>\n",
       "  </thead>\n",
       "  <tbody>\n",
       "    <tr>\n",
       "      <td>2017-06-01</td>\n",
       "      <td>2023</td>\n",
       "      <td>61</td>\n",
       "      <td>50</td>\n",
       "      <td>54</td>\n",
       "      <td>88</td>\n",
       "      <td>67</td>\n",
       "      <td>62</td>\n",
       "      <td>47</td>\n",
       "      <td>58</td>\n",
       "      <td>45</td>\n",
       "      <td>45</td>\n",
       "      <td>53</td>\n",
       "      <td></td>\n",
       "    </tr>\n",
       "    <tr>\n",
       "      <td>2017-07-01</td>\n",
       "      <td></td>\n",
       "      <td>1923</td>\n",
       "      <td>52</td>\n",
       "      <td>57</td>\n",
       "      <td>64</td>\n",
       "      <td>49</td>\n",
       "      <td>38</td>\n",
       "      <td>36</td>\n",
       "      <td>39</td>\n",
       "      <td>42</td>\n",
       "      <td>22</td>\n",
       "      <td>26</td>\n",
       "      <td></td>\n",
       "    </tr>\n",
       "    <tr>\n",
       "      <td>2017-08-01</td>\n",
       "      <td></td>\n",
       "      <td></td>\n",
       "      <td>1370</td>\n",
       "      <td>58</td>\n",
       "      <td>53</td>\n",
       "      <td>44</td>\n",
       "      <td>40</td>\n",
       "      <td>32</td>\n",
       "      <td>30</td>\n",
       "      <td>44</td>\n",
       "      <td>19</td>\n",
       "      <td>31</td>\n",
       "      <td></td>\n",
       "    </tr>\n",
       "    <tr>\n",
       "      <td>2017-09-01</td>\n",
       "      <td></td>\n",
       "      <td></td>\n",
       "      <td></td>\n",
       "      <td>2581</td>\n",
       "      <td>130</td>\n",
       "      <td>100</td>\n",
       "      <td>74</td>\n",
       "      <td>52</td>\n",
       "      <td>64</td>\n",
       "      <td>66</td>\n",
       "      <td>37</td>\n",
       "      <td>43</td>\n",
       "      <td></td>\n",
       "    </tr>\n",
       "    <tr>\n",
       "      <td>2017-10-01</td>\n",
       "      <td></td>\n",
       "      <td></td>\n",
       "      <td></td>\n",
       "      <td></td>\n",
       "      <td>4340</td>\n",
       "      <td>206</td>\n",
       "      <td>123</td>\n",
       "      <td>92</td>\n",
       "      <td>93</td>\n",
       "      <td>72</td>\n",
       "      <td>56</td>\n",
       "      <td>67</td>\n",
       "      <td></td>\n",
       "    </tr>\n",
       "    <tr>\n",
       "      <td>2017-11-01</td>\n",
       "      <td></td>\n",
       "      <td></td>\n",
       "      <td></td>\n",
       "      <td></td>\n",
       "      <td></td>\n",
       "      <td>4081</td>\n",
       "      <td>222</td>\n",
       "      <td>120</td>\n",
       "      <td>106</td>\n",
       "      <td>81</td>\n",
       "      <td>48</td>\n",
       "      <td>62</td>\n",
       "      <td></td>\n",
       "    </tr>\n",
       "    <tr>\n",
       "      <td>2017-12-01</td>\n",
       "      <td></td>\n",
       "      <td></td>\n",
       "      <td></td>\n",
       "      <td></td>\n",
       "      <td></td>\n",
       "      <td></td>\n",
       "      <td>4383</td>\n",
       "      <td>146</td>\n",
       "      <td>103</td>\n",
       "      <td>97</td>\n",
       "      <td>50</td>\n",
       "      <td>63</td>\n",
       "      <td></td>\n",
       "    </tr>\n",
       "    <tr>\n",
       "      <td>2018-01-01</td>\n",
       "      <td></td>\n",
       "      <td></td>\n",
       "      <td></td>\n",
       "      <td></td>\n",
       "      <td></td>\n",
       "      <td></td>\n",
       "      <td></td>\n",
       "      <td>3373</td>\n",
       "      <td>114</td>\n",
       "      <td>83</td>\n",
       "      <td>43</td>\n",
       "      <td>45</td>\n",
       "      <td></td>\n",
       "    </tr>\n",
       "    <tr>\n",
       "      <td>2018-02-01</td>\n",
       "      <td></td>\n",
       "      <td></td>\n",
       "      <td></td>\n",
       "      <td></td>\n",
       "      <td></td>\n",
       "      <td></td>\n",
       "      <td></td>\n",
       "      <td></td>\n",
       "      <td>3651</td>\n",
       "      <td>118</td>\n",
       "      <td>58</td>\n",
       "      <td>39</td>\n",
       "      <td></td>\n",
       "    </tr>\n",
       "    <tr>\n",
       "      <td>2018-03-01</td>\n",
       "      <td></td>\n",
       "      <td></td>\n",
       "      <td></td>\n",
       "      <td></td>\n",
       "      <td></td>\n",
       "      <td></td>\n",
       "      <td></td>\n",
       "      <td></td>\n",
       "      <td></td>\n",
       "      <td>3533</td>\n",
       "      <td>90</td>\n",
       "      <td>58</td>\n",
       "      <td></td>\n",
       "    </tr>\n",
       "    <tr>\n",
       "      <td>2018-04-01</td>\n",
       "      <td></td>\n",
       "      <td></td>\n",
       "      <td></td>\n",
       "      <td></td>\n",
       "      <td></td>\n",
       "      <td></td>\n",
       "      <td></td>\n",
       "      <td></td>\n",
       "      <td></td>\n",
       "      <td></td>\n",
       "      <td>2276</td>\n",
       "      <td>69</td>\n",
       "      <td></td>\n",
       "    </tr>\n",
       "    <tr>\n",
       "      <td>2018-05-01</td>\n",
       "      <td></td>\n",
       "      <td></td>\n",
       "      <td></td>\n",
       "      <td></td>\n",
       "      <td></td>\n",
       "      <td></td>\n",
       "      <td></td>\n",
       "      <td></td>\n",
       "      <td></td>\n",
       "      <td></td>\n",
       "      <td></td>\n",
       "      <td>2988</td>\n",
       "      <td></td>\n",
       "    </tr>\n",
       "    <tr>\n",
       "      <td>2018-06-01</td>\n",
       "      <td></td>\n",
       "      <td></td>\n",
       "      <td></td>\n",
       "      <td></td>\n",
       "      <td></td>\n",
       "      <td></td>\n",
       "      <td></td>\n",
       "      <td></td>\n",
       "      <td></td>\n",
       "      <td></td>\n",
       "      <td></td>\n",
       "      <td></td>\n",
       "      <td>1</td>\n",
       "    </tr>\n",
       "  </tbody>\n",
       "</table>\n",
       "</div>"
      ],
      "text/plain": [
       "order_month       2017-06-01 2017-07-01 2017-08-01 2017-09-01 2017-10-01  \\\n",
       "first_order_month                                                          \n",
       "2017-06-01              2023         61         50         54         88   \n",
       "2017-07-01                         1923         52         57         64   \n",
       "2017-08-01                                    1370         58         53   \n",
       "2017-09-01                                               2581        130   \n",
       "2017-10-01                                                          4340   \n",
       "2017-11-01                                                                 \n",
       "2017-12-01                                                                 \n",
       "2018-01-01                                                                 \n",
       "2018-02-01                                                                 \n",
       "2018-03-01                                                                 \n",
       "2018-04-01                                                                 \n",
       "2018-05-01                                                                 \n",
       "2018-06-01                                                                 \n",
       "\n",
       "order_month       2017-11-01 2017-12-01 2018-01-01 2018-02-01 2018-03-01  \\\n",
       "first_order_month                                                          \n",
       "2017-06-01                67         62         47         58         45   \n",
       "2017-07-01                49         38         36         39         42   \n",
       "2017-08-01                44         40         32         30         44   \n",
       "2017-09-01               100         74         52         64         66   \n",
       "2017-10-01               206        123         92         93         72   \n",
       "2017-11-01              4081        222        120        106         81   \n",
       "2017-12-01                         4383        146        103         97   \n",
       "2018-01-01                                    3373        114         83   \n",
       "2018-02-01                                               3651        118   \n",
       "2018-03-01                                                          3533   \n",
       "2018-04-01                                                                 \n",
       "2018-05-01                                                                 \n",
       "2018-06-01                                                                 \n",
       "\n",
       "order_month       2018-04-01 2018-05-01 2018-06-01  \n",
       "first_order_month                                   \n",
       "2017-06-01                45         53             \n",
       "2017-07-01                22         26             \n",
       "2017-08-01                19         31             \n",
       "2017-09-01                37         43             \n",
       "2017-10-01                56         67             \n",
       "2017-11-01                48         62             \n",
       "2017-12-01                50         63             \n",
       "2018-01-01                43         45             \n",
       "2018-02-01                58         39             \n",
       "2018-03-01                90         58             \n",
       "2018-04-01              2276         69             \n",
       "2018-05-01                         2988             \n",
       "2018-06-01                                       1  "
      ]
     },
     "execution_count": 65,
     "metadata": {},
     "output_type": "execute_result"
    }
   ],
   "source": [
    "orders.pivot_table(index='first_order_month',\n",
    "    columns='order_month',\n",
    "    values='uid',\n",
    "    aggfunc='nunique').fillna('')\n"
   ]
  },
  {
   "cell_type": "markdown",
   "metadata": {},
   "source": [
    "Сгруппируем данные по когорте first_order_month и месяцу совершения заказа order_month"
   ]
  },
  {
   "cell_type": "code",
   "execution_count": 66,
   "metadata": {},
   "outputs": [],
   "source": [
    "orders_grouped_by_cohorts = orders.groupby(['first_order_month','order_month']).agg({'revenue':'sum','uid':'nunique'})"
   ]
  },
  {
   "cell_type": "code",
   "execution_count": 67,
   "metadata": {},
   "outputs": [
    {
     "data": {
      "text/html": [
       "<div>\n",
       "<style scoped>\n",
       "    .dataframe tbody tr th:only-of-type {\n",
       "        vertical-align: middle;\n",
       "    }\n",
       "\n",
       "    .dataframe tbody tr th {\n",
       "        vertical-align: top;\n",
       "    }\n",
       "\n",
       "    .dataframe thead th {\n",
       "        text-align: right;\n",
       "    }\n",
       "</style>\n",
       "<table border=\"1\" class=\"dataframe\">\n",
       "  <thead>\n",
       "    <tr style=\"text-align: right;\">\n",
       "      <th></th>\n",
       "      <th></th>\n",
       "      <th>revenue</th>\n",
       "      <th>uid</th>\n",
       "    </tr>\n",
       "    <tr>\n",
       "      <th>first_order_month</th>\n",
       "      <th>order_month</th>\n",
       "      <th></th>\n",
       "      <th></th>\n",
       "    </tr>\n",
       "  </thead>\n",
       "  <tbody>\n",
       "    <tr>\n",
       "      <td rowspan=\"5\" valign=\"top\">2017-06-01</td>\n",
       "      <td>2017-06-01</td>\n",
       "      <td>9557.49</td>\n",
       "      <td>2023</td>\n",
       "    </tr>\n",
       "    <tr>\n",
       "      <td>2017-07-01</td>\n",
       "      <td>981.82</td>\n",
       "      <td>61</td>\n",
       "    </tr>\n",
       "    <tr>\n",
       "      <td>2017-08-01</td>\n",
       "      <td>885.34</td>\n",
       "      <td>50</td>\n",
       "    </tr>\n",
       "    <tr>\n",
       "      <td>2017-09-01</td>\n",
       "      <td>1931.30</td>\n",
       "      <td>54</td>\n",
       "    </tr>\n",
       "    <tr>\n",
       "      <td>2017-10-01</td>\n",
       "      <td>2068.58</td>\n",
       "      <td>88</td>\n",
       "    </tr>\n",
       "    <tr>\n",
       "      <td>...</td>\n",
       "      <td>...</td>\n",
       "      <td>...</td>\n",
       "      <td>...</td>\n",
       "    </tr>\n",
       "    <tr>\n",
       "      <td>2018-03-01</td>\n",
       "      <td>2018-05-01</td>\n",
       "      <td>1114.87</td>\n",
       "      <td>58</td>\n",
       "    </tr>\n",
       "    <tr>\n",
       "      <td rowspan=\"2\" valign=\"top\">2018-04-01</td>\n",
       "      <td>2018-04-01</td>\n",
       "      <td>10600.69</td>\n",
       "      <td>2276</td>\n",
       "    </tr>\n",
       "    <tr>\n",
       "      <td>2018-05-01</td>\n",
       "      <td>1209.92</td>\n",
       "      <td>69</td>\n",
       "    </tr>\n",
       "    <tr>\n",
       "      <td>2018-05-01</td>\n",
       "      <td>2018-05-01</td>\n",
       "      <td>13925.76</td>\n",
       "      <td>2988</td>\n",
       "    </tr>\n",
       "    <tr>\n",
       "      <td>2018-06-01</td>\n",
       "      <td>2018-06-01</td>\n",
       "      <td>3.42</td>\n",
       "      <td>1</td>\n",
       "    </tr>\n",
       "  </tbody>\n",
       "</table>\n",
       "<p>79 rows × 2 columns</p>\n",
       "</div>"
      ],
      "text/plain": [
       "                                revenue   uid\n",
       "first_order_month order_month                \n",
       "2017-06-01        2017-06-01    9557.49  2023\n",
       "                  2017-07-01     981.82    61\n",
       "                  2017-08-01     885.34    50\n",
       "                  2017-09-01    1931.30    54\n",
       "                  2017-10-01    2068.58    88\n",
       "...                                 ...   ...\n",
       "2018-03-01        2018-05-01    1114.87    58\n",
       "2018-04-01        2018-04-01   10600.69  2276\n",
       "                  2018-05-01    1209.92    69\n",
       "2018-05-01        2018-05-01   13925.76  2988\n",
       "2018-06-01        2018-06-01       3.42     1\n",
       "\n",
       "[79 rows x 2 columns]"
      ]
     },
     "execution_count": 67,
     "metadata": {},
     "output_type": "execute_result"
    }
   ],
   "source": [
    "orders_grouped_by_cohorts"
   ]
  },
  {
   "cell_type": "code",
   "execution_count": 68,
   "metadata": {},
   "outputs": [
    {
     "data": {
      "text/html": [
       "<div>\n",
       "<style scoped>\n",
       "    .dataframe tbody tr th:only-of-type {\n",
       "        vertical-align: middle;\n",
       "    }\n",
       "\n",
       "    .dataframe tbody tr th {\n",
       "        vertical-align: top;\n",
       "    }\n",
       "\n",
       "    .dataframe thead th {\n",
       "        text-align: right;\n",
       "    }\n",
       "</style>\n",
       "<table border=\"1\" class=\"dataframe\">\n",
       "  <thead>\n",
       "    <tr style=\"text-align: right;\">\n",
       "      <th></th>\n",
       "      <th>revenue</th>\n",
       "    </tr>\n",
       "    <tr>\n",
       "      <th>first_order_month</th>\n",
       "      <th></th>\n",
       "    </tr>\n",
       "  </thead>\n",
       "  <tbody>\n",
       "    <tr>\n",
       "      <td>2017-06-01</td>\n",
       "      <td>24031.69</td>\n",
       "    </tr>\n",
       "    <tr>\n",
       "      <td>2017-07-01</td>\n",
       "      <td>16127.92</td>\n",
       "    </tr>\n",
       "    <tr>\n",
       "      <td>2017-08-01</td>\n",
       "      <td>11606.26</td>\n",
       "    </tr>\n",
       "    <tr>\n",
       "      <td>2017-09-01</td>\n",
       "      <td>34676.32</td>\n",
       "    </tr>\n",
       "    <tr>\n",
       "      <td>2017-10-01</td>\n",
       "      <td>27603.45</td>\n",
       "    </tr>\n",
       "    <tr>\n",
       "      <td>2017-11-01</td>\n",
       "      <td>26098.99</td>\n",
       "    </tr>\n",
       "    <tr>\n",
       "      <td>2017-12-01</td>\n",
       "      <td>33485.74</td>\n",
       "    </tr>\n",
       "    <tr>\n",
       "      <td>2018-01-01</td>\n",
       "      <td>16663.13</td>\n",
       "    </tr>\n",
       "    <tr>\n",
       "      <td>2018-02-01</td>\n",
       "      <td>16750.50</td>\n",
       "    </tr>\n",
       "    <tr>\n",
       "      <td>2018-03-01</td>\n",
       "      <td>19273.41</td>\n",
       "    </tr>\n",
       "    <tr>\n",
       "      <td>2018-04-01</td>\n",
       "      <td>11810.61</td>\n",
       "    </tr>\n",
       "    <tr>\n",
       "      <td>2018-05-01</td>\n",
       "      <td>13925.76</td>\n",
       "    </tr>\n",
       "    <tr>\n",
       "      <td>2018-06-01</td>\n",
       "      <td>3.42</td>\n",
       "    </tr>\n",
       "  </tbody>\n",
       "</table>\n",
       "</div>"
      ],
      "text/plain": [
       "                    revenue\n",
       "first_order_month          \n",
       "2017-06-01         24031.69\n",
       "2017-07-01         16127.92\n",
       "2017-08-01         11606.26\n",
       "2017-09-01         34676.32\n",
       "2017-10-01         27603.45\n",
       "2017-11-01         26098.99\n",
       "2017-12-01         33485.74\n",
       "2018-01-01         16663.13\n",
       "2018-02-01         16750.50\n",
       "2018-03-01         19273.41\n",
       "2018-04-01         11810.61\n",
       "2018-05-01         13925.76\n",
       "2018-06-01             3.42"
      ]
     },
     "execution_count": 68,
     "metadata": {},
     "output_type": "execute_result"
    }
   ],
   "source": [
    "orders_grouped_by_cohorts.pivot_table(index = 'first_order_month', \n",
    "                                      values = 'revenue', \n",
    "                                      aggfunc = 'sum')"
   ]
  },
  {
   "cell_type": "markdown",
   "metadata": {},
   "source": [
    "Найдём средний чек покупателя revenue_per_user — разделим показатель revenue на uid"
   ]
  },
  {
   "cell_type": "code",
   "execution_count": 69,
   "metadata": {},
   "outputs": [],
   "source": [
    "orders_grouped_by_cohorts['revenue_per_user'] = orders_grouped_by_cohorts['revenue'] / orders_grouped_by_cohorts['uid']"
   ]
  },
  {
   "cell_type": "markdown",
   "metadata": {},
   "source": [
    "Построим сводную таблицу изменения среднего чека в когортах по месяцу совершения покупки и оценим, как изменяется средний чек с течением времени"
   ]
  },
  {
   "cell_type": "code",
   "execution_count": 70,
   "metadata": {},
   "outputs": [
    {
     "data": {
      "text/html": [
       "<div>\n",
       "<style scoped>\n",
       "    .dataframe tbody tr th:only-of-type {\n",
       "        vertical-align: middle;\n",
       "    }\n",
       "\n",
       "    .dataframe tbody tr th {\n",
       "        vertical-align: top;\n",
       "    }\n",
       "\n",
       "    .dataframe thead th {\n",
       "        text-align: right;\n",
       "    }\n",
       "</style>\n",
       "<table border=\"1\" class=\"dataframe\">\n",
       "  <thead>\n",
       "    <tr style=\"text-align: right;\">\n",
       "      <th>order_month</th>\n",
       "      <th>2017-06-01</th>\n",
       "      <th>2017-07-01</th>\n",
       "      <th>2017-08-01</th>\n",
       "      <th>2017-09-01</th>\n",
       "      <th>2017-10-01</th>\n",
       "      <th>2017-11-01</th>\n",
       "      <th>2017-12-01</th>\n",
       "      <th>2018-01-01</th>\n",
       "      <th>2018-02-01</th>\n",
       "      <th>2018-03-01</th>\n",
       "      <th>2018-04-01</th>\n",
       "      <th>2018-05-01</th>\n",
       "      <th>2018-06-01</th>\n",
       "    </tr>\n",
       "    <tr>\n",
       "      <th>first_order_month</th>\n",
       "      <th></th>\n",
       "      <th></th>\n",
       "      <th></th>\n",
       "      <th></th>\n",
       "      <th></th>\n",
       "      <th></th>\n",
       "      <th></th>\n",
       "      <th></th>\n",
       "      <th></th>\n",
       "      <th></th>\n",
       "      <th></th>\n",
       "      <th></th>\n",
       "      <th></th>\n",
       "    </tr>\n",
       "  </thead>\n",
       "  <tbody>\n",
       "    <tr>\n",
       "      <td>2017-06-01</td>\n",
       "      <td>4.72441</td>\n",
       "      <td>16.0954</td>\n",
       "      <td>17.7068</td>\n",
       "      <td>35.7648</td>\n",
       "      <td>23.5066</td>\n",
       "      <td>22.2078</td>\n",
       "      <td>31.0119</td>\n",
       "      <td>25.0332</td>\n",
       "      <td>19.2957</td>\n",
       "      <td>27.2336</td>\n",
       "      <td>25.6813</td>\n",
       "      <td>9.80415</td>\n",
       "      <td></td>\n",
       "    </tr>\n",
       "    <tr>\n",
       "      <td>2017-07-01</td>\n",
       "      <td></td>\n",
       "      <td>6.01022</td>\n",
       "      <td>12.3963</td>\n",
       "      <td>21.036</td>\n",
       "      <td>10.7861</td>\n",
       "      <td>6.93816</td>\n",
       "      <td>7.89684</td>\n",
       "      <td>6.42111</td>\n",
       "      <td>6.99282</td>\n",
       "      <td>7.38214</td>\n",
       "      <td>12.8618</td>\n",
       "      <td>11.5138</td>\n",
       "      <td></td>\n",
       "    </tr>\n",
       "    <tr>\n",
       "      <td>2017-08-01</td>\n",
       "      <td></td>\n",
       "      <td></td>\n",
       "      <td>5.27652</td>\n",
       "      <td>11.1488</td>\n",
       "      <td>11.8513</td>\n",
       "      <td>12.183</td>\n",
       "      <td>16.9212</td>\n",
       "      <td>12.1391</td>\n",
       "      <td>9.62033</td>\n",
       "      <td>12.6105</td>\n",
       "      <td>21.07</td>\n",
       "      <td>8.30742</td>\n",
       "      <td></td>\n",
       "    </tr>\n",
       "    <tr>\n",
       "      <td>2017-09-01</td>\n",
       "      <td></td>\n",
       "      <td></td>\n",
       "      <td></td>\n",
       "      <td>5.64453</td>\n",
       "      <td>22.1884</td>\n",
       "      <td>13.4452</td>\n",
       "      <td>138.669</td>\n",
       "      <td>19.8815</td>\n",
       "      <td>26.095</td>\n",
       "      <td>27.4371</td>\n",
       "      <td>16.9614</td>\n",
       "      <td>11.0447</td>\n",
       "      <td></td>\n",
       "    </tr>\n",
       "    <tr>\n",
       "      <td>2017-10-01</td>\n",
       "      <td></td>\n",
       "      <td></td>\n",
       "      <td></td>\n",
       "      <td></td>\n",
       "      <td>5.00373</td>\n",
       "      <td>11.2874</td>\n",
       "      <td>6.75325</td>\n",
       "      <td>7.41315</td>\n",
       "      <td>7.0728</td>\n",
       "      <td>7.25514</td>\n",
       "      <td>6.57321</td>\n",
       "      <td>7.4797</td>\n",
       "      <td></td>\n",
       "    </tr>\n",
       "    <tr>\n",
       "      <td>2017-11-01</td>\n",
       "      <td></td>\n",
       "      <td></td>\n",
       "      <td></td>\n",
       "      <td></td>\n",
       "      <td></td>\n",
       "      <td>5.15468</td>\n",
       "      <td>7.33905</td>\n",
       "      <td>6.78658</td>\n",
       "      <td>12.5107</td>\n",
       "      <td>7.45728</td>\n",
       "      <td>4.58083</td>\n",
       "      <td>7.56484</td>\n",
       "      <td></td>\n",
       "    </tr>\n",
       "    <tr>\n",
       "      <td>2017-12-01</td>\n",
       "      <td></td>\n",
       "      <td></td>\n",
       "      <td></td>\n",
       "      <td></td>\n",
       "      <td></td>\n",
       "      <td></td>\n",
       "      <td>4.73819</td>\n",
       "      <td>7.81658</td>\n",
       "      <td>39.366</td>\n",
       "      <td>48.1351</td>\n",
       "      <td>27.4314</td>\n",
       "      <td>23.5184</td>\n",
       "      <td></td>\n",
       "    </tr>\n",
       "    <tr>\n",
       "      <td>2018-01-01</td>\n",
       "      <td></td>\n",
       "      <td></td>\n",
       "      <td></td>\n",
       "      <td></td>\n",
       "      <td></td>\n",
       "      <td></td>\n",
       "      <td></td>\n",
       "      <td>4.13564</td>\n",
       "      <td>8.72123</td>\n",
       "      <td>12.3655</td>\n",
       "      <td>11.1998</td>\n",
       "      <td>4.69956</td>\n",
       "      <td></td>\n",
       "    </tr>\n",
       "    <tr>\n",
       "      <td>2018-02-01</td>\n",
       "      <td></td>\n",
       "      <td></td>\n",
       "      <td></td>\n",
       "      <td></td>\n",
       "      <td></td>\n",
       "      <td></td>\n",
       "      <td></td>\n",
       "      <td></td>\n",
       "      <td>4.15699</td>\n",
       "      <td>8.61</td>\n",
       "      <td>4.94241</td>\n",
       "      <td>6.94103</td>\n",
       "      <td></td>\n",
       "    </tr>\n",
       "    <tr>\n",
       "      <td>2018-03-01</td>\n",
       "      <td></td>\n",
       "      <td></td>\n",
       "      <td></td>\n",
       "      <td></td>\n",
       "      <td></td>\n",
       "      <td></td>\n",
       "      <td></td>\n",
       "      <td></td>\n",
       "      <td></td>\n",
       "      <td>4.8388</td>\n",
       "      <td>11.8117</td>\n",
       "      <td>19.2219</td>\n",
       "      <td></td>\n",
       "    </tr>\n",
       "    <tr>\n",
       "      <td>2018-04-01</td>\n",
       "      <td></td>\n",
       "      <td></td>\n",
       "      <td></td>\n",
       "      <td></td>\n",
       "      <td></td>\n",
       "      <td></td>\n",
       "      <td></td>\n",
       "      <td></td>\n",
       "      <td></td>\n",
       "      <td></td>\n",
       "      <td>4.6576</td>\n",
       "      <td>17.5351</td>\n",
       "      <td></td>\n",
       "    </tr>\n",
       "    <tr>\n",
       "      <td>2018-05-01</td>\n",
       "      <td></td>\n",
       "      <td></td>\n",
       "      <td></td>\n",
       "      <td></td>\n",
       "      <td></td>\n",
       "      <td></td>\n",
       "      <td></td>\n",
       "      <td></td>\n",
       "      <td></td>\n",
       "      <td></td>\n",
       "      <td></td>\n",
       "      <td>4.66056</td>\n",
       "      <td></td>\n",
       "    </tr>\n",
       "    <tr>\n",
       "      <td>2018-06-01</td>\n",
       "      <td></td>\n",
       "      <td></td>\n",
       "      <td></td>\n",
       "      <td></td>\n",
       "      <td></td>\n",
       "      <td></td>\n",
       "      <td></td>\n",
       "      <td></td>\n",
       "      <td></td>\n",
       "      <td></td>\n",
       "      <td></td>\n",
       "      <td></td>\n",
       "      <td>3.42</td>\n",
       "    </tr>\n",
       "  </tbody>\n",
       "</table>\n",
       "</div>"
      ],
      "text/plain": [
       "order_month       2017-06-01 2017-07-01 2017-08-01 2017-09-01 2017-10-01  \\\n",
       "first_order_month                                                          \n",
       "2017-06-01           4.72441    16.0954    17.7068    35.7648    23.5066   \n",
       "2017-07-01                      6.01022    12.3963     21.036    10.7861   \n",
       "2017-08-01                                 5.27652    11.1488    11.8513   \n",
       "2017-09-01                                            5.64453    22.1884   \n",
       "2017-10-01                                                       5.00373   \n",
       "2017-11-01                                                                 \n",
       "2017-12-01                                                                 \n",
       "2018-01-01                                                                 \n",
       "2018-02-01                                                                 \n",
       "2018-03-01                                                                 \n",
       "2018-04-01                                                                 \n",
       "2018-05-01                                                                 \n",
       "2018-06-01                                                                 \n",
       "\n",
       "order_month       2017-11-01 2017-12-01 2018-01-01 2018-02-01 2018-03-01  \\\n",
       "first_order_month                                                          \n",
       "2017-06-01           22.2078    31.0119    25.0332    19.2957    27.2336   \n",
       "2017-07-01           6.93816    7.89684    6.42111    6.99282    7.38214   \n",
       "2017-08-01            12.183    16.9212    12.1391    9.62033    12.6105   \n",
       "2017-09-01           13.4452    138.669    19.8815     26.095    27.4371   \n",
       "2017-10-01           11.2874    6.75325    7.41315     7.0728    7.25514   \n",
       "2017-11-01           5.15468    7.33905    6.78658    12.5107    7.45728   \n",
       "2017-12-01                      4.73819    7.81658     39.366    48.1351   \n",
       "2018-01-01                                 4.13564    8.72123    12.3655   \n",
       "2018-02-01                                            4.15699       8.61   \n",
       "2018-03-01                                                        4.8388   \n",
       "2018-04-01                                                                 \n",
       "2018-05-01                                                                 \n",
       "2018-06-01                                                                 \n",
       "\n",
       "order_month       2018-04-01 2018-05-01 2018-06-01  \n",
       "first_order_month                                   \n",
       "2017-06-01           25.6813    9.80415             \n",
       "2017-07-01           12.8618    11.5138             \n",
       "2017-08-01             21.07    8.30742             \n",
       "2017-09-01           16.9614    11.0447             \n",
       "2017-10-01           6.57321     7.4797             \n",
       "2017-11-01           4.58083    7.56484             \n",
       "2017-12-01           27.4314    23.5184             \n",
       "2018-01-01           11.1998    4.69956             \n",
       "2018-02-01           4.94241    6.94103             \n",
       "2018-03-01           11.8117    19.2219             \n",
       "2018-04-01            4.6576    17.5351             \n",
       "2018-05-01                      4.66056             \n",
       "2018-06-01                                    3.42  "
      ]
     },
     "execution_count": 70,
     "metadata": {},
     "output_type": "execute_result"
    }
   ],
   "source": [
    "orders_grouped_by_cohorts.pivot_table(index='first_order_month', \n",
    "                                      columns='order_month', \n",
    "                                      values='revenue_per_user',\n",
    "                                      aggfunc='mean').fillna('')"
   ]
  },
  {
   "cell_type": "markdown",
   "metadata": {},
   "source": [
    "Оценим, как изменяется средний чек в зависимости от времени, прошедшего с момента первой покупки - *lifetime*"
   ]
  },
  {
   "cell_type": "code",
   "execution_count": 71,
   "metadata": {},
   "outputs": [],
   "source": [
    "orders_grouped_by_cohorts = orders_grouped_by_cohorts.reset_index()"
   ]
  },
  {
   "cell_type": "markdown",
   "metadata": {},
   "source": [
    "Найдём lifetime когорты. Из месяца совершения заказа order_month вычтем месяц когорты first_order_month"
   ]
  },
  {
   "cell_type": "code",
   "execution_count": 72,
   "metadata": {},
   "outputs": [],
   "source": [
    "orders_grouped_by_cohorts['cohort_lifetime'] = orders_grouped_by_cohorts['order_month'] - orders_grouped_by_cohorts['first_order_month']"
   ]
  },
  {
   "cell_type": "code",
   "execution_count": 73,
   "metadata": {},
   "outputs": [
    {
     "data": {
      "text/plain": [
       "0     0 days\n",
       "1    30 days\n",
       "2    61 days\n",
       "3    92 days\n",
       "4   122 days\n",
       "Name: cohort_lifetime, dtype: timedelta64[ns]"
      ]
     },
     "execution_count": 73,
     "metadata": {},
     "output_type": "execute_result"
    }
   ],
   "source": [
    "orders_grouped_by_cohorts['cohort_lifetime'].head()"
   ]
  },
  {
   "cell_type": "markdown",
   "metadata": {},
   "source": [
    "Преобразуем тип данных в число месяцев, прошедших между датами. "
   ]
  },
  {
   "cell_type": "code",
   "execution_count": 74,
   "metadata": {},
   "outputs": [],
   "source": [
    "orders_grouped_by_cohorts['cohort_lifetime'] = orders_grouped_by_cohorts['cohort_lifetime'] / np.timedelta64(1,'M')"
   ]
  },
  {
   "cell_type": "markdown",
   "metadata": {},
   "source": [
    "Приведём к целочисленному типу методом astype('int')"
   ]
  },
  {
   "cell_type": "code",
   "execution_count": 75,
   "metadata": {},
   "outputs": [],
   "source": [
    "orders_grouped_by_cohorts['cohort_lifetime'] = orders_grouped_by_cohorts['cohort_lifetime'].round().astype('int')"
   ]
  },
  {
   "cell_type": "code",
   "execution_count": 76,
   "metadata": {},
   "outputs": [
    {
     "name": "stdout",
     "output_type": "stream",
     "text": [
      "  first_order_month order_month  cohort_lifetime\n",
      "0        2017-06-01  2017-06-01                0\n",
      "1        2017-06-01  2017-07-01                1\n",
      "2        2017-06-01  2017-08-01                2\n",
      "3        2017-06-01  2017-09-01                3\n",
      "4        2017-06-01  2017-10-01                4\n"
     ]
    }
   ],
   "source": [
    "print(orders_grouped_by_cohorts[['first_order_month','order_month','cohort_lifetime']].head())"
   ]
  },
  {
   "cell_type": "code",
   "execution_count": 77,
   "metadata": {},
   "outputs": [
    {
     "name": "stdout",
     "output_type": "stream",
     "text": [
      "   first_order_month order_month  cohort_lifetime\n",
      "74        2018-03-01  2018-05-01                2\n",
      "75        2018-04-01  2018-04-01                0\n",
      "76        2018-04-01  2018-05-01                1\n",
      "77        2018-05-01  2018-05-01                0\n",
      "78        2018-06-01  2018-06-01                0\n"
     ]
    }
   ],
   "source": [
    "print(orders_grouped_by_cohorts[['first_order_month','order_month','cohort_lifetime']].tail())"
   ]
  },
  {
   "cell_type": "markdown",
   "metadata": {},
   "source": [
    "Применим метод dt.strftime() и превратим объект Series с типом datetime в строку в формате даты"
   ]
  },
  {
   "cell_type": "code",
   "execution_count": 78,
   "metadata": {},
   "outputs": [
    {
     "data": {
      "text/plain": [
       "0     2017.06.01\n",
       "1     2017.06.01\n",
       "2     2017.06.01\n",
       "3     2017.06.01\n",
       "4     2017.06.01\n",
       "         ...    \n",
       "74    2018.03.01\n",
       "75    2018.04.01\n",
       "76    2018.04.01\n",
       "77    2018.05.01\n",
       "78    2018.06.01\n",
       "Name: first_order_month, Length: 79, dtype: object"
      ]
     },
     "execution_count": 78,
     "metadata": {},
     "output_type": "execute_result"
    }
   ],
   "source": [
    "orders_grouped_by_cohorts['first_order_month'].dt.strftime('%Y.%m.%d')"
   ]
  },
  {
   "cell_type": "markdown",
   "metadata": {},
   "source": [
    "Оставим в данных о месяце первого заказа только год и месяц"
   ]
  },
  {
   "cell_type": "code",
   "execution_count": 79,
   "metadata": {},
   "outputs": [],
   "source": [
    "orders_grouped_by_cohorts['first_order_month'] = orders_grouped_by_cohorts['first_order_month'].dt.strftime('%Y-%m')"
   ]
  },
  {
   "cell_type": "markdown",
   "metadata": {},
   "source": [
    "Построим сводную таблицу изменения среднего чека, где в столбцах будет lifetime, а строках — когорты"
   ]
  },
  {
   "cell_type": "code",
   "execution_count": 80,
   "metadata": {},
   "outputs": [],
   "source": [
    "revenue_per_user_pivot = orders_grouped_by_cohorts.pivot_table(index='first_order_month',columns='cohort_lifetime',values='revenue_per_user',aggfunc='mean')\n"
   ]
  },
  {
   "cell_type": "code",
   "execution_count": 81,
   "metadata": {},
   "outputs": [
    {
     "data": {
      "text/html": [
       "<div>\n",
       "<style scoped>\n",
       "    .dataframe tbody tr th:only-of-type {\n",
       "        vertical-align: middle;\n",
       "    }\n",
       "\n",
       "    .dataframe tbody tr th {\n",
       "        vertical-align: top;\n",
       "    }\n",
       "\n",
       "    .dataframe thead th {\n",
       "        text-align: right;\n",
       "    }\n",
       "</style>\n",
       "<table border=\"1\" class=\"dataframe\">\n",
       "  <thead>\n",
       "    <tr style=\"text-align: right;\">\n",
       "      <th>cohort_lifetime</th>\n",
       "      <th>0</th>\n",
       "      <th>1</th>\n",
       "      <th>2</th>\n",
       "      <th>3</th>\n",
       "      <th>4</th>\n",
       "      <th>5</th>\n",
       "      <th>6</th>\n",
       "      <th>7</th>\n",
       "      <th>8</th>\n",
       "      <th>9</th>\n",
       "      <th>10</th>\n",
       "      <th>11</th>\n",
       "    </tr>\n",
       "    <tr>\n",
       "      <th>first_order_month</th>\n",
       "      <th></th>\n",
       "      <th></th>\n",
       "      <th></th>\n",
       "      <th></th>\n",
       "      <th></th>\n",
       "      <th></th>\n",
       "      <th></th>\n",
       "      <th></th>\n",
       "      <th></th>\n",
       "      <th></th>\n",
       "      <th></th>\n",
       "      <th></th>\n",
       "    </tr>\n",
       "  </thead>\n",
       "  <tbody>\n",
       "    <tr>\n",
       "      <td>2017-06</td>\n",
       "      <td>4.724414</td>\n",
       "      <td>16.0954</td>\n",
       "      <td>17.7068</td>\n",
       "      <td>35.7648</td>\n",
       "      <td>23.5066</td>\n",
       "      <td>22.2078</td>\n",
       "      <td>31.0119</td>\n",
       "      <td>25.0332</td>\n",
       "      <td>19.2957</td>\n",
       "      <td>27.2336</td>\n",
       "      <td>25.6813</td>\n",
       "      <td>9.80415</td>\n",
       "    </tr>\n",
       "    <tr>\n",
       "      <td>2017-07</td>\n",
       "      <td>6.010218</td>\n",
       "      <td>12.3963</td>\n",
       "      <td>21.036</td>\n",
       "      <td>10.7861</td>\n",
       "      <td>6.93816</td>\n",
       "      <td>7.89684</td>\n",
       "      <td>6.42111</td>\n",
       "      <td>6.99282</td>\n",
       "      <td>7.38214</td>\n",
       "      <td>12.8618</td>\n",
       "      <td>11.5138</td>\n",
       "      <td></td>\n",
       "    </tr>\n",
       "    <tr>\n",
       "      <td>2017-08</td>\n",
       "      <td>5.276518</td>\n",
       "      <td>11.1488</td>\n",
       "      <td>11.8513</td>\n",
       "      <td>12.183</td>\n",
       "      <td>16.9212</td>\n",
       "      <td>12.1391</td>\n",
       "      <td>9.62033</td>\n",
       "      <td>12.6105</td>\n",
       "      <td>21.07</td>\n",
       "      <td>8.30742</td>\n",
       "      <td></td>\n",
       "      <td></td>\n",
       "    </tr>\n",
       "    <tr>\n",
       "      <td>2017-09</td>\n",
       "      <td>5.644529</td>\n",
       "      <td>22.1884</td>\n",
       "      <td>13.4452</td>\n",
       "      <td>138.669</td>\n",
       "      <td>19.8815</td>\n",
       "      <td>26.095</td>\n",
       "      <td>27.4371</td>\n",
       "      <td>16.9614</td>\n",
       "      <td>11.0447</td>\n",
       "      <td></td>\n",
       "      <td></td>\n",
       "      <td></td>\n",
       "    </tr>\n",
       "    <tr>\n",
       "      <td>2017-10</td>\n",
       "      <td>5.003733</td>\n",
       "      <td>11.2874</td>\n",
       "      <td>6.75325</td>\n",
       "      <td>7.41315</td>\n",
       "      <td>7.0728</td>\n",
       "      <td>7.25514</td>\n",
       "      <td>6.57321</td>\n",
       "      <td>7.4797</td>\n",
       "      <td></td>\n",
       "      <td></td>\n",
       "      <td></td>\n",
       "      <td></td>\n",
       "    </tr>\n",
       "    <tr>\n",
       "      <td>2017-11</td>\n",
       "      <td>5.154683</td>\n",
       "      <td>7.33905</td>\n",
       "      <td>6.78658</td>\n",
       "      <td>12.5107</td>\n",
       "      <td>7.45728</td>\n",
       "      <td>4.58083</td>\n",
       "      <td>7.56484</td>\n",
       "      <td></td>\n",
       "      <td></td>\n",
       "      <td></td>\n",
       "      <td></td>\n",
       "      <td></td>\n",
       "    </tr>\n",
       "    <tr>\n",
       "      <td>2017-12</td>\n",
       "      <td>4.738191</td>\n",
       "      <td>7.81658</td>\n",
       "      <td>39.366</td>\n",
       "      <td>48.1351</td>\n",
       "      <td>27.4314</td>\n",
       "      <td>23.5184</td>\n",
       "      <td></td>\n",
       "      <td></td>\n",
       "      <td></td>\n",
       "      <td></td>\n",
       "      <td></td>\n",
       "      <td></td>\n",
       "    </tr>\n",
       "    <tr>\n",
       "      <td>2018-01</td>\n",
       "      <td>4.135636</td>\n",
       "      <td>8.72123</td>\n",
       "      <td>12.3655</td>\n",
       "      <td>11.1998</td>\n",
       "      <td>4.69956</td>\n",
       "      <td></td>\n",
       "      <td></td>\n",
       "      <td></td>\n",
       "      <td></td>\n",
       "      <td></td>\n",
       "      <td></td>\n",
       "      <td></td>\n",
       "    </tr>\n",
       "    <tr>\n",
       "      <td>2018-02</td>\n",
       "      <td>4.156987</td>\n",
       "      <td>8.61</td>\n",
       "      <td>4.94241</td>\n",
       "      <td>6.94103</td>\n",
       "      <td></td>\n",
       "      <td></td>\n",
       "      <td></td>\n",
       "      <td></td>\n",
       "      <td></td>\n",
       "      <td></td>\n",
       "      <td></td>\n",
       "      <td></td>\n",
       "    </tr>\n",
       "    <tr>\n",
       "      <td>2018-03</td>\n",
       "      <td>4.838803</td>\n",
       "      <td>11.8117</td>\n",
       "      <td>19.2219</td>\n",
       "      <td></td>\n",
       "      <td></td>\n",
       "      <td></td>\n",
       "      <td></td>\n",
       "      <td></td>\n",
       "      <td></td>\n",
       "      <td></td>\n",
       "      <td></td>\n",
       "      <td></td>\n",
       "    </tr>\n",
       "    <tr>\n",
       "      <td>2018-04</td>\n",
       "      <td>4.657597</td>\n",
       "      <td>17.5351</td>\n",
       "      <td></td>\n",
       "      <td></td>\n",
       "      <td></td>\n",
       "      <td></td>\n",
       "      <td></td>\n",
       "      <td></td>\n",
       "      <td></td>\n",
       "      <td></td>\n",
       "      <td></td>\n",
       "      <td></td>\n",
       "    </tr>\n",
       "    <tr>\n",
       "      <td>2018-05</td>\n",
       "      <td>4.660562</td>\n",
       "      <td></td>\n",
       "      <td></td>\n",
       "      <td></td>\n",
       "      <td></td>\n",
       "      <td></td>\n",
       "      <td></td>\n",
       "      <td></td>\n",
       "      <td></td>\n",
       "      <td></td>\n",
       "      <td></td>\n",
       "      <td></td>\n",
       "    </tr>\n",
       "    <tr>\n",
       "      <td>2018-06</td>\n",
       "      <td>3.420000</td>\n",
       "      <td></td>\n",
       "      <td></td>\n",
       "      <td></td>\n",
       "      <td></td>\n",
       "      <td></td>\n",
       "      <td></td>\n",
       "      <td></td>\n",
       "      <td></td>\n",
       "      <td></td>\n",
       "      <td></td>\n",
       "      <td></td>\n",
       "    </tr>\n",
       "  </tbody>\n",
       "</table>\n",
       "</div>"
      ],
      "text/plain": [
       "cohort_lifetime          0        1        2        3        4        5   \\\n",
       "first_order_month                                                          \n",
       "2017-06            4.724414  16.0954  17.7068  35.7648  23.5066  22.2078   \n",
       "2017-07            6.010218  12.3963   21.036  10.7861  6.93816  7.89684   \n",
       "2017-08            5.276518  11.1488  11.8513   12.183  16.9212  12.1391   \n",
       "2017-09            5.644529  22.1884  13.4452  138.669  19.8815   26.095   \n",
       "2017-10            5.003733  11.2874  6.75325  7.41315   7.0728  7.25514   \n",
       "2017-11            5.154683  7.33905  6.78658  12.5107  7.45728  4.58083   \n",
       "2017-12            4.738191  7.81658   39.366  48.1351  27.4314  23.5184   \n",
       "2018-01            4.135636  8.72123  12.3655  11.1998  4.69956            \n",
       "2018-02            4.156987     8.61  4.94241  6.94103                     \n",
       "2018-03            4.838803  11.8117  19.2219                              \n",
       "2018-04            4.657597  17.5351                                       \n",
       "2018-05            4.660562                                                \n",
       "2018-06            3.420000                                                \n",
       "\n",
       "cohort_lifetime         6        7        8        9        10       11  \n",
       "first_order_month                                                        \n",
       "2017-06            31.0119  25.0332  19.2957  27.2336  25.6813  9.80415  \n",
       "2017-07            6.42111  6.99282  7.38214  12.8618  11.5138           \n",
       "2017-08            9.62033  12.6105    21.07  8.30742                    \n",
       "2017-09            27.4371  16.9614  11.0447                             \n",
       "2017-10            6.57321   7.4797                                      \n",
       "2017-11            7.56484                                               \n",
       "2017-12                                                                  \n",
       "2018-01                                                                  \n",
       "2018-02                                                                  \n",
       "2018-03                                                                  \n",
       "2018-04                                                                  \n",
       "2018-05                                                                  \n",
       "2018-06                                                                  "
      ]
     },
     "execution_count": 81,
     "metadata": {},
     "output_type": "execute_result"
    }
   ],
   "source": [
    "revenue_per_user_pivot.fillna('')"
   ]
  },
  {
   "cell_type": "markdown",
   "metadata": {},
   "source": [
    "Создадим тепловую карту методом heatmap() и передадим ей сводную таблицу revenue_per_user_pivot"
   ]
  },
  {
   "cell_type": "code",
   "execution_count": 82,
   "metadata": {},
   "outputs": [
    {
     "data": {
      "text/plain": [
       "<matplotlib.axes._subplots.AxesSubplot at 0x7fd30c34bd68>"
      ]
     },
     "execution_count": 82,
     "metadata": {},
     "output_type": "execute_result"
    },
    {
     "data": {
      "image/png": "[encoded data removed]",
      "text/plain": [
       "<Figure size 1008x648 with 2 Axes>"
      ]
     },
     "metadata": {},
     "output_type": "display_data"
    }
   ],
   "source": [
    "plt.figure(figsize=(14, 9))\n",
    "plt.title('Средний чек покупателей')\n",
    "sns.heatmap(revenue_per_user_pivot, annot=True, fmt='.1f', linewidths=1, linecolor='gray')\n"
   ]
  },
  {
   "cell_type": "markdown",
   "metadata": {},
   "source": [
    "Выводы по таблице:\n",
    "* На общем фоне особенно выделяется сентябрьская когорта за 3 месяц, там средний чек достиг отметки в 138,7\n",
    "* Так же переодические всплески среднего чека наблюдаются у когорт за декабрь, июнь, сентябрь\n",
    "* Есть определенная череда одинаковых всплесков у когорт за сентябрь и декабрь\n",
    "> Важно понимать, что такие всплески могут быть (и скорее всего) вызваны малым числом покупателей, т.е. являются выбросами."
   ]
  },
  {
   "cell_type": "markdown",
   "metadata": {},
   "source": [
    "### Изучим маркетинг"
   ]
  },
  {
   "cell_type": "markdown",
   "metadata": {},
   "source": [
    "Изучим файл *df_costs*"
   ]
  },
  {
   "cell_type": "code",
   "execution_count": 83,
   "metadata": {},
   "outputs": [
    {
     "data": {
      "text/html": [
       "<div>\n",
       "<style scoped>\n",
       "    .dataframe tbody tr th:only-of-type {\n",
       "        vertical-align: middle;\n",
       "    }\n",
       "\n",
       "    .dataframe tbody tr th {\n",
       "        vertical-align: top;\n",
       "    }\n",
       "\n",
       "    .dataframe thead th {\n",
       "        text-align: right;\n",
       "    }\n",
       "</style>\n",
       "<table border=\"1\" class=\"dataframe\">\n",
       "  <thead>\n",
       "    <tr style=\"text-align: right;\">\n",
       "      <th></th>\n",
       "      <th>source_id</th>\n",
       "      <th>dt</th>\n",
       "      <th>costs</th>\n",
       "    </tr>\n",
       "  </thead>\n",
       "  <tbody>\n",
       "    <tr>\n",
       "      <td>0</td>\n",
       "      <td>1</td>\n",
       "      <td>2017-06-01</td>\n",
       "      <td>75.20</td>\n",
       "    </tr>\n",
       "    <tr>\n",
       "      <td>1</td>\n",
       "      <td>1</td>\n",
       "      <td>2017-06-02</td>\n",
       "      <td>62.25</td>\n",
       "    </tr>\n",
       "    <tr>\n",
       "      <td>2</td>\n",
       "      <td>1</td>\n",
       "      <td>2017-06-03</td>\n",
       "      <td>36.53</td>\n",
       "    </tr>\n",
       "    <tr>\n",
       "      <td>3</td>\n",
       "      <td>1</td>\n",
       "      <td>2017-06-04</td>\n",
       "      <td>55.00</td>\n",
       "    </tr>\n",
       "    <tr>\n",
       "      <td>4</td>\n",
       "      <td>1</td>\n",
       "      <td>2017-06-05</td>\n",
       "      <td>57.08</td>\n",
       "    </tr>\n",
       "    <tr>\n",
       "      <td>...</td>\n",
       "      <td>...</td>\n",
       "      <td>...</td>\n",
       "      <td>...</td>\n",
       "    </tr>\n",
       "    <tr>\n",
       "      <td>2537</td>\n",
       "      <td>10</td>\n",
       "      <td>2018-05-27</td>\n",
       "      <td>9.92</td>\n",
       "    </tr>\n",
       "    <tr>\n",
       "      <td>2538</td>\n",
       "      <td>10</td>\n",
       "      <td>2018-05-28</td>\n",
       "      <td>21.26</td>\n",
       "    </tr>\n",
       "    <tr>\n",
       "      <td>2539</td>\n",
       "      <td>10</td>\n",
       "      <td>2018-05-29</td>\n",
       "      <td>11.32</td>\n",
       "    </tr>\n",
       "    <tr>\n",
       "      <td>2540</td>\n",
       "      <td>10</td>\n",
       "      <td>2018-05-30</td>\n",
       "      <td>33.15</td>\n",
       "    </tr>\n",
       "    <tr>\n",
       "      <td>2541</td>\n",
       "      <td>10</td>\n",
       "      <td>2018-05-31</td>\n",
       "      <td>17.60</td>\n",
       "    </tr>\n",
       "  </tbody>\n",
       "</table>\n",
       "<p>2542 rows × 3 columns</p>\n",
       "</div>"
      ],
      "text/plain": [
       "      source_id          dt  costs\n",
       "0             1  2017-06-01  75.20\n",
       "1             1  2017-06-02  62.25\n",
       "2             1  2017-06-03  36.53\n",
       "3             1  2017-06-04  55.00\n",
       "4             1  2017-06-05  57.08\n",
       "...         ...         ...    ...\n",
       "2537         10  2018-05-27   9.92\n",
       "2538         10  2018-05-28  21.26\n",
       "2539         10  2018-05-29  11.32\n",
       "2540         10  2018-05-30  33.15\n",
       "2541         10  2018-05-31  17.60\n",
       "\n",
       "[2542 rows x 3 columns]"
      ]
     },
     "execution_count": 83,
     "metadata": {},
     "output_type": "execute_result"
    }
   ],
   "source": [
    "df_costs"
   ]
  },
  {
   "cell_type": "markdown",
   "metadata": {},
   "source": [
    "Переведём столбец *dt* во временной формат"
   ]
  },
  {
   "cell_type": "code",
   "execution_count": 84,
   "metadata": {},
   "outputs": [],
   "source": [
    "df_costs['month'] = df_costs['dt'].astype('datetime64[M]')"
   ]
  },
  {
   "cell_type": "markdown",
   "metadata": {},
   "source": [
    "Получим месяц первой покупки каждого покупателя"
   ]
  },
  {
   "cell_type": "code",
   "execution_count": 85,
   "metadata": {},
   "outputs": [],
   "source": [
    "first_orders = orders.groupby('uid').agg({'order_month': 'min'}).reset_index()"
   ]
  },
  {
   "cell_type": "code",
   "execution_count": 86,
   "metadata": {},
   "outputs": [],
   "source": [
    "first_orders.columns = ['uid', 'first_order_month']"
   ]
  },
  {
   "cell_type": "code",
   "execution_count": 87,
   "metadata": {},
   "outputs": [
    {
     "data": {
      "text/html": [
       "<div>\n",
       "<style scoped>\n",
       "    .dataframe tbody tr th:only-of-type {\n",
       "        vertical-align: middle;\n",
       "    }\n",
       "\n",
       "    .dataframe tbody tr th {\n",
       "        vertical-align: top;\n",
       "    }\n",
       "\n",
       "    .dataframe thead th {\n",
       "        text-align: right;\n",
       "    }\n",
       "</style>\n",
       "<table border=\"1\" class=\"dataframe\">\n",
       "  <thead>\n",
       "    <tr style=\"text-align: right;\">\n",
       "      <th></th>\n",
       "      <th>uid</th>\n",
       "      <th>first_order_month</th>\n",
       "    </tr>\n",
       "  </thead>\n",
       "  <tbody>\n",
       "    <tr>\n",
       "      <td>0</td>\n",
       "      <td>313578113262317</td>\n",
       "      <td>2018-01-01</td>\n",
       "    </tr>\n",
       "    <tr>\n",
       "      <td>1</td>\n",
       "      <td>1575281904278712</td>\n",
       "      <td>2017-06-01</td>\n",
       "    </tr>\n",
       "    <tr>\n",
       "      <td>2</td>\n",
       "      <td>2429014661409475</td>\n",
       "      <td>2017-10-01</td>\n",
       "    </tr>\n",
       "    <tr>\n",
       "      <td>3</td>\n",
       "      <td>2464366381792757</td>\n",
       "      <td>2018-01-01</td>\n",
       "    </tr>\n",
       "    <tr>\n",
       "      <td>4</td>\n",
       "      <td>2551852515556206</td>\n",
       "      <td>2017-11-01</td>\n",
       "    </tr>\n",
       "  </tbody>\n",
       "</table>\n",
       "</div>"
      ],
      "text/plain": [
       "                uid first_order_month\n",
       "0   313578113262317        2018-01-01\n",
       "1  1575281904278712        2017-06-01\n",
       "2  2429014661409475        2017-10-01\n",
       "3  2464366381792757        2018-01-01\n",
       "4  2551852515556206        2017-11-01"
      ]
     },
     "execution_count": 87,
     "metadata": {},
     "output_type": "execute_result"
    }
   ],
   "source": [
    "first_orders.head()"
   ]
  },
  {
   "cell_type": "markdown",
   "metadata": {},
   "source": [
    "Посчитаем количество новых покупателей (n_buyers) за каждый месяц"
   ]
  },
  {
   "cell_type": "code",
   "execution_count": 88,
   "metadata": {},
   "outputs": [],
   "source": [
    "cohort_sizes = first_orders.groupby('first_order_month').agg({'uid': 'nunique'}).reset_index()"
   ]
  },
  {
   "cell_type": "code",
   "execution_count": 89,
   "metadata": {},
   "outputs": [],
   "source": [
    "cohort_sizes.columns = ['first_order_month', 'n_buyers']"
   ]
  },
  {
   "cell_type": "code",
   "execution_count": 90,
   "metadata": {},
   "outputs": [
    {
     "data": {
      "text/html": [
       "<div>\n",
       "<style scoped>\n",
       "    .dataframe tbody tr th:only-of-type {\n",
       "        vertical-align: middle;\n",
       "    }\n",
       "\n",
       "    .dataframe tbody tr th {\n",
       "        vertical-align: top;\n",
       "    }\n",
       "\n",
       "    .dataframe thead th {\n",
       "        text-align: right;\n",
       "    }\n",
       "</style>\n",
       "<table border=\"1\" class=\"dataframe\">\n",
       "  <thead>\n",
       "    <tr style=\"text-align: right;\">\n",
       "      <th></th>\n",
       "      <th>first_order_month</th>\n",
       "      <th>n_buyers</th>\n",
       "    </tr>\n",
       "  </thead>\n",
       "  <tbody>\n",
       "    <tr>\n",
       "      <td>0</td>\n",
       "      <td>2017-06-01</td>\n",
       "      <td>2023</td>\n",
       "    </tr>\n",
       "    <tr>\n",
       "      <td>1</td>\n",
       "      <td>2017-07-01</td>\n",
       "      <td>1923</td>\n",
       "    </tr>\n",
       "    <tr>\n",
       "      <td>2</td>\n",
       "      <td>2017-08-01</td>\n",
       "      <td>1370</td>\n",
       "    </tr>\n",
       "    <tr>\n",
       "      <td>3</td>\n",
       "      <td>2017-09-01</td>\n",
       "      <td>2581</td>\n",
       "    </tr>\n",
       "    <tr>\n",
       "      <td>4</td>\n",
       "      <td>2017-10-01</td>\n",
       "      <td>4340</td>\n",
       "    </tr>\n",
       "  </tbody>\n",
       "</table>\n",
       "</div>"
      ],
      "text/plain": [
       "  first_order_month  n_buyers\n",
       "0        2017-06-01      2023\n",
       "1        2017-07-01      1923\n",
       "2        2017-08-01      1370\n",
       "3        2017-09-01      2581\n",
       "4        2017-10-01      4340"
      ]
     },
     "execution_count": 90,
     "metadata": {},
     "output_type": "execute_result"
    }
   ],
   "source": [
    "cohort_sizes.head()"
   ]
  },
  {
   "cell_type": "markdown",
   "metadata": {},
   "source": [
    "Добавим месяц первой покупки каждого покупателя в таблицу с заказами"
   ]
  },
  {
   "cell_type": "code",
   "execution_count": 91,
   "metadata": {},
   "outputs": [],
   "source": [
    "orders_new = pd.merge(orders, first_orders, on='uid')\n"
   ]
  },
  {
   "cell_type": "code",
   "execution_count": 92,
   "metadata": {
    "scrolled": true
   },
   "outputs": [
    {
     "data": {
      "text/html": [
       "<div>\n",
       "<style scoped>\n",
       "    .dataframe tbody tr th:only-of-type {\n",
       "        vertical-align: middle;\n",
       "    }\n",
       "\n",
       "    .dataframe tbody tr th {\n",
       "        vertical-align: top;\n",
       "    }\n",
       "\n",
       "    .dataframe thead th {\n",
       "        text-align: right;\n",
       "    }\n",
       "</style>\n",
       "<table border=\"1\" class=\"dataframe\">\n",
       "  <thead>\n",
       "    <tr style=\"text-align: right;\">\n",
       "      <th></th>\n",
       "      <th>buy_ts</th>\n",
       "      <th>revenue</th>\n",
       "      <th>uid</th>\n",
       "      <th>first_order_date</th>\n",
       "      <th>first_order_month_x</th>\n",
       "      <th>order_month</th>\n",
       "      <th>first_order_month_y</th>\n",
       "    </tr>\n",
       "  </thead>\n",
       "  <tbody>\n",
       "    <tr>\n",
       "      <td>0</td>\n",
       "      <td>2017-06-01 00:10:00</td>\n",
       "      <td>17.00</td>\n",
       "      <td>10329302124590727494</td>\n",
       "      <td>2017-06-01 00:10:00</td>\n",
       "      <td>2017-06-01</td>\n",
       "      <td>2017-06-01</td>\n",
       "      <td>2017-06-01</td>\n",
       "    </tr>\n",
       "    <tr>\n",
       "      <td>1</td>\n",
       "      <td>2017-06-01 00:25:00</td>\n",
       "      <td>0.55</td>\n",
       "      <td>11627257723692907447</td>\n",
       "      <td>2017-06-01 00:25:00</td>\n",
       "      <td>2017-06-01</td>\n",
       "      <td>2017-06-01</td>\n",
       "      <td>2017-06-01</td>\n",
       "    </tr>\n",
       "    <tr>\n",
       "      <td>2</td>\n",
       "      <td>2017-06-01 00:27:00</td>\n",
       "      <td>0.37</td>\n",
       "      <td>17903680561304213844</td>\n",
       "      <td>2017-06-01 00:27:00</td>\n",
       "      <td>2017-06-01</td>\n",
       "      <td>2017-06-01</td>\n",
       "      <td>2017-06-01</td>\n",
       "    </tr>\n",
       "    <tr>\n",
       "      <td>3</td>\n",
       "      <td>2017-06-01 00:29:00</td>\n",
       "      <td>0.55</td>\n",
       "      <td>16109239769442553005</td>\n",
       "      <td>2017-06-01 00:29:00</td>\n",
       "      <td>2017-06-01</td>\n",
       "      <td>2017-06-01</td>\n",
       "      <td>2017-06-01</td>\n",
       "    </tr>\n",
       "    <tr>\n",
       "      <td>4</td>\n",
       "      <td>2017-06-01 07:58:00</td>\n",
       "      <td>0.37</td>\n",
       "      <td>14200605875248379450</td>\n",
       "      <td>2017-06-01 07:58:00</td>\n",
       "      <td>2017-06-01</td>\n",
       "      <td>2017-06-01</td>\n",
       "      <td>2017-06-01</td>\n",
       "    </tr>\n",
       "  </tbody>\n",
       "</table>\n",
       "</div>"
      ],
      "text/plain": [
       "               buy_ts  revenue                   uid    first_order_date  \\\n",
       "0 2017-06-01 00:10:00    17.00  10329302124590727494 2017-06-01 00:10:00   \n",
       "1 2017-06-01 00:25:00     0.55  11627257723692907447 2017-06-01 00:25:00   \n",
       "2 2017-06-01 00:27:00     0.37  17903680561304213844 2017-06-01 00:27:00   \n",
       "3 2017-06-01 00:29:00     0.55  16109239769442553005 2017-06-01 00:29:00   \n",
       "4 2017-06-01 07:58:00     0.37  14200605875248379450 2017-06-01 07:58:00   \n",
       "\n",
       "  first_order_month_x order_month first_order_month_y  \n",
       "0          2017-06-01  2017-06-01          2017-06-01  \n",
       "1          2017-06-01  2017-06-01          2017-06-01  \n",
       "2          2017-06-01  2017-06-01          2017-06-01  \n",
       "3          2017-06-01  2017-06-01          2017-06-01  \n",
       "4          2017-06-01  2017-06-01          2017-06-01  "
      ]
     },
     "execution_count": 92,
     "metadata": {},
     "output_type": "execute_result"
    }
   ],
   "source": [
    "orders_new.head()"
   ]
  },
  {
   "cell_type": "code",
   "execution_count": 93,
   "metadata": {},
   "outputs": [],
   "source": [
    "orders_new.drop(['first_order_month_y'], axis='columns', inplace=True)"
   ]
  },
  {
   "cell_type": "code",
   "execution_count": 94,
   "metadata": {},
   "outputs": [
    {
     "data": {
      "text/html": [
       "<div>\n",
       "<style scoped>\n",
       "    .dataframe tbody tr th:only-of-type {\n",
       "        vertical-align: middle;\n",
       "    }\n",
       "\n",
       "    .dataframe tbody tr th {\n",
       "        vertical-align: top;\n",
       "    }\n",
       "\n",
       "    .dataframe thead th {\n",
       "        text-align: right;\n",
       "    }\n",
       "</style>\n",
       "<table border=\"1\" class=\"dataframe\">\n",
       "  <thead>\n",
       "    <tr style=\"text-align: right;\">\n",
       "      <th></th>\n",
       "      <th>buy_ts</th>\n",
       "      <th>revenue</th>\n",
       "      <th>uid</th>\n",
       "      <th>first_order_date</th>\n",
       "      <th>first_order_month_x</th>\n",
       "      <th>order_month</th>\n",
       "    </tr>\n",
       "  </thead>\n",
       "  <tbody>\n",
       "    <tr>\n",
       "      <td>0</td>\n",
       "      <td>2017-06-01 00:10:00</td>\n",
       "      <td>17.00</td>\n",
       "      <td>10329302124590727494</td>\n",
       "      <td>2017-06-01 00:10:00</td>\n",
       "      <td>2017-06-01</td>\n",
       "      <td>2017-06-01</td>\n",
       "    </tr>\n",
       "    <tr>\n",
       "      <td>1</td>\n",
       "      <td>2017-06-01 00:25:00</td>\n",
       "      <td>0.55</td>\n",
       "      <td>11627257723692907447</td>\n",
       "      <td>2017-06-01 00:25:00</td>\n",
       "      <td>2017-06-01</td>\n",
       "      <td>2017-06-01</td>\n",
       "    </tr>\n",
       "    <tr>\n",
       "      <td>2</td>\n",
       "      <td>2017-06-01 00:27:00</td>\n",
       "      <td>0.37</td>\n",
       "      <td>17903680561304213844</td>\n",
       "      <td>2017-06-01 00:27:00</td>\n",
       "      <td>2017-06-01</td>\n",
       "      <td>2017-06-01</td>\n",
       "    </tr>\n",
       "    <tr>\n",
       "      <td>3</td>\n",
       "      <td>2017-06-01 00:29:00</td>\n",
       "      <td>0.55</td>\n",
       "      <td>16109239769442553005</td>\n",
       "      <td>2017-06-01 00:29:00</td>\n",
       "      <td>2017-06-01</td>\n",
       "      <td>2017-06-01</td>\n",
       "    </tr>\n",
       "    <tr>\n",
       "      <td>4</td>\n",
       "      <td>2017-06-01 07:58:00</td>\n",
       "      <td>0.37</td>\n",
       "      <td>14200605875248379450</td>\n",
       "      <td>2017-06-01 07:58:00</td>\n",
       "      <td>2017-06-01</td>\n",
       "      <td>2017-06-01</td>\n",
       "    </tr>\n",
       "    <tr>\n",
       "      <td>...</td>\n",
       "      <td>...</td>\n",
       "      <td>...</td>\n",
       "      <td>...</td>\n",
       "      <td>...</td>\n",
       "      <td>...</td>\n",
       "      <td>...</td>\n",
       "    </tr>\n",
       "    <tr>\n",
       "      <td>50410</td>\n",
       "      <td>2018-05-31 23:50:00</td>\n",
       "      <td>4.64</td>\n",
       "      <td>12296626599487328624</td>\n",
       "      <td>2018-05-31 23:50:00</td>\n",
       "      <td>2018-05-01</td>\n",
       "      <td>2018-05-01</td>\n",
       "    </tr>\n",
       "    <tr>\n",
       "      <td>50411</td>\n",
       "      <td>2018-05-31 23:50:00</td>\n",
       "      <td>5.80</td>\n",
       "      <td>11369640365507475976</td>\n",
       "      <td>2018-05-31 23:50:00</td>\n",
       "      <td>2018-05-01</td>\n",
       "      <td>2018-05-01</td>\n",
       "    </tr>\n",
       "    <tr>\n",
       "      <td>50412</td>\n",
       "      <td>2018-05-31 23:54:00</td>\n",
       "      <td>0.30</td>\n",
       "      <td>1786462140797698849</td>\n",
       "      <td>2018-05-31 23:54:00</td>\n",
       "      <td>2018-05-01</td>\n",
       "      <td>2018-05-01</td>\n",
       "    </tr>\n",
       "    <tr>\n",
       "      <td>50413</td>\n",
       "      <td>2018-05-31 23:56:00</td>\n",
       "      <td>3.67</td>\n",
       "      <td>3993697860786194247</td>\n",
       "      <td>2018-05-31 23:56:00</td>\n",
       "      <td>2018-05-01</td>\n",
       "      <td>2018-05-01</td>\n",
       "    </tr>\n",
       "    <tr>\n",
       "      <td>50414</td>\n",
       "      <td>2018-06-01 00:02:00</td>\n",
       "      <td>3.42</td>\n",
       "      <td>83872787173869366</td>\n",
       "      <td>2018-06-01 00:02:00</td>\n",
       "      <td>2018-06-01</td>\n",
       "      <td>2018-06-01</td>\n",
       "    </tr>\n",
       "  </tbody>\n",
       "</table>\n",
       "<p>50415 rows × 6 columns</p>\n",
       "</div>"
      ],
      "text/plain": [
       "                   buy_ts  revenue                   uid    first_order_date  \\\n",
       "0     2017-06-01 00:10:00    17.00  10329302124590727494 2017-06-01 00:10:00   \n",
       "1     2017-06-01 00:25:00     0.55  11627257723692907447 2017-06-01 00:25:00   \n",
       "2     2017-06-01 00:27:00     0.37  17903680561304213844 2017-06-01 00:27:00   \n",
       "3     2017-06-01 00:29:00     0.55  16109239769442553005 2017-06-01 00:29:00   \n",
       "4     2017-06-01 07:58:00     0.37  14200605875248379450 2017-06-01 07:58:00   \n",
       "...                   ...      ...                   ...                 ...   \n",
       "50410 2018-05-31 23:50:00     4.64  12296626599487328624 2018-05-31 23:50:00   \n",
       "50411 2018-05-31 23:50:00     5.80  11369640365507475976 2018-05-31 23:50:00   \n",
       "50412 2018-05-31 23:54:00     0.30   1786462140797698849 2018-05-31 23:54:00   \n",
       "50413 2018-05-31 23:56:00     3.67   3993697860786194247 2018-05-31 23:56:00   \n",
       "50414 2018-06-01 00:02:00     3.42     83872787173869366 2018-06-01 00:02:00   \n",
       "\n",
       "      first_order_month_x order_month  \n",
       "0              2017-06-01  2017-06-01  \n",
       "1              2017-06-01  2017-06-01  \n",
       "2              2017-06-01  2017-06-01  \n",
       "3              2017-06-01  2017-06-01  \n",
       "4              2017-06-01  2017-06-01  \n",
       "...                   ...         ...  \n",
       "50410          2018-05-01  2018-05-01  \n",
       "50411          2018-05-01  2018-05-01  \n",
       "50412          2018-05-01  2018-05-01  \n",
       "50413          2018-05-01  2018-05-01  \n",
       "50414          2018-06-01  2018-06-01  \n",
       "\n",
       "[50415 rows x 6 columns]"
      ]
     },
     "execution_count": 94,
     "metadata": {},
     "output_type": "execute_result"
    }
   ],
   "source": [
    "orders_new"
   ]
  },
  {
   "cell_type": "markdown",
   "metadata": {},
   "source": [
    "Сгруппируем таблицу заказов по месяцу первой покупки и месяцу каждого заказа и сложим выручку"
   ]
  },
  {
   "cell_type": "code",
   "execution_count": 95,
   "metadata": {},
   "outputs": [],
   "source": [
    "cohorts = orders_new.groupby(['first_order_month_x','order_month']).agg({'revenue': 'sum'}).reset_index()\n"
   ]
  },
  {
   "cell_type": "code",
   "execution_count": 96,
   "metadata": {},
   "outputs": [],
   "source": [
    "cohorts.columns = ['first_order_month', 'orders_month', 'revenue']"
   ]
  },
  {
   "cell_type": "code",
   "execution_count": 97,
   "metadata": {},
   "outputs": [
    {
     "data": {
      "text/html": [
       "<div>\n",
       "<style scoped>\n",
       "    .dataframe tbody tr th:only-of-type {\n",
       "        vertical-align: middle;\n",
       "    }\n",
       "\n",
       "    .dataframe tbody tr th {\n",
       "        vertical-align: top;\n",
       "    }\n",
       "\n",
       "    .dataframe thead th {\n",
       "        text-align: right;\n",
       "    }\n",
       "</style>\n",
       "<table border=\"1\" class=\"dataframe\">\n",
       "  <thead>\n",
       "    <tr style=\"text-align: right;\">\n",
       "      <th></th>\n",
       "      <th>first_order_month</th>\n",
       "      <th>orders_month</th>\n",
       "      <th>revenue</th>\n",
       "    </tr>\n",
       "  </thead>\n",
       "  <tbody>\n",
       "    <tr>\n",
       "      <td>0</td>\n",
       "      <td>2017-06-01</td>\n",
       "      <td>2017-06-01</td>\n",
       "      <td>9557.49</td>\n",
       "    </tr>\n",
       "    <tr>\n",
       "      <td>1</td>\n",
       "      <td>2017-06-01</td>\n",
       "      <td>2017-07-01</td>\n",
       "      <td>981.82</td>\n",
       "    </tr>\n",
       "    <tr>\n",
       "      <td>2</td>\n",
       "      <td>2017-06-01</td>\n",
       "      <td>2017-08-01</td>\n",
       "      <td>885.34</td>\n",
       "    </tr>\n",
       "    <tr>\n",
       "      <td>3</td>\n",
       "      <td>2017-06-01</td>\n",
       "      <td>2017-09-01</td>\n",
       "      <td>1931.30</td>\n",
       "    </tr>\n",
       "    <tr>\n",
       "      <td>4</td>\n",
       "      <td>2017-06-01</td>\n",
       "      <td>2017-10-01</td>\n",
       "      <td>2068.58</td>\n",
       "    </tr>\n",
       "  </tbody>\n",
       "</table>\n",
       "</div>"
      ],
      "text/plain": [
       "  first_order_month orders_month  revenue\n",
       "0        2017-06-01   2017-06-01  9557.49\n",
       "1        2017-06-01   2017-07-01   981.82\n",
       "2        2017-06-01   2017-08-01   885.34\n",
       "3        2017-06-01   2017-09-01  1931.30\n",
       "4        2017-06-01   2017-10-01  2068.58"
      ]
     },
     "execution_count": 97,
     "metadata": {},
     "output_type": "execute_result"
    }
   ],
   "source": [
    "cohorts.head()"
   ]
  },
  {
   "cell_type": "markdown",
   "metadata": {},
   "source": [
    "Добавим в таблицу cohorts данные о том, сколько людей первый раз совершили покупку в каждый месяц"
   ]
  },
  {
   "cell_type": "code",
   "execution_count": 98,
   "metadata": {},
   "outputs": [],
   "source": [
    "report = pd.merge(cohort_sizes, cohorts, on='first_order_month')"
   ]
  },
  {
   "cell_type": "code",
   "execution_count": 99,
   "metadata": {},
   "outputs": [
    {
     "data": {
      "text/html": [
       "<div>\n",
       "<style scoped>\n",
       "    .dataframe tbody tr th:only-of-type {\n",
       "        vertical-align: middle;\n",
       "    }\n",
       "\n",
       "    .dataframe tbody tr th {\n",
       "        vertical-align: top;\n",
       "    }\n",
       "\n",
       "    .dataframe thead th {\n",
       "        text-align: right;\n",
       "    }\n",
       "</style>\n",
       "<table border=\"1\" class=\"dataframe\">\n",
       "  <thead>\n",
       "    <tr style=\"text-align: right;\">\n",
       "      <th></th>\n",
       "      <th>first_order_month</th>\n",
       "      <th>n_buyers</th>\n",
       "      <th>orders_month</th>\n",
       "      <th>revenue</th>\n",
       "    </tr>\n",
       "  </thead>\n",
       "  <tbody>\n",
       "    <tr>\n",
       "      <td>0</td>\n",
       "      <td>2017-06-01</td>\n",
       "      <td>2023</td>\n",
       "      <td>2017-06-01</td>\n",
       "      <td>9557.49</td>\n",
       "    </tr>\n",
       "    <tr>\n",
       "      <td>1</td>\n",
       "      <td>2017-06-01</td>\n",
       "      <td>2023</td>\n",
       "      <td>2017-07-01</td>\n",
       "      <td>981.82</td>\n",
       "    </tr>\n",
       "    <tr>\n",
       "      <td>2</td>\n",
       "      <td>2017-06-01</td>\n",
       "      <td>2023</td>\n",
       "      <td>2017-08-01</td>\n",
       "      <td>885.34</td>\n",
       "    </tr>\n",
       "    <tr>\n",
       "      <td>3</td>\n",
       "      <td>2017-06-01</td>\n",
       "      <td>2023</td>\n",
       "      <td>2017-09-01</td>\n",
       "      <td>1931.30</td>\n",
       "    </tr>\n",
       "    <tr>\n",
       "      <td>4</td>\n",
       "      <td>2017-06-01</td>\n",
       "      <td>2023</td>\n",
       "      <td>2017-10-01</td>\n",
       "      <td>2068.58</td>\n",
       "    </tr>\n",
       "  </tbody>\n",
       "</table>\n",
       "</div>"
      ],
      "text/plain": [
       "  first_order_month  n_buyers orders_month  revenue\n",
       "0        2017-06-01      2023   2017-06-01  9557.49\n",
       "1        2017-06-01      2023   2017-07-01   981.82\n",
       "2        2017-06-01      2023   2017-08-01   885.34\n",
       "3        2017-06-01      2023   2017-09-01  1931.30\n",
       "4        2017-06-01      2023   2017-10-01  2068.58"
      ]
     },
     "execution_count": 99,
     "metadata": {},
     "output_type": "execute_result"
    }
   ],
   "source": [
    "report.head()"
   ]
  },
  {
   "cell_type": "markdown",
   "metadata": {},
   "source": [
    "Найдем валовую прибыль, умножив выручку на маржинальность, так как в задании не указано какая маржинальность, то оставим её как - 1.\n",
    "\n",
    "А так же найдем относительный показатель по «возрастным» когортам, где в столбцах возраст (age) когорты"
   ]
  },
  {
   "cell_type": "code",
   "execution_count": 100,
   "metadata": {},
   "outputs": [
    {
     "data": {
      "text/html": [
       "<div>\n",
       "<style scoped>\n",
       "    .dataframe tbody tr th:only-of-type {\n",
       "        vertical-align: middle;\n",
       "    }\n",
       "\n",
       "    .dataframe tbody tr th {\n",
       "        vertical-align: top;\n",
       "    }\n",
       "\n",
       "    .dataframe thead th {\n",
       "        text-align: right;\n",
       "    }\n",
       "</style>\n",
       "<table border=\"1\" class=\"dataframe\">\n",
       "  <thead>\n",
       "    <tr style=\"text-align: right;\">\n",
       "      <th></th>\n",
       "      <th>first_order_month</th>\n",
       "      <th>n_buyers</th>\n",
       "      <th>orders_month</th>\n",
       "      <th>revenue</th>\n",
       "      <th>gp</th>\n",
       "      <th>age</th>\n",
       "    </tr>\n",
       "  </thead>\n",
       "  <tbody>\n",
       "    <tr>\n",
       "      <td>0</td>\n",
       "      <td>2017-06-01</td>\n",
       "      <td>2023</td>\n",
       "      <td>2017-06-01</td>\n",
       "      <td>9557.49</td>\n",
       "      <td>9557.49</td>\n",
       "      <td>0</td>\n",
       "    </tr>\n",
       "    <tr>\n",
       "      <td>1</td>\n",
       "      <td>2017-06-01</td>\n",
       "      <td>2023</td>\n",
       "      <td>2017-07-01</td>\n",
       "      <td>981.82</td>\n",
       "      <td>981.82</td>\n",
       "      <td>1</td>\n",
       "    </tr>\n",
       "    <tr>\n",
       "      <td>2</td>\n",
       "      <td>2017-06-01</td>\n",
       "      <td>2023</td>\n",
       "      <td>2017-08-01</td>\n",
       "      <td>885.34</td>\n",
       "      <td>885.34</td>\n",
       "      <td>2</td>\n",
       "    </tr>\n",
       "    <tr>\n",
       "      <td>3</td>\n",
       "      <td>2017-06-01</td>\n",
       "      <td>2023</td>\n",
       "      <td>2017-09-01</td>\n",
       "      <td>1931.30</td>\n",
       "      <td>1931.30</td>\n",
       "      <td>3</td>\n",
       "    </tr>\n",
       "    <tr>\n",
       "      <td>4</td>\n",
       "      <td>2017-06-01</td>\n",
       "      <td>2023</td>\n",
       "      <td>2017-10-01</td>\n",
       "      <td>2068.58</td>\n",
       "      <td>2068.58</td>\n",
       "      <td>4</td>\n",
       "    </tr>\n",
       "  </tbody>\n",
       "</table>\n",
       "</div>"
      ],
      "text/plain": [
       "  first_order_month  n_buyers orders_month  revenue       gp  age\n",
       "0        2017-06-01      2023   2017-06-01  9557.49  9557.49    0\n",
       "1        2017-06-01      2023   2017-07-01   981.82   981.82    1\n",
       "2        2017-06-01      2023   2017-08-01   885.34   885.34    2\n",
       "3        2017-06-01      2023   2017-09-01  1931.30  1931.30    3\n",
       "4        2017-06-01      2023   2017-10-01  2068.58  2068.58    4"
      ]
     },
     "execution_count": 100,
     "metadata": {},
     "output_type": "execute_result"
    }
   ],
   "source": [
    "margin_rate = 1\n",
    "    \n",
    "report['gp'] = report['revenue'] * margin_rate\n",
    "report['age'] = (report['orders_month'] - report['first_order_month']) / np.timedelta64(1, 'M')\n",
    "report['age'] = report['age'].round().astype('int')\n",
    "report.head()"
   ]
  },
  {
   "cell_type": "markdown",
   "metadata": {},
   "source": [
    "Найдём LTV. Разделим валовую прибыль когорт за каждый месяц на общее число пользователей в каждой когорте"
   ]
  },
  {
   "cell_type": "code",
   "execution_count": 101,
   "metadata": {},
   "outputs": [],
   "source": [
    "report['ltv'] = report['revenue'] / report['n_buyers']\n",
    "    \n",
    "output = report.pivot_table(\n",
    "        index='first_order_month', \n",
    "        columns='age', \n",
    "        values='ltv', \n",
    "        aggfunc='mean').round(3)\n",
    "    \n",
    "report_output = output.iloc[:6, :6].fillna('')"
   ]
  },
  {
   "cell_type": "code",
   "execution_count": 102,
   "metadata": {},
   "outputs": [
    {
     "data": {
      "text/html": [
       "<div>\n",
       "<style scoped>\n",
       "    .dataframe tbody tr th:only-of-type {\n",
       "        vertical-align: middle;\n",
       "    }\n",
       "\n",
       "    .dataframe tbody tr th {\n",
       "        vertical-align: top;\n",
       "    }\n",
       "\n",
       "    .dataframe thead th {\n",
       "        text-align: right;\n",
       "    }\n",
       "</style>\n",
       "<table border=\"1\" class=\"dataframe\">\n",
       "  <thead>\n",
       "    <tr style=\"text-align: right;\">\n",
       "      <th>age</th>\n",
       "      <th>0</th>\n",
       "      <th>1</th>\n",
       "      <th>2</th>\n",
       "      <th>3</th>\n",
       "      <th>4</th>\n",
       "      <th>5</th>\n",
       "    </tr>\n",
       "    <tr>\n",
       "      <th>first_order_month</th>\n",
       "      <th></th>\n",
       "      <th></th>\n",
       "      <th></th>\n",
       "      <th></th>\n",
       "      <th></th>\n",
       "      <th></th>\n",
       "    </tr>\n",
       "  </thead>\n",
       "  <tbody>\n",
       "    <tr>\n",
       "      <td>2017-06-01</td>\n",
       "      <td>4.724</td>\n",
       "      <td>0.485</td>\n",
       "      <td>0.438</td>\n",
       "      <td>0.955</td>\n",
       "      <td>1.023</td>\n",
       "      <td>0.736</td>\n",
       "    </tr>\n",
       "    <tr>\n",
       "      <td>2017-07-01</td>\n",
       "      <td>6.010</td>\n",
       "      <td>0.335</td>\n",
       "      <td>0.624</td>\n",
       "      <td>0.359</td>\n",
       "      <td>0.177</td>\n",
       "      <td>0.156</td>\n",
       "    </tr>\n",
       "    <tr>\n",
       "      <td>2017-08-01</td>\n",
       "      <td>5.277</td>\n",
       "      <td>0.472</td>\n",
       "      <td>0.458</td>\n",
       "      <td>0.391</td>\n",
       "      <td>0.494</td>\n",
       "      <td>0.284</td>\n",
       "    </tr>\n",
       "    <tr>\n",
       "      <td>2017-09-01</td>\n",
       "      <td>5.645</td>\n",
       "      <td>1.118</td>\n",
       "      <td>0.521</td>\n",
       "      <td>3.976</td>\n",
       "      <td>0.401</td>\n",
       "      <td>0.647</td>\n",
       "    </tr>\n",
       "    <tr>\n",
       "      <td>2017-10-01</td>\n",
       "      <td>5.004</td>\n",
       "      <td>0.536</td>\n",
       "      <td>0.191</td>\n",
       "      <td>0.157</td>\n",
       "      <td>0.152</td>\n",
       "      <td>0.120</td>\n",
       "    </tr>\n",
       "    <tr>\n",
       "      <td>2017-11-01</td>\n",
       "      <td>5.155</td>\n",
       "      <td>0.399</td>\n",
       "      <td>0.200</td>\n",
       "      <td>0.325</td>\n",
       "      <td>0.148</td>\n",
       "      <td>0.054</td>\n",
       "    </tr>\n",
       "  </tbody>\n",
       "</table>\n",
       "</div>"
      ],
      "text/plain": [
       "age                    0      1      2      3      4      5\n",
       "first_order_month                                          \n",
       "2017-06-01         4.724  0.485  0.438  0.955  1.023  0.736\n",
       "2017-07-01         6.010  0.335  0.624  0.359  0.177  0.156\n",
       "2017-08-01         5.277  0.472  0.458  0.391  0.494  0.284\n",
       "2017-09-01         5.645  1.118  0.521  3.976  0.401  0.647\n",
       "2017-10-01         5.004  0.536  0.191  0.157  0.152  0.120\n",
       "2017-11-01         5.155  0.399  0.200  0.325  0.148  0.054"
      ]
     },
     "execution_count": 102,
     "metadata": {},
     "output_type": "execute_result"
    }
   ],
   "source": [
    "report_output"
   ]
  },
  {
   "cell_type": "markdown",
   "metadata": {},
   "source": [
    "Как видим по усредненной когорте, то лучше всех показывают себя *2017-09-01*, *2017-06-01*"
   ]
  },
  {
   "cell_type": "markdown",
   "metadata": {},
   "source": [
    "Посчитаем итоговый LTV первой когорты. Сложим их LTV по месяцам"
   ]
  },
  {
   "cell_type": "markdown",
   "metadata": {},
   "source": [
    "Теперь посчитаем за весь период"
   ]
  },
  {
   "cell_type": "code",
   "execution_count": 103,
   "metadata": {},
   "outputs": [],
   "source": [
    "ltv_170601 = output.loc['2017-06-01'].sum()"
   ]
  },
  {
   "cell_type": "markdown",
   "metadata": {},
   "source": [
    "В среднем каждый покупатель из первой когорты принес по 8 "
   ]
  },
  {
   "cell_type": "code",
   "execution_count": 104,
   "metadata": {},
   "outputs": [
    {
     "data": {
      "text/plain": [
       "11.88"
      ]
     },
     "execution_count": 104,
     "metadata": {},
     "output_type": "execute_result"
    }
   ],
   "source": [
    "ltv_170601"
   ]
  },
  {
   "cell_type": "markdown",
   "metadata": {},
   "source": [
    "Посчитаем CAC этой когорты. Поделим расходы за этот месяц на количество людей в когорте"
   ]
  },
  {
   "cell_type": "code",
   "execution_count": 105,
   "metadata": {},
   "outputs": [],
   "source": [
    "costs_170601 = df_costs[df_costs['month'] == '2017-06-01']['costs'].sum()"
   ]
  },
  {
   "cell_type": "code",
   "execution_count": 106,
   "metadata": {},
   "outputs": [
    {
     "data": {
      "text/plain": [
       "18015.0"
      ]
     },
     "execution_count": 106,
     "metadata": {},
     "output_type": "execute_result"
    }
   ],
   "source": [
    "costs_170601"
   ]
  },
  {
   "cell_type": "code",
   "execution_count": 107,
   "metadata": {},
   "outputs": [
    {
     "name": "stdout",
     "output_type": "stream",
     "text": [
      "CAC = 8.905091448344043\n",
      "LTV = 11.88\n"
     ]
    }
   ],
   "source": [
    "# отфильруем нужную когорту\n",
    "cohort_170601 = report[report['first_order_month'] == '2017-06-01']\n",
    "\n",
    "# посчитаем расходы за этот месяц\n",
    "costs_170601 = df_costs[df_costs['month'] == '2017-06-01']['costs'].sum()\n",
    "\n",
    "n_buyers_170601 = cohort_170601['n_buyers'][0]\n",
    "cac_170601 = costs_170601 / n_buyers_170601\n",
    "ltv_170601 = output.loc['2017-06-01'].sum()\n",
    "\n",
    "print('CAC =', cac_170601)\n",
    "print('LTV =', ltv_170601)\n",
    "\n"
   ]
  },
  {
   "cell_type": "markdown",
   "metadata": {},
   "source": [
    "Привлечение одного покупателя в среднем обошлось компании в 8.9, а валовая прибыль с каждого из них: 11.9."
   ]
  },
  {
   "cell_type": "markdown",
   "metadata": {},
   "source": [
    "Посчитаем, сколько тратили бюджета в месяц на каждый источник"
   ]
  },
  {
   "cell_type": "code",
   "execution_count": 108,
   "metadata": {},
   "outputs": [
    {
     "data": {
      "text/html": [
       "<div>\n",
       "<style scoped>\n",
       "    .dataframe tbody tr th:only-of-type {\n",
       "        vertical-align: middle;\n",
       "    }\n",
       "\n",
       "    .dataframe tbody tr th {\n",
       "        vertical-align: top;\n",
       "    }\n",
       "\n",
       "    .dataframe thead th {\n",
       "        text-align: right;\n",
       "    }\n",
       "</style>\n",
       "<table border=\"1\" class=\"dataframe\">\n",
       "  <thead>\n",
       "    <tr style=\"text-align: right;\">\n",
       "      <th>month</th>\n",
       "      <th>2017-06-01</th>\n",
       "      <th>2017-07-01</th>\n",
       "      <th>2017-08-01</th>\n",
       "      <th>2017-09-01</th>\n",
       "      <th>2017-10-01</th>\n",
       "      <th>2017-11-01</th>\n",
       "      <th>2017-12-01</th>\n",
       "      <th>2018-01-01</th>\n",
       "      <th>2018-02-01</th>\n",
       "      <th>2018-03-01</th>\n",
       "      <th>2018-04-01</th>\n",
       "      <th>2018-05-01</th>\n",
       "    </tr>\n",
       "    <tr>\n",
       "      <th>source_id</th>\n",
       "      <th></th>\n",
       "      <th></th>\n",
       "      <th></th>\n",
       "      <th></th>\n",
       "      <th></th>\n",
       "      <th></th>\n",
       "      <th></th>\n",
       "      <th></th>\n",
       "      <th></th>\n",
       "      <th></th>\n",
       "      <th></th>\n",
       "      <th></th>\n",
       "    </tr>\n",
       "  </thead>\n",
       "  <tbody>\n",
       "    <tr>\n",
       "      <td>1</td>\n",
       "      <td>1125.61</td>\n",
       "      <td>1072.88</td>\n",
       "      <td>951.81</td>\n",
       "      <td>1502.01</td>\n",
       "      <td>2315.75</td>\n",
       "      <td>2445.16</td>\n",
       "      <td>2341.20</td>\n",
       "      <td>2186.18</td>\n",
       "      <td>2204.48</td>\n",
       "      <td>1893.09</td>\n",
       "      <td>1327.49</td>\n",
       "      <td>1467.61</td>\n",
       "    </tr>\n",
       "    <tr>\n",
       "      <td>2</td>\n",
       "      <td>2427.38</td>\n",
       "      <td>2333.11</td>\n",
       "      <td>1811.05</td>\n",
       "      <td>2985.66</td>\n",
       "      <td>4845.00</td>\n",
       "      <td>5247.68</td>\n",
       "      <td>4897.80</td>\n",
       "      <td>4157.74</td>\n",
       "      <td>4474.34</td>\n",
       "      <td>3943.14</td>\n",
       "      <td>2993.70</td>\n",
       "      <td>2689.44</td>\n",
       "    </tr>\n",
       "    <tr>\n",
       "      <td>3</td>\n",
       "      <td>7731.65</td>\n",
       "      <td>7674.37</td>\n",
       "      <td>6143.54</td>\n",
       "      <td>9963.55</td>\n",
       "      <td>15737.24</td>\n",
       "      <td>17025.34</td>\n",
       "      <td>16219.52</td>\n",
       "      <td>14808.78</td>\n",
       "      <td>14228.56</td>\n",
       "      <td>13080.85</td>\n",
       "      <td>9296.81</td>\n",
       "      <td>9411.42</td>\n",
       "    </tr>\n",
       "    <tr>\n",
       "      <td>4</td>\n",
       "      <td>3514.80</td>\n",
       "      <td>3529.73</td>\n",
       "      <td>3217.36</td>\n",
       "      <td>5192.26</td>\n",
       "      <td>6420.84</td>\n",
       "      <td>5388.82</td>\n",
       "      <td>7680.47</td>\n",
       "      <td>5832.79</td>\n",
       "      <td>5711.96</td>\n",
       "      <td>5961.87</td>\n",
       "      <td>4408.49</td>\n",
       "      <td>4214.21</td>\n",
       "    </tr>\n",
       "    <tr>\n",
       "      <td>5</td>\n",
       "      <td>2616.12</td>\n",
       "      <td>2998.14</td>\n",
       "      <td>2185.28</td>\n",
       "      <td>3849.14</td>\n",
       "      <td>5767.40</td>\n",
       "      <td>6325.34</td>\n",
       "      <td>5872.52</td>\n",
       "      <td>5371.52</td>\n",
       "      <td>5071.31</td>\n",
       "      <td>4529.62</td>\n",
       "      <td>3501.15</td>\n",
       "      <td>3669.56</td>\n",
       "    </tr>\n",
       "    <tr>\n",
       "      <td>9</td>\n",
       "      <td>285.22</td>\n",
       "      <td>302.54</td>\n",
       "      <td>248.93</td>\n",
       "      <td>415.62</td>\n",
       "      <td>609.41</td>\n",
       "      <td>683.18</td>\n",
       "      <td>657.98</td>\n",
       "      <td>547.16</td>\n",
       "      <td>551.50</td>\n",
       "      <td>480.29</td>\n",
       "      <td>373.49</td>\n",
       "      <td>362.17</td>\n",
       "    </tr>\n",
       "    <tr>\n",
       "      <td>10</td>\n",
       "      <td>314.22</td>\n",
       "      <td>329.82</td>\n",
       "      <td>232.57</td>\n",
       "      <td>460.67</td>\n",
       "      <td>627.24</td>\n",
       "      <td>792.36</td>\n",
       "      <td>645.86</td>\n",
       "      <td>614.35</td>\n",
       "      <td>480.88</td>\n",
       "      <td>526.41</td>\n",
       "      <td>388.25</td>\n",
       "      <td>409.86</td>\n",
       "    </tr>\n",
       "  </tbody>\n",
       "</table>\n",
       "</div>"
      ],
      "text/plain": [
       "month      2017-06-01  2017-07-01  2017-08-01  2017-09-01  2017-10-01  \\\n",
       "source_id                                                               \n",
       "1             1125.61     1072.88      951.81     1502.01     2315.75   \n",
       "2             2427.38     2333.11     1811.05     2985.66     4845.00   \n",
       "3             7731.65     7674.37     6143.54     9963.55    15737.24   \n",
       "4             3514.80     3529.73     3217.36     5192.26     6420.84   \n",
       "5             2616.12     2998.14     2185.28     3849.14     5767.40   \n",
       "9              285.22      302.54      248.93      415.62      609.41   \n",
       "10             314.22      329.82      232.57      460.67      627.24   \n",
       "\n",
       "month      2017-11-01  2017-12-01  2018-01-01  2018-02-01  2018-03-01  \\\n",
       "source_id                                                               \n",
       "1             2445.16     2341.20     2186.18     2204.48     1893.09   \n",
       "2             5247.68     4897.80     4157.74     4474.34     3943.14   \n",
       "3            17025.34    16219.52    14808.78    14228.56    13080.85   \n",
       "4             5388.82     7680.47     5832.79     5711.96     5961.87   \n",
       "5             6325.34     5872.52     5371.52     5071.31     4529.62   \n",
       "9              683.18      657.98      547.16      551.50      480.29   \n",
       "10             792.36      645.86      614.35      480.88      526.41   \n",
       "\n",
       "month      2018-04-01  2018-05-01  \n",
       "source_id                          \n",
       "1             1327.49     1467.61  \n",
       "2             2993.70     2689.44  \n",
       "3             9296.81     9411.42  \n",
       "4             4408.49     4214.21  \n",
       "5             3501.15     3669.56  \n",
       "9              373.49      362.17  \n",
       "10             388.25      409.86  "
      ]
     },
     "execution_count": 108,
     "metadata": {},
     "output_type": "execute_result"
    }
   ],
   "source": [
    "df_costs.pivot_table(index = 'source_id',columns = 'month', values = 'costs', aggfunc = 'sum')"
   ]
  },
  {
   "cell_type": "markdown",
   "metadata": {},
   "source": [
    "Отсортируем визиты по сессиям"
   ]
  },
  {
   "cell_type": "code",
   "execution_count": 109,
   "metadata": {},
   "outputs": [],
   "source": [
    "df_new = df_visits.sort_values(by = 'start_ts')"
   ]
  },
  {
   "cell_type": "markdown",
   "metadata": {},
   "source": [
    "Найдем источник первой сессии"
   ]
  },
  {
   "cell_type": "code",
   "execution_count": 110,
   "metadata": {},
   "outputs": [],
   "source": [
    "first_source_per_user = df_new.groupby('uid').agg({'source_id': 'first'})\n"
   ]
  },
  {
   "cell_type": "markdown",
   "metadata": {},
   "source": [
    "Объеденим таблицы продаж и источником первой сессии"
   ]
  },
  {
   "cell_type": "code",
   "execution_count": 111,
   "metadata": {},
   "outputs": [],
   "source": [
    "client_per_source = orders.merge(first_source_per_user, on='uid')\n"
   ]
  },
  {
   "cell_type": "markdown",
   "metadata": {},
   "source": [
    "Найдем общее количество покупателей по источнику"
   ]
  },
  {
   "cell_type": "code",
   "execution_count": 112,
   "metadata": {},
   "outputs": [],
   "source": [
    "client_per_source_n = client_per_source.groupby('source_id').agg({'uid': 'nunique'})\n"
   ]
  },
  {
   "cell_type": "code",
   "execution_count": 113,
   "metadata": {},
   "outputs": [
    {
     "data": {
      "text/html": [
       "<div>\n",
       "<style scoped>\n",
       "    .dataframe tbody tr th:only-of-type {\n",
       "        vertical-align: middle;\n",
       "    }\n",
       "\n",
       "    .dataframe tbody tr th {\n",
       "        vertical-align: top;\n",
       "    }\n",
       "\n",
       "    .dataframe thead th {\n",
       "        text-align: right;\n",
       "    }\n",
       "</style>\n",
       "<table border=\"1\" class=\"dataframe\">\n",
       "  <thead>\n",
       "    <tr style=\"text-align: right;\">\n",
       "      <th></th>\n",
       "      <th>uid</th>\n",
       "    </tr>\n",
       "    <tr>\n",
       "      <th>source_id</th>\n",
       "      <th></th>\n",
       "    </tr>\n",
       "  </thead>\n",
       "  <tbody>\n",
       "    <tr>\n",
       "      <td>1</td>\n",
       "      <td>2899</td>\n",
       "    </tr>\n",
       "    <tr>\n",
       "      <td>2</td>\n",
       "      <td>3506</td>\n",
       "    </tr>\n",
       "    <tr>\n",
       "      <td>3</td>\n",
       "      <td>10473</td>\n",
       "    </tr>\n",
       "    <tr>\n",
       "      <td>4</td>\n",
       "      <td>10296</td>\n",
       "    </tr>\n",
       "    <tr>\n",
       "      <td>5</td>\n",
       "      <td>6931</td>\n",
       "    </tr>\n",
       "    <tr>\n",
       "      <td>7</td>\n",
       "      <td>1</td>\n",
       "    </tr>\n",
       "    <tr>\n",
       "      <td>9</td>\n",
       "      <td>1088</td>\n",
       "    </tr>\n",
       "    <tr>\n",
       "      <td>10</td>\n",
       "      <td>1329</td>\n",
       "    </tr>\n",
       "  </tbody>\n",
       "</table>\n",
       "</div>"
      ],
      "text/plain": [
       "             uid\n",
       "source_id       \n",
       "1           2899\n",
       "2           3506\n",
       "3          10473\n",
       "4          10296\n",
       "5           6931\n",
       "7              1\n",
       "9           1088\n",
       "10          1329"
      ]
     },
     "execution_count": 113,
     "metadata": {},
     "output_type": "execute_result"
    }
   ],
   "source": [
    "client_per_source_n"
   ]
  },
  {
   "cell_type": "markdown",
   "metadata": {},
   "source": [
    "Объеденим таблицы продаж и покупателями"
   ]
  },
  {
   "cell_type": "code",
   "execution_count": 114,
   "metadata": {},
   "outputs": [],
   "source": [
    "visits_orders = df_visits[df_visits['uid'].isin(orders['uid']) == True]\n",
    "\n"
   ]
  },
  {
   "cell_type": "code",
   "execution_count": 115,
   "metadata": {},
   "outputs": [],
   "source": [
    "visits_orders = visits_orders[['device', 'end_ts', 'source_id', 'start_ts', 'uid']]\n",
    "\n"
   ]
  },
  {
   "cell_type": "code",
   "execution_count": 116,
   "metadata": {},
   "outputs": [],
   "source": [
    "visits_orders = visits_orders.sort_values(by = 'start_ts')\n",
    "\n"
   ]
  },
  {
   "cell_type": "code",
   "execution_count": 117,
   "metadata": {},
   "outputs": [
    {
     "data": {
      "text/html": [
       "<div>\n",
       "<style scoped>\n",
       "    .dataframe tbody tr th:only-of-type {\n",
       "        vertical-align: middle;\n",
       "    }\n",
       "\n",
       "    .dataframe tbody tr th {\n",
       "        vertical-align: top;\n",
       "    }\n",
       "\n",
       "    .dataframe thead th {\n",
       "        text-align: right;\n",
       "    }\n",
       "</style>\n",
       "<table border=\"1\" class=\"dataframe\">\n",
       "  <thead>\n",
       "    <tr style=\"text-align: right;\">\n",
       "      <th></th>\n",
       "      <th>buy_ts</th>\n",
       "      <th>revenue</th>\n",
       "      <th>uid</th>\n",
       "      <th>first_order_date</th>\n",
       "      <th>first_order_month</th>\n",
       "      <th>order_month</th>\n",
       "      <th>device</th>\n",
       "      <th>end_ts</th>\n",
       "      <th>source_id</th>\n",
       "      <th>start_ts</th>\n",
       "    </tr>\n",
       "  </thead>\n",
       "  <tbody>\n",
       "    <tr>\n",
       "      <td>0</td>\n",
       "      <td>2017-06-01 00:10:00</td>\n",
       "      <td>17.00</td>\n",
       "      <td>10329302124590727494</td>\n",
       "      <td>2017-06-01 00:10:00</td>\n",
       "      <td>2017-06-01</td>\n",
       "      <td>2017-06-01</td>\n",
       "      <td>desktop</td>\n",
       "      <td>2017-06-01 00:11:00</td>\n",
       "      <td>1</td>\n",
       "      <td>2017-06-01 00:09:00</td>\n",
       "    </tr>\n",
       "    <tr>\n",
       "      <td>1</td>\n",
       "      <td>2017-06-01 00:25:00</td>\n",
       "      <td>0.55</td>\n",
       "      <td>11627257723692907447</td>\n",
       "      <td>2017-06-01 00:25:00</td>\n",
       "      <td>2017-06-01</td>\n",
       "      <td>2017-06-01</td>\n",
       "      <td>desktop</td>\n",
       "      <td>2017-06-01 00:25:00</td>\n",
       "      <td>2</td>\n",
       "      <td>2017-06-01 00:14:00</td>\n",
       "    </tr>\n",
       "    <tr>\n",
       "      <td>2</td>\n",
       "      <td>2017-06-01 00:27:00</td>\n",
       "      <td>0.37</td>\n",
       "      <td>17903680561304213844</td>\n",
       "      <td>2017-06-01 00:27:00</td>\n",
       "      <td>2017-06-01</td>\n",
       "      <td>2017-06-01</td>\n",
       "      <td>desktop</td>\n",
       "      <td>2017-06-01 00:34:00</td>\n",
       "      <td>2</td>\n",
       "      <td>2017-06-01 00:25:00</td>\n",
       "    </tr>\n",
       "    <tr>\n",
       "      <td>3</td>\n",
       "      <td>2017-06-01 00:29:00</td>\n",
       "      <td>0.55</td>\n",
       "      <td>16109239769442553005</td>\n",
       "      <td>2017-06-01 00:29:00</td>\n",
       "      <td>2017-06-01</td>\n",
       "      <td>2017-06-01</td>\n",
       "      <td>desktop</td>\n",
       "      <td>2017-06-01 00:33:00</td>\n",
       "      <td>2</td>\n",
       "      <td>2017-06-01 00:14:00</td>\n",
       "    </tr>\n",
       "    <tr>\n",
       "      <td>4</td>\n",
       "      <td>2017-06-01 07:58:00</td>\n",
       "      <td>0.37</td>\n",
       "      <td>14200605875248379450</td>\n",
       "      <td>2017-06-01 07:58:00</td>\n",
       "      <td>2017-06-01</td>\n",
       "      <td>2017-06-01</td>\n",
       "      <td>desktop</td>\n",
       "      <td>2017-06-01 07:59:00</td>\n",
       "      <td>3</td>\n",
       "      <td>2017-06-01 07:31:00</td>\n",
       "    </tr>\n",
       "  </tbody>\n",
       "</table>\n",
       "</div>"
      ],
      "text/plain": [
       "               buy_ts  revenue                   uid    first_order_date  \\\n",
       "0 2017-06-01 00:10:00    17.00  10329302124590727494 2017-06-01 00:10:00   \n",
       "1 2017-06-01 00:25:00     0.55  11627257723692907447 2017-06-01 00:25:00   \n",
       "2 2017-06-01 00:27:00     0.37  17903680561304213844 2017-06-01 00:27:00   \n",
       "3 2017-06-01 00:29:00     0.55  16109239769442553005 2017-06-01 00:29:00   \n",
       "4 2017-06-01 07:58:00     0.37  14200605875248379450 2017-06-01 07:58:00   \n",
       "\n",
       "  first_order_month order_month   device              end_ts  source_id  \\\n",
       "0        2017-06-01  2017-06-01  desktop 2017-06-01 00:11:00          1   \n",
       "1        2017-06-01  2017-06-01  desktop 2017-06-01 00:25:00          2   \n",
       "2        2017-06-01  2017-06-01  desktop 2017-06-01 00:34:00          2   \n",
       "3        2017-06-01  2017-06-01  desktop 2017-06-01 00:33:00          2   \n",
       "4        2017-06-01  2017-06-01  desktop 2017-06-01 07:59:00          3   \n",
       "\n",
       "             start_ts  \n",
       "0 2017-06-01 00:09:00  \n",
       "1 2017-06-01 00:14:00  \n",
       "2 2017-06-01 00:25:00  \n",
       "3 2017-06-01 00:14:00  \n",
       "4 2017-06-01 07:31:00  "
      ]
     },
     "execution_count": 117,
     "metadata": {},
     "output_type": "execute_result"
    }
   ],
   "source": [
    "orders_plus_visits = pd.merge(orders, visits_orders, on = 'uid')\n",
    "orders_plus_visits.head()"
   ]
  },
  {
   "cell_type": "code",
   "execution_count": 118,
   "metadata": {},
   "outputs": [],
   "source": [
    "orders_plus_visits['session_month'] = orders_plus_visits['start_ts'].astype('datetime64[M]')\n"
   ]
  },
  {
   "cell_type": "markdown",
   "metadata": {},
   "source": [
    "Найдем прибыль с каждого источника"
   ]
  },
  {
   "cell_type": "code",
   "execution_count": 119,
   "metadata": {},
   "outputs": [
    {
     "data": {
      "text/html": [
       "<div>\n",
       "<style scoped>\n",
       "    .dataframe tbody tr th:only-of-type {\n",
       "        vertical-align: middle;\n",
       "    }\n",
       "\n",
       "    .dataframe tbody tr th {\n",
       "        vertical-align: top;\n",
       "    }\n",
       "\n",
       "    .dataframe thead th {\n",
       "        text-align: right;\n",
       "    }\n",
       "</style>\n",
       "<table border=\"1\" class=\"dataframe\">\n",
       "  <thead>\n",
       "    <tr style=\"text-align: right;\">\n",
       "      <th></th>\n",
       "      <th>first_order_month</th>\n",
       "      <th>order_month</th>\n",
       "      <th>source_id</th>\n",
       "      <th>revenue</th>\n",
       "    </tr>\n",
       "  </thead>\n",
       "  <tbody>\n",
       "    <tr>\n",
       "      <td>0</td>\n",
       "      <td>2017-06-01</td>\n",
       "      <td>2017-06-01</td>\n",
       "      <td>1</td>\n",
       "      <td>1378.70</td>\n",
       "    </tr>\n",
       "    <tr>\n",
       "      <td>1</td>\n",
       "      <td>2017-06-01</td>\n",
       "      <td>2017-06-01</td>\n",
       "      <td>2</td>\n",
       "      <td>1043.68</td>\n",
       "    </tr>\n",
       "    <tr>\n",
       "      <td>2</td>\n",
       "      <td>2017-06-01</td>\n",
       "      <td>2017-06-01</td>\n",
       "      <td>3</td>\n",
       "      <td>2804.34</td>\n",
       "    </tr>\n",
       "    <tr>\n",
       "      <td>3</td>\n",
       "      <td>2017-06-01</td>\n",
       "      <td>2017-06-01</td>\n",
       "      <td>4</td>\n",
       "      <td>1959.84</td>\n",
       "    </tr>\n",
       "    <tr>\n",
       "      <td>4</td>\n",
       "      <td>2017-06-01</td>\n",
       "      <td>2017-06-01</td>\n",
       "      <td>5</td>\n",
       "      <td>1898.89</td>\n",
       "    </tr>\n",
       "  </tbody>\n",
       "</table>\n",
       "</div>"
      ],
      "text/plain": [
       "  first_order_month order_month  source_id  revenue\n",
       "0        2017-06-01  2017-06-01          1  1378.70\n",
       "1        2017-06-01  2017-06-01          2  1043.68\n",
       "2        2017-06-01  2017-06-01          3  2804.34\n",
       "3        2017-06-01  2017-06-01          4  1959.84\n",
       "4        2017-06-01  2017-06-01          5  1898.89"
      ]
     },
     "execution_count": 119,
     "metadata": {},
     "output_type": "execute_result"
    }
   ],
   "source": [
    "x = (client_per_source\n",
    "    .pivot_table(index = ['first_order_month', 'order_month', 'source_id'], values = ['revenue'], aggfunc = 'sum')\n",
    "    .reset_index())\n",
    "x.head()"
   ]
  },
  {
   "cell_type": "code",
   "execution_count": 120,
   "metadata": {},
   "outputs": [
    {
     "data": {
      "text/plain": [
       "source_id      2345.0\n",
       "revenue      252057.2\n",
       "dtype: float64"
      ]
     },
     "execution_count": 120,
     "metadata": {},
     "output_type": "execute_result"
    }
   ],
   "source": [
    "x.sum()"
   ]
  },
  {
   "cell_type": "markdown",
   "metadata": {},
   "source": [
    "Найдем затраты на каждый источник"
   ]
  },
  {
   "cell_type": "code",
   "execution_count": 121,
   "metadata": {},
   "outputs": [
    {
     "data": {
      "text/html": [
       "<div>\n",
       "<style scoped>\n",
       "    .dataframe tbody tr th:only-of-type {\n",
       "        vertical-align: middle;\n",
       "    }\n",
       "\n",
       "    .dataframe tbody tr th {\n",
       "        vertical-align: top;\n",
       "    }\n",
       "\n",
       "    .dataframe thead th {\n",
       "        text-align: right;\n",
       "    }\n",
       "</style>\n",
       "<table border=\"1\" class=\"dataframe\">\n",
       "  <thead>\n",
       "    <tr style=\"text-align: right;\">\n",
       "      <th></th>\n",
       "      <th>source_id</th>\n",
       "      <th>first_order_month</th>\n",
       "      <th>order_month</th>\n",
       "      <th>costs</th>\n",
       "    </tr>\n",
       "  </thead>\n",
       "  <tbody>\n",
       "    <tr>\n",
       "      <td>0</td>\n",
       "      <td>1</td>\n",
       "      <td>2017-06-01</td>\n",
       "      <td>2017-06-01</td>\n",
       "      <td>1125.61</td>\n",
       "    </tr>\n",
       "    <tr>\n",
       "      <td>1</td>\n",
       "      <td>1</td>\n",
       "      <td>2017-07-01</td>\n",
       "      <td>2017-07-01</td>\n",
       "      <td>1072.88</td>\n",
       "    </tr>\n",
       "    <tr>\n",
       "      <td>2</td>\n",
       "      <td>1</td>\n",
       "      <td>2017-08-01</td>\n",
       "      <td>2017-08-01</td>\n",
       "      <td>951.81</td>\n",
       "    </tr>\n",
       "    <tr>\n",
       "      <td>3</td>\n",
       "      <td>1</td>\n",
       "      <td>2017-09-01</td>\n",
       "      <td>2017-09-01</td>\n",
       "      <td>1502.01</td>\n",
       "    </tr>\n",
       "    <tr>\n",
       "      <td>4</td>\n",
       "      <td>1</td>\n",
       "      <td>2017-10-01</td>\n",
       "      <td>2017-10-01</td>\n",
       "      <td>2315.75</td>\n",
       "    </tr>\n",
       "  </tbody>\n",
       "</table>\n",
       "</div>"
      ],
      "text/plain": [
       "   source_id first_order_month order_month    costs\n",
       "0          1        2017-06-01  2017-06-01  1125.61\n",
       "1          1        2017-07-01  2017-07-01  1072.88\n",
       "2          1        2017-08-01  2017-08-01   951.81\n",
       "3          1        2017-09-01  2017-09-01  1502.01\n",
       "4          1        2017-10-01  2017-10-01  2315.75"
      ]
     },
     "execution_count": 121,
     "metadata": {},
     "output_type": "execute_result"
    }
   ],
   "source": [
    "df_costs['order_month'] = df_costs['dt'].astype('datetime64[M]')\n",
    "cost_source = df_costs.groupby(['source_id', 'month', 'order_month']).agg({'costs': 'sum'}).reset_index()\n",
    "cost_source = cost_source.rename(columns = ({'month': 'first_order_month'}))\n",
    "cost_source.head()"
   ]
  },
  {
   "cell_type": "markdown",
   "metadata": {},
   "source": [
    "Объеденим таблицы первого источника первого захода и покупки с визитами"
   ]
  },
  {
   "cell_type": "code",
   "execution_count": 122,
   "metadata": {},
   "outputs": [
    {
     "data": {
      "text/html": [
       "<div>\n",
       "<style scoped>\n",
       "    .dataframe tbody tr th:only-of-type {\n",
       "        vertical-align: middle;\n",
       "    }\n",
       "\n",
       "    .dataframe tbody tr th {\n",
       "        vertical-align: top;\n",
       "    }\n",
       "\n",
       "    .dataframe thead th {\n",
       "        text-align: right;\n",
       "    }\n",
       "</style>\n",
       "<table border=\"1\" class=\"dataframe\">\n",
       "  <thead>\n",
       "    <tr style=\"text-align: right;\">\n",
       "      <th></th>\n",
       "      <th>buy_ts</th>\n",
       "      <th>revenue</th>\n",
       "      <th>uid</th>\n",
       "      <th>first_order_date</th>\n",
       "      <th>first_order_month</th>\n",
       "      <th>order_month</th>\n",
       "      <th>device</th>\n",
       "      <th>end_ts</th>\n",
       "      <th>first_session</th>\n",
       "      <th>start_ts</th>\n",
       "      <th>session_month</th>\n",
       "    </tr>\n",
       "  </thead>\n",
       "  <tbody>\n",
       "    <tr>\n",
       "      <td>0</td>\n",
       "      <td>2017-06-01 00:10:00</td>\n",
       "      <td>17.00</td>\n",
       "      <td>10329302124590727494</td>\n",
       "      <td>2017-06-01 00:10:00</td>\n",
       "      <td>2017-06-01</td>\n",
       "      <td>2017-06-01</td>\n",
       "      <td>desktop</td>\n",
       "      <td>2017-06-01 00:11:00</td>\n",
       "      <td>1</td>\n",
       "      <td>2017-06-01 00:09:00</td>\n",
       "      <td>2017-06-01</td>\n",
       "    </tr>\n",
       "    <tr>\n",
       "      <td>1</td>\n",
       "      <td>2017-06-01 00:25:00</td>\n",
       "      <td>0.55</td>\n",
       "      <td>11627257723692907447</td>\n",
       "      <td>2017-06-01 00:25:00</td>\n",
       "      <td>2017-06-01</td>\n",
       "      <td>2017-06-01</td>\n",
       "      <td>desktop</td>\n",
       "      <td>2017-06-01 00:25:00</td>\n",
       "      <td>2</td>\n",
       "      <td>2017-06-01 00:14:00</td>\n",
       "      <td>2017-06-01</td>\n",
       "    </tr>\n",
       "    <tr>\n",
       "      <td>2</td>\n",
       "      <td>2017-06-01 00:27:00</td>\n",
       "      <td>0.37</td>\n",
       "      <td>17903680561304213844</td>\n",
       "      <td>2017-06-01 00:27:00</td>\n",
       "      <td>2017-06-01</td>\n",
       "      <td>2017-06-01</td>\n",
       "      <td>desktop</td>\n",
       "      <td>2017-06-01 00:34:00</td>\n",
       "      <td>2</td>\n",
       "      <td>2017-06-01 00:25:00</td>\n",
       "      <td>2017-06-01</td>\n",
       "    </tr>\n",
       "    <tr>\n",
       "      <td>3</td>\n",
       "      <td>2017-06-01 00:29:00</td>\n",
       "      <td>0.55</td>\n",
       "      <td>16109239769442553005</td>\n",
       "      <td>2017-06-01 00:29:00</td>\n",
       "      <td>2017-06-01</td>\n",
       "      <td>2017-06-01</td>\n",
       "      <td>desktop</td>\n",
       "      <td>2017-06-01 00:33:00</td>\n",
       "      <td>2</td>\n",
       "      <td>2017-06-01 00:14:00</td>\n",
       "      <td>2017-06-01</td>\n",
       "    </tr>\n",
       "    <tr>\n",
       "      <td>4</td>\n",
       "      <td>2017-06-01 07:58:00</td>\n",
       "      <td>0.37</td>\n",
       "      <td>14200605875248379450</td>\n",
       "      <td>2017-06-01 07:58:00</td>\n",
       "      <td>2017-06-01</td>\n",
       "      <td>2017-06-01</td>\n",
       "      <td>desktop</td>\n",
       "      <td>2017-06-01 07:59:00</td>\n",
       "      <td>3</td>\n",
       "      <td>2017-06-01 07:31:00</td>\n",
       "      <td>2017-06-01</td>\n",
       "    </tr>\n",
       "  </tbody>\n",
       "</table>\n",
       "</div>"
      ],
      "text/plain": [
       "               buy_ts  revenue                   uid    first_order_date  \\\n",
       "0 2017-06-01 00:10:00    17.00  10329302124590727494 2017-06-01 00:10:00   \n",
       "1 2017-06-01 00:25:00     0.55  11627257723692907447 2017-06-01 00:25:00   \n",
       "2 2017-06-01 00:27:00     0.37  17903680561304213844 2017-06-01 00:27:00   \n",
       "3 2017-06-01 00:29:00     0.55  16109239769442553005 2017-06-01 00:29:00   \n",
       "4 2017-06-01 07:58:00     0.37  14200605875248379450 2017-06-01 07:58:00   \n",
       "\n",
       "  first_order_month order_month   device              end_ts  first_session  \\\n",
       "0        2017-06-01  2017-06-01  desktop 2017-06-01 00:11:00              1   \n",
       "1        2017-06-01  2017-06-01  desktop 2017-06-01 00:25:00              2   \n",
       "2        2017-06-01  2017-06-01  desktop 2017-06-01 00:34:00              2   \n",
       "3        2017-06-01  2017-06-01  desktop 2017-06-01 00:33:00              2   \n",
       "4        2017-06-01  2017-06-01  desktop 2017-06-01 07:59:00              3   \n",
       "\n",
       "             start_ts session_month  \n",
       "0 2017-06-01 00:09:00    2017-06-01  \n",
       "1 2017-06-01 00:14:00    2017-06-01  \n",
       "2 2017-06-01 00:25:00    2017-06-01  \n",
       "3 2017-06-01 00:14:00    2017-06-01  \n",
       "4 2017-06-01 07:31:00    2017-06-01  "
      ]
     },
     "execution_count": 122,
     "metadata": {},
     "output_type": "execute_result"
    }
   ],
   "source": [
    "var_1 = pd.merge(orders_plus_visits, first_source_per_user, on = ['uid', 'source_id'])\n",
    "var_1 = var_1.rename(columns = ({'source_id': 'first_session'}))\n",
    "var_1.head()"
   ]
  },
  {
   "cell_type": "markdown",
   "metadata": {},
   "source": [
    "Посчитаем количество покупателей по месяцам и источнику"
   ]
  },
  {
   "cell_type": "code",
   "execution_count": 123,
   "metadata": {},
   "outputs": [
    {
     "data": {
      "text/html": [
       "<div>\n",
       "<style scoped>\n",
       "    .dataframe tbody tr th:only-of-type {\n",
       "        vertical-align: middle;\n",
       "    }\n",
       "\n",
       "    .dataframe tbody tr th {\n",
       "        vertical-align: top;\n",
       "    }\n",
       "\n",
       "    .dataframe thead th {\n",
       "        text-align: right;\n",
       "    }\n",
       "</style>\n",
       "<table border=\"1\" class=\"dataframe\">\n",
       "  <thead>\n",
       "    <tr style=\"text-align: right;\">\n",
       "      <th></th>\n",
       "      <th>source_id</th>\n",
       "      <th>first_order_month</th>\n",
       "      <th>order_month</th>\n",
       "      <th>uid</th>\n",
       "    </tr>\n",
       "  </thead>\n",
       "  <tbody>\n",
       "    <tr>\n",
       "      <td>0</td>\n",
       "      <td>1</td>\n",
       "      <td>2017-06-01</td>\n",
       "      <td>2017-06-01</td>\n",
       "      <td>190</td>\n",
       "    </tr>\n",
       "    <tr>\n",
       "      <td>1</td>\n",
       "      <td>1</td>\n",
       "      <td>2017-06-01</td>\n",
       "      <td>2017-07-01</td>\n",
       "      <td>16</td>\n",
       "    </tr>\n",
       "    <tr>\n",
       "      <td>2</td>\n",
       "      <td>1</td>\n",
       "      <td>2017-06-01</td>\n",
       "      <td>2017-08-01</td>\n",
       "      <td>10</td>\n",
       "    </tr>\n",
       "    <tr>\n",
       "      <td>3</td>\n",
       "      <td>1</td>\n",
       "      <td>2017-06-01</td>\n",
       "      <td>2017-09-01</td>\n",
       "      <td>9</td>\n",
       "    </tr>\n",
       "    <tr>\n",
       "      <td>4</td>\n",
       "      <td>1</td>\n",
       "      <td>2017-06-01</td>\n",
       "      <td>2017-10-01</td>\n",
       "      <td>12</td>\n",
       "    </tr>\n",
       "  </tbody>\n",
       "</table>\n",
       "</div>"
      ],
      "text/plain": [
       "   source_id first_order_month order_month  uid\n",
       "0          1        2017-06-01  2017-06-01  190\n",
       "1          1        2017-06-01  2017-07-01   16\n",
       "2          1        2017-06-01  2017-08-01   10\n",
       "3          1        2017-06-01  2017-09-01    9\n",
       "4          1        2017-06-01  2017-10-01   12"
      ]
     },
     "execution_count": 123,
     "metadata": {},
     "output_type": "execute_result"
    }
   ],
   "source": [
    "var_1_new = var_1.groupby(['first_session', 'first_order_month', 'order_month']).agg({'uid': 'nunique'}).reset_index()\n",
    "var_1_new = var_1_new.rename(columns = ({'first_session': 'source_id'}))\n",
    "var_1_new.head()"
   ]
  },
  {
   "cell_type": "markdown",
   "metadata": {},
   "source": [
    "Объеденим таблицы затрат и покупателей"
   ]
  },
  {
   "cell_type": "code",
   "execution_count": 124,
   "metadata": {},
   "outputs": [
    {
     "data": {
      "text/html": [
       "<div>\n",
       "<style scoped>\n",
       "    .dataframe tbody tr th:only-of-type {\n",
       "        vertical-align: middle;\n",
       "    }\n",
       "\n",
       "    .dataframe tbody tr th {\n",
       "        vertical-align: top;\n",
       "    }\n",
       "\n",
       "    .dataframe thead th {\n",
       "        text-align: right;\n",
       "    }\n",
       "</style>\n",
       "<table border=\"1\" class=\"dataframe\">\n",
       "  <thead>\n",
       "    <tr style=\"text-align: right;\">\n",
       "      <th></th>\n",
       "      <th>source_id</th>\n",
       "      <th>first_order_month</th>\n",
       "      <th>order_month</th>\n",
       "      <th>costs</th>\n",
       "      <th>uid</th>\n",
       "    </tr>\n",
       "  </thead>\n",
       "  <tbody>\n",
       "    <tr>\n",
       "      <td>0</td>\n",
       "      <td>1</td>\n",
       "      <td>2017-06-01</td>\n",
       "      <td>2017-06-01</td>\n",
       "      <td>1125.61</td>\n",
       "      <td>190</td>\n",
       "    </tr>\n",
       "    <tr>\n",
       "      <td>1</td>\n",
       "      <td>1</td>\n",
       "      <td>2017-07-01</td>\n",
       "      <td>2017-07-01</td>\n",
       "      <td>1072.88</td>\n",
       "      <td>160</td>\n",
       "    </tr>\n",
       "    <tr>\n",
       "      <td>2</td>\n",
       "      <td>1</td>\n",
       "      <td>2017-08-01</td>\n",
       "      <td>2017-08-01</td>\n",
       "      <td>951.81</td>\n",
       "      <td>113</td>\n",
       "    </tr>\n",
       "    <tr>\n",
       "      <td>3</td>\n",
       "      <td>1</td>\n",
       "      <td>2017-09-01</td>\n",
       "      <td>2017-09-01</td>\n",
       "      <td>1502.01</td>\n",
       "      <td>227</td>\n",
       "    </tr>\n",
       "    <tr>\n",
       "      <td>4</td>\n",
       "      <td>1</td>\n",
       "      <td>2017-10-01</td>\n",
       "      <td>2017-10-01</td>\n",
       "      <td>2315.75</td>\n",
       "      <td>340</td>\n",
       "    </tr>\n",
       "  </tbody>\n",
       "</table>\n",
       "</div>"
      ],
      "text/plain": [
       "   source_id first_order_month order_month    costs  uid\n",
       "0          1        2017-06-01  2017-06-01  1125.61  190\n",
       "1          1        2017-07-01  2017-07-01  1072.88  160\n",
       "2          1        2017-08-01  2017-08-01   951.81  113\n",
       "3          1        2017-09-01  2017-09-01  1502.01  227\n",
       "4          1        2017-10-01  2017-10-01  2315.75  340"
      ]
     },
     "execution_count": 124,
     "metadata": {},
     "output_type": "execute_result"
    }
   ],
   "source": [
    "var_1_new = pd.merge(cost_source, var_1_new, on = ['first_order_month', 'order_month', 'source_id'])\n",
    "var_1_new.head()"
   ]
  },
  {
   "cell_type": "markdown",
   "metadata": {},
   "source": [
    "Объёденим таблицы с затратами по первому месяцу покупки, месяцу покупки и источнику"
   ]
  },
  {
   "cell_type": "code",
   "execution_count": 125,
   "metadata": {},
   "outputs": [
    {
     "data": {
      "text/html": [
       "<div>\n",
       "<style scoped>\n",
       "    .dataframe tbody tr th:only-of-type {\n",
       "        vertical-align: middle;\n",
       "    }\n",
       "\n",
       "    .dataframe tbody tr th {\n",
       "        vertical-align: top;\n",
       "    }\n",
       "\n",
       "    .dataframe thead th {\n",
       "        text-align: right;\n",
       "    }\n",
       "</style>\n",
       "<table border=\"1\" class=\"dataframe\">\n",
       "  <thead>\n",
       "    <tr style=\"text-align: right;\">\n",
       "      <th></th>\n",
       "      <th>source_id</th>\n",
       "      <th>first_order_month</th>\n",
       "      <th>order_month</th>\n",
       "      <th>costs</th>\n",
       "      <th>uid</th>\n",
       "      <th>revenue</th>\n",
       "    </tr>\n",
       "  </thead>\n",
       "  <tbody>\n",
       "    <tr>\n",
       "      <td>0</td>\n",
       "      <td>1</td>\n",
       "      <td>2017-06-01</td>\n",
       "      <td>2017-06-01</td>\n",
       "      <td>1125.61</td>\n",
       "      <td>190.0</td>\n",
       "      <td>1378.70</td>\n",
       "    </tr>\n",
       "    <tr>\n",
       "      <td>1</td>\n",
       "      <td>1</td>\n",
       "      <td>2017-07-01</td>\n",
       "      <td>2017-07-01</td>\n",
       "      <td>1072.88</td>\n",
       "      <td>160.0</td>\n",
       "      <td>1166.70</td>\n",
       "    </tr>\n",
       "    <tr>\n",
       "      <td>2</td>\n",
       "      <td>1</td>\n",
       "      <td>2017-08-01</td>\n",
       "      <td>2017-08-01</td>\n",
       "      <td>951.81</td>\n",
       "      <td>113.0</td>\n",
       "      <td>846.75</td>\n",
       "    </tr>\n",
       "    <tr>\n",
       "      <td>3</td>\n",
       "      <td>1</td>\n",
       "      <td>2017-09-01</td>\n",
       "      <td>2017-09-01</td>\n",
       "      <td>1502.01</td>\n",
       "      <td>227.0</td>\n",
       "      <td>1365.34</td>\n",
       "    </tr>\n",
       "    <tr>\n",
       "      <td>4</td>\n",
       "      <td>1</td>\n",
       "      <td>2017-10-01</td>\n",
       "      <td>2017-10-01</td>\n",
       "      <td>2315.75</td>\n",
       "      <td>340.0</td>\n",
       "      <td>2046.33</td>\n",
       "    </tr>\n",
       "    <tr>\n",
       "      <td>...</td>\n",
       "      <td>...</td>\n",
       "      <td>...</td>\n",
       "      <td>...</td>\n",
       "      <td>...</td>\n",
       "      <td>...</td>\n",
       "      <td>...</td>\n",
       "    </tr>\n",
       "    <tr>\n",
       "      <td>511</td>\n",
       "      <td>3</td>\n",
       "      <td>2018-04-01</td>\n",
       "      <td>2018-05-01</td>\n",
       "      <td>NaN</td>\n",
       "      <td>NaN</td>\n",
       "      <td>875.44</td>\n",
       "    </tr>\n",
       "    <tr>\n",
       "      <td>512</td>\n",
       "      <td>4</td>\n",
       "      <td>2018-04-01</td>\n",
       "      <td>2018-05-01</td>\n",
       "      <td>NaN</td>\n",
       "      <td>NaN</td>\n",
       "      <td>134.58</td>\n",
       "    </tr>\n",
       "    <tr>\n",
       "      <td>513</td>\n",
       "      <td>5</td>\n",
       "      <td>2018-04-01</td>\n",
       "      <td>2018-05-01</td>\n",
       "      <td>NaN</td>\n",
       "      <td>NaN</td>\n",
       "      <td>30.81</td>\n",
       "    </tr>\n",
       "    <tr>\n",
       "      <td>514</td>\n",
       "      <td>9</td>\n",
       "      <td>2018-04-01</td>\n",
       "      <td>2018-05-01</td>\n",
       "      <td>NaN</td>\n",
       "      <td>NaN</td>\n",
       "      <td>23.83</td>\n",
       "    </tr>\n",
       "    <tr>\n",
       "      <td>515</td>\n",
       "      <td>4</td>\n",
       "      <td>2018-06-01</td>\n",
       "      <td>2018-06-01</td>\n",
       "      <td>NaN</td>\n",
       "      <td>NaN</td>\n",
       "      <td>3.42</td>\n",
       "    </tr>\n",
       "  </tbody>\n",
       "</table>\n",
       "<p>516 rows × 6 columns</p>\n",
       "</div>"
      ],
      "text/plain": [
       "     source_id first_order_month order_month    costs    uid  revenue\n",
       "0            1        2017-06-01  2017-06-01  1125.61  190.0  1378.70\n",
       "1            1        2017-07-01  2017-07-01  1072.88  160.0  1166.70\n",
       "2            1        2017-08-01  2017-08-01   951.81  113.0   846.75\n",
       "3            1        2017-09-01  2017-09-01  1502.01  227.0  1365.34\n",
       "4            1        2017-10-01  2017-10-01  2315.75  340.0  2046.33\n",
       "..         ...               ...         ...      ...    ...      ...\n",
       "511          3        2018-04-01  2018-05-01      NaN    NaN   875.44\n",
       "512          4        2018-04-01  2018-05-01      NaN    NaN   134.58\n",
       "513          5        2018-04-01  2018-05-01      NaN    NaN    30.81\n",
       "514          9        2018-04-01  2018-05-01      NaN    NaN    23.83\n",
       "515          4        2018-06-01  2018-06-01      NaN    NaN     3.42\n",
       "\n",
       "[516 rows x 6 columns]"
      ]
     },
     "execution_count": 125,
     "metadata": {},
     "output_type": "execute_result"
    }
   ],
   "source": [
    "proba_n =  pd.merge(var_1_new, x, on = ['first_order_month', 'order_month', 'source_id'], how = 'outer')\n",
    "proba_n"
   ]
  },
  {
   "cell_type": "code",
   "execution_count": 126,
   "metadata": {},
   "outputs": [
    {
     "data": {
      "text/plain": [
       "source_id      2345.00\n",
       "costs        329131.62\n",
       "uid           36521.00\n",
       "revenue      252057.20\n",
       "dtype: float64"
      ]
     },
     "execution_count": 126,
     "metadata": {},
     "output_type": "execute_result"
    }
   ],
   "source": [
    "proba_n.sum()"
   ]
  },
  {
   "cell_type": "markdown",
   "metadata": {},
   "source": [
    "Найдём LTV. Разделим валовую прибыль когорт за каждый месяц на общее число пользователей в каждой когорте"
   ]
  },
  {
   "cell_type": "code",
   "execution_count": 127,
   "metadata": {},
   "outputs": [
    {
     "data": {
      "text/html": [
       "<div>\n",
       "<style scoped>\n",
       "    .dataframe tbody tr th:only-of-type {\n",
       "        vertical-align: middle;\n",
       "    }\n",
       "\n",
       "    .dataframe tbody tr th {\n",
       "        vertical-align: top;\n",
       "    }\n",
       "\n",
       "    .dataframe thead th {\n",
       "        text-align: right;\n",
       "    }\n",
       "</style>\n",
       "<table border=\"1\" class=\"dataframe\">\n",
       "  <thead>\n",
       "    <tr style=\"text-align: right;\">\n",
       "      <th>source_id</th>\n",
       "      <th>1</th>\n",
       "      <th>2</th>\n",
       "      <th>3</th>\n",
       "      <th>4</th>\n",
       "      <th>5</th>\n",
       "      <th>9</th>\n",
       "      <th>10</th>\n",
       "    </tr>\n",
       "    <tr>\n",
       "      <th>first_order_month</th>\n",
       "      <th></th>\n",
       "      <th></th>\n",
       "      <th></th>\n",
       "      <th></th>\n",
       "      <th></th>\n",
       "      <th></th>\n",
       "      <th></th>\n",
       "    </tr>\n",
       "  </thead>\n",
       "  <tbody>\n",
       "    <tr>\n",
       "      <td>2017-06-01</td>\n",
       "      <td>7.256</td>\n",
       "      <td>4.441</td>\n",
       "      <td>4.396</td>\n",
       "      <td>4.745</td>\n",
       "      <td>4.945</td>\n",
       "      <td>3.569</td>\n",
       "      <td>2.414</td>\n",
       "    </tr>\n",
       "    <tr>\n",
       "      <td>2017-07-01</td>\n",
       "      <td>7.292</td>\n",
       "      <td>8.430</td>\n",
       "      <td>6.105</td>\n",
       "      <td>5.545</td>\n",
       "      <td>5.287</td>\n",
       "      <td>4.469</td>\n",
       "      <td>3.461</td>\n",
       "    </tr>\n",
       "    <tr>\n",
       "      <td>2017-08-01</td>\n",
       "      <td>7.493</td>\n",
       "      <td>5.739</td>\n",
       "      <td>5.079</td>\n",
       "      <td>5.065</td>\n",
       "      <td>5.050</td>\n",
       "      <td>4.075</td>\n",
       "      <td>4.997</td>\n",
       "    </tr>\n",
       "    <tr>\n",
       "      <td>2017-09-01</td>\n",
       "      <td>6.015</td>\n",
       "      <td>8.282</td>\n",
       "      <td>5.563</td>\n",
       "      <td>4.767</td>\n",
       "      <td>6.196</td>\n",
       "      <td>4.297</td>\n",
       "      <td>2.234</td>\n",
       "    </tr>\n",
       "    <tr>\n",
       "      <td>2017-10-01</td>\n",
       "      <td>6.019</td>\n",
       "      <td>7.676</td>\n",
       "      <td>4.787</td>\n",
       "      <td>4.368</td>\n",
       "      <td>5.091</td>\n",
       "      <td>5.064</td>\n",
       "      <td>2.619</td>\n",
       "    </tr>\n",
       "    <tr>\n",
       "      <td>2017-11-01</td>\n",
       "      <td>7.391</td>\n",
       "      <td>6.989</td>\n",
       "      <td>4.532</td>\n",
       "      <td>5.144</td>\n",
       "      <td>4.560</td>\n",
       "      <td>3.739</td>\n",
       "      <td>4.622</td>\n",
       "    </tr>\n",
       "    <tr>\n",
       "      <td>2017-12-01</td>\n",
       "      <td>4.584</td>\n",
       "      <td>8.809</td>\n",
       "      <td>4.179</td>\n",
       "      <td>4.172</td>\n",
       "      <td>5.007</td>\n",
       "      <td>3.826</td>\n",
       "      <td>3.791</td>\n",
       "    </tr>\n",
       "    <tr>\n",
       "      <td>2018-01-01</td>\n",
       "      <td>5.769</td>\n",
       "      <td>4.343</td>\n",
       "      <td>4.114</td>\n",
       "      <td>3.782</td>\n",
       "      <td>4.352</td>\n",
       "      <td>2.834</td>\n",
       "      <td>3.099</td>\n",
       "    </tr>\n",
       "    <tr>\n",
       "      <td>2018-02-01</td>\n",
       "      <td>4.687</td>\n",
       "      <td>5.417</td>\n",
       "      <td>3.788</td>\n",
       "      <td>4.093</td>\n",
       "      <td>4.322</td>\n",
       "      <td>4.801</td>\n",
       "      <td>2.474</td>\n",
       "    </tr>\n",
       "    <tr>\n",
       "      <td>2018-03-01</td>\n",
       "      <td>9.343</td>\n",
       "      <td>5.278</td>\n",
       "      <td>4.333</td>\n",
       "      <td>4.569</td>\n",
       "      <td>4.804</td>\n",
       "      <td>2.626</td>\n",
       "      <td>3.432</td>\n",
       "    </tr>\n",
       "    <tr>\n",
       "      <td>2018-04-01</td>\n",
       "      <td>4.705</td>\n",
       "      <td>5.773</td>\n",
       "      <td>4.533</td>\n",
       "      <td>5.025</td>\n",
       "      <td>4.192</td>\n",
       "      <td>5.084</td>\n",
       "      <td>2.448</td>\n",
       "    </tr>\n",
       "    <tr>\n",
       "      <td>2018-05-01</td>\n",
       "      <td>5.221</td>\n",
       "      <td>6.845</td>\n",
       "      <td>3.858</td>\n",
       "      <td>4.730</td>\n",
       "      <td>4.213</td>\n",
       "      <td>3.718</td>\n",
       "      <td>3.622</td>\n",
       "    </tr>\n",
       "  </tbody>\n",
       "</table>\n",
       "</div>"
      ],
      "text/plain": [
       "source_id             1      2      3      4      5      9      10\n",
       "first_order_month                                                 \n",
       "2017-06-01         7.256  4.441  4.396  4.745  4.945  3.569  2.414\n",
       "2017-07-01         7.292  8.430  6.105  5.545  5.287  4.469  3.461\n",
       "2017-08-01         7.493  5.739  5.079  5.065  5.050  4.075  4.997\n",
       "2017-09-01         6.015  8.282  5.563  4.767  6.196  4.297  2.234\n",
       "2017-10-01         6.019  7.676  4.787  4.368  5.091  5.064  2.619\n",
       "2017-11-01         7.391  6.989  4.532  5.144  4.560  3.739  4.622\n",
       "2017-12-01         4.584  8.809  4.179  4.172  5.007  3.826  3.791\n",
       "2018-01-01         5.769  4.343  4.114  3.782  4.352  2.834  3.099\n",
       "2018-02-01         4.687  5.417  3.788  4.093  4.322  4.801  2.474\n",
       "2018-03-01         9.343  5.278  4.333  4.569  4.804  2.626  3.432\n",
       "2018-04-01         4.705  5.773  4.533  5.025  4.192  5.084  2.448\n",
       "2018-05-01         5.221  6.845  3.858  4.730  4.213  3.718  3.622"
      ]
     },
     "execution_count": 127,
     "metadata": {},
     "output_type": "execute_result"
    }
   ],
   "source": [
    "proba_n['ltv'] = proba_n['revenue'] / proba_n['uid']\n",
    "    \n",
    "output = proba_n.pivot_table(\n",
    "        index='first_order_month', \n",
    "        columns='source_id', \n",
    "        values='ltv', \n",
    "        aggfunc='mean').round(3)\n",
    "    \n",
    "output.iloc[:, :].fillna('')"
   ]
  },
  {
   "cell_type": "markdown",
   "metadata": {},
   "source": [
    "Посчитаем CAC этой когорты. Поделим расходы за этот месяц на количество людей в когорте"
   ]
  },
  {
   "cell_type": "code",
   "execution_count": 128,
   "metadata": {},
   "outputs": [
    {
     "data": {
      "text/html": [
       "<div>\n",
       "<style scoped>\n",
       "    .dataframe tbody tr th:only-of-type {\n",
       "        vertical-align: middle;\n",
       "    }\n",
       "\n",
       "    .dataframe tbody tr th {\n",
       "        vertical-align: top;\n",
       "    }\n",
       "\n",
       "    .dataframe thead th {\n",
       "        text-align: right;\n",
       "    }\n",
       "</style>\n",
       "<table border=\"1\" class=\"dataframe\">\n",
       "  <thead>\n",
       "    <tr style=\"text-align: right;\">\n",
       "      <th>source_id</th>\n",
       "      <th>1</th>\n",
       "      <th>2</th>\n",
       "      <th>3</th>\n",
       "      <th>4</th>\n",
       "      <th>5</th>\n",
       "      <th>9</th>\n",
       "      <th>10</th>\n",
       "    </tr>\n",
       "    <tr>\n",
       "      <th>first_order_month</th>\n",
       "      <th></th>\n",
       "      <th></th>\n",
       "      <th></th>\n",
       "      <th></th>\n",
       "      <th></th>\n",
       "      <th></th>\n",
       "      <th></th>\n",
       "    </tr>\n",
       "  </thead>\n",
       "  <tbody>\n",
       "    <tr>\n",
       "      <td>2017-06-01</td>\n",
       "      <td>5.924</td>\n",
       "      <td>10.329</td>\n",
       "      <td>12.119</td>\n",
       "      <td>8.510</td>\n",
       "      <td>6.813</td>\n",
       "      <td>4.194</td>\n",
       "      <td>3.308</td>\n",
       "    </tr>\n",
       "    <tr>\n",
       "      <td>2017-07-01</td>\n",
       "      <td>6.705</td>\n",
       "      <td>11.217</td>\n",
       "      <td>14.989</td>\n",
       "      <td>6.827</td>\n",
       "      <td>7.088</td>\n",
       "      <td>5.818</td>\n",
       "      <td>6.467</td>\n",
       "    </tr>\n",
       "    <tr>\n",
       "      <td>2017-08-01</td>\n",
       "      <td>8.423</td>\n",
       "      <td>14.724</td>\n",
       "      <td>18.230</td>\n",
       "      <td>9.519</td>\n",
       "      <td>6.070</td>\n",
       "      <td>4.081</td>\n",
       "      <td>6.286</td>\n",
       "    </tr>\n",
       "    <tr>\n",
       "      <td>2017-09-01</td>\n",
       "      <td>6.617</td>\n",
       "      <td>13.510</td>\n",
       "      <td>12.757</td>\n",
       "      <td>8.800</td>\n",
       "      <td>6.535</td>\n",
       "      <td>4.777</td>\n",
       "      <td>5.357</td>\n",
       "    </tr>\n",
       "    <tr>\n",
       "      <td>2017-10-01</td>\n",
       "      <td>6.811</td>\n",
       "      <td>12.235</td>\n",
       "      <td>13.661</td>\n",
       "      <td>5.479</td>\n",
       "      <td>6.103</td>\n",
       "      <td>4.837</td>\n",
       "      <td>3.001</td>\n",
       "    </tr>\n",
       "    <tr>\n",
       "      <td>2017-11-01</td>\n",
       "      <td>7.547</td>\n",
       "      <td>13.185</td>\n",
       "      <td>14.001</td>\n",
       "      <td>4.578</td>\n",
       "      <td>9.127</td>\n",
       "      <td>4.712</td>\n",
       "      <td>6.190</td>\n",
       "    </tr>\n",
       "    <tr>\n",
       "      <td>2017-12-01</td>\n",
       "      <td>7.073</td>\n",
       "      <td>12.855</td>\n",
       "      <td>12.316</td>\n",
       "      <td>5.578</td>\n",
       "      <td>7.617</td>\n",
       "      <td>5.438</td>\n",
       "      <td>7.598</td>\n",
       "    </tr>\n",
       "    <tr>\n",
       "      <td>2018-01-01</td>\n",
       "      <td>9.186</td>\n",
       "      <td>14.239</td>\n",
       "      <td>14.720</td>\n",
       "      <td>5.652</td>\n",
       "      <td>8.486</td>\n",
       "      <td>6.839</td>\n",
       "      <td>6.678</td>\n",
       "    </tr>\n",
       "    <tr>\n",
       "      <td>2018-02-01</td>\n",
       "      <td>8.016</td>\n",
       "      <td>15.271</td>\n",
       "      <td>13.030</td>\n",
       "      <td>5.165</td>\n",
       "      <td>7.480</td>\n",
       "      <td>6.565</td>\n",
       "      <td>3.910</td>\n",
       "    </tr>\n",
       "    <tr>\n",
       "      <td>2018-03-01</td>\n",
       "      <td>6.737</td>\n",
       "      <td>11.701</td>\n",
       "      <td>13.640</td>\n",
       "      <td>5.515</td>\n",
       "      <td>8.579</td>\n",
       "      <td>2.983</td>\n",
       "      <td>2.830</td>\n",
       "    </tr>\n",
       "    <tr>\n",
       "      <td>2018-04-01</td>\n",
       "      <td>7.416</td>\n",
       "      <td>14.256</td>\n",
       "      <td>15.019</td>\n",
       "      <td>6.408</td>\n",
       "      <td>8.142</td>\n",
       "      <td>8.686</td>\n",
       "      <td>3.629</td>\n",
       "    </tr>\n",
       "    <tr>\n",
       "      <td>2018-05-01</td>\n",
       "      <td>6.090</td>\n",
       "      <td>6.528</td>\n",
       "      <td>11.151</td>\n",
       "      <td>5.242</td>\n",
       "      <td>7.383</td>\n",
       "      <td>6.036</td>\n",
       "      <td>3.153</td>\n",
       "    </tr>\n",
       "  </tbody>\n",
       "</table>\n",
       "</div>"
      ],
      "text/plain": [
       "source_id             1       2       3      4      5      9      10\n",
       "first_order_month                                                   \n",
       "2017-06-01         5.924  10.329  12.119  8.510  6.813  4.194  3.308\n",
       "2017-07-01         6.705  11.217  14.989  6.827  7.088  5.818  6.467\n",
       "2017-08-01         8.423  14.724  18.230  9.519  6.070  4.081  6.286\n",
       "2017-09-01         6.617  13.510  12.757  8.800  6.535  4.777  5.357\n",
       "2017-10-01         6.811  12.235  13.661  5.479  6.103  4.837  3.001\n",
       "2017-11-01         7.547  13.185  14.001  4.578  9.127  4.712  6.190\n",
       "2017-12-01         7.073  12.855  12.316  5.578  7.617  5.438  7.598\n",
       "2018-01-01         9.186  14.239  14.720  5.652  8.486  6.839  6.678\n",
       "2018-02-01         8.016  15.271  13.030  5.165  7.480  6.565  3.910\n",
       "2018-03-01         6.737  11.701  13.640  5.515  8.579  2.983  2.830\n",
       "2018-04-01         7.416  14.256  15.019  6.408  8.142  8.686  3.629\n",
       "2018-05-01         6.090   6.528  11.151  5.242  7.383  6.036  3.153"
      ]
     },
     "execution_count": 128,
     "metadata": {},
     "output_type": "execute_result"
    }
   ],
   "source": [
    "proba_n['cac'] = proba_n['costs'] / proba_n['uid']\n",
    "    \n",
    "output = proba_n.pivot_table(\n",
    "        index='first_order_month', \n",
    "        columns='source_id', \n",
    "        values='cac', \n",
    "        aggfunc='mean').round(3)\n",
    "    \n",
    "output.iloc[:, :].fillna('')"
   ]
  },
  {
   "cell_type": "markdown",
   "metadata": {},
   "source": [
    "Посчитаем ROI этой когорты. Отнимем от прибыли затраты и поделим на затраты"
   ]
  },
  {
   "cell_type": "code",
   "execution_count": 129,
   "metadata": {},
   "outputs": [
    {
     "data": {
      "text/html": [
       "<div>\n",
       "<style scoped>\n",
       "    .dataframe tbody tr th:only-of-type {\n",
       "        vertical-align: middle;\n",
       "    }\n",
       "\n",
       "    .dataframe tbody tr th {\n",
       "        vertical-align: top;\n",
       "    }\n",
       "\n",
       "    .dataframe thead th {\n",
       "        text-align: right;\n",
       "    }\n",
       "</style>\n",
       "<table border=\"1\" class=\"dataframe\">\n",
       "  <thead>\n",
       "    <tr style=\"text-align: right;\">\n",
       "      <th>source_id</th>\n",
       "      <th>1</th>\n",
       "      <th>2</th>\n",
       "      <th>3</th>\n",
       "      <th>4</th>\n",
       "      <th>5</th>\n",
       "      <th>9</th>\n",
       "      <th>10</th>\n",
       "    </tr>\n",
       "    <tr>\n",
       "      <th>first_order_month</th>\n",
       "      <th></th>\n",
       "      <th></th>\n",
       "      <th></th>\n",
       "      <th></th>\n",
       "      <th></th>\n",
       "      <th></th>\n",
       "      <th></th>\n",
       "    </tr>\n",
       "  </thead>\n",
       "  <tbody>\n",
       "    <tr>\n",
       "      <td>2017-06-01</td>\n",
       "      <td>0.225</td>\n",
       "      <td>-0.570</td>\n",
       "      <td>-0.637</td>\n",
       "      <td>-0.442</td>\n",
       "      <td>-0.274</td>\n",
       "      <td>-0.149</td>\n",
       "      <td>-0.270</td>\n",
       "    </tr>\n",
       "    <tr>\n",
       "      <td>2017-07-01</td>\n",
       "      <td>0.087</td>\n",
       "      <td>-0.248</td>\n",
       "      <td>-0.593</td>\n",
       "      <td>-0.188</td>\n",
       "      <td>-0.254</td>\n",
       "      <td>-0.232</td>\n",
       "      <td>-0.465</td>\n",
       "    </tr>\n",
       "    <tr>\n",
       "      <td>2017-08-01</td>\n",
       "      <td>-0.110</td>\n",
       "      <td>-0.610</td>\n",
       "      <td>-0.721</td>\n",
       "      <td>-0.468</td>\n",
       "      <td>-0.168</td>\n",
       "      <td>-0.001</td>\n",
       "      <td>-0.205</td>\n",
       "    </tr>\n",
       "    <tr>\n",
       "      <td>2017-09-01</td>\n",
       "      <td>-0.091</td>\n",
       "      <td>-0.387</td>\n",
       "      <td>-0.564</td>\n",
       "      <td>-0.458</td>\n",
       "      <td>-0.052</td>\n",
       "      <td>-0.101</td>\n",
       "      <td>-0.583</td>\n",
       "    </tr>\n",
       "    <tr>\n",
       "      <td>2017-10-01</td>\n",
       "      <td>-0.116</td>\n",
       "      <td>-0.373</td>\n",
       "      <td>-0.650</td>\n",
       "      <td>-0.203</td>\n",
       "      <td>-0.166</td>\n",
       "      <td>0.047</td>\n",
       "      <td>-0.127</td>\n",
       "    </tr>\n",
       "    <tr>\n",
       "      <td>2017-11-01</td>\n",
       "      <td>-0.021</td>\n",
       "      <td>-0.470</td>\n",
       "      <td>-0.676</td>\n",
       "      <td>0.123</td>\n",
       "      <td>-0.500</td>\n",
       "      <td>-0.206</td>\n",
       "      <td>-0.253</td>\n",
       "    </tr>\n",
       "    <tr>\n",
       "      <td>2017-12-01</td>\n",
       "      <td>-0.352</td>\n",
       "      <td>-0.315</td>\n",
       "      <td>-0.661</td>\n",
       "      <td>-0.252</td>\n",
       "      <td>-0.343</td>\n",
       "      <td>-0.296</td>\n",
       "      <td>-0.501</td>\n",
       "    </tr>\n",
       "    <tr>\n",
       "      <td>2018-01-01</td>\n",
       "      <td>-0.372</td>\n",
       "      <td>-0.695</td>\n",
       "      <td>-0.720</td>\n",
       "      <td>-0.331</td>\n",
       "      <td>-0.487</td>\n",
       "      <td>-0.586</td>\n",
       "      <td>-0.536</td>\n",
       "    </tr>\n",
       "    <tr>\n",
       "      <td>2018-02-01</td>\n",
       "      <td>-0.415</td>\n",
       "      <td>-0.645</td>\n",
       "      <td>-0.709</td>\n",
       "      <td>-0.207</td>\n",
       "      <td>-0.422</td>\n",
       "      <td>-0.269</td>\n",
       "      <td>-0.367</td>\n",
       "    </tr>\n",
       "    <tr>\n",
       "      <td>2018-03-01</td>\n",
       "      <td>0.387</td>\n",
       "      <td>-0.549</td>\n",
       "      <td>-0.682</td>\n",
       "      <td>-0.172</td>\n",
       "      <td>-0.440</td>\n",
       "      <td>-0.120</td>\n",
       "      <td>0.213</td>\n",
       "    </tr>\n",
       "    <tr>\n",
       "      <td>2018-04-01</td>\n",
       "      <td>-0.366</td>\n",
       "      <td>-0.595</td>\n",
       "      <td>-0.698</td>\n",
       "      <td>-0.216</td>\n",
       "      <td>-0.485</td>\n",
       "      <td>-0.415</td>\n",
       "      <td>-0.325</td>\n",
       "    </tr>\n",
       "    <tr>\n",
       "      <td>2018-05-01</td>\n",
       "      <td>-0.143</td>\n",
       "      <td>0.049</td>\n",
       "      <td>-0.654</td>\n",
       "      <td>-0.098</td>\n",
       "      <td>-0.429</td>\n",
       "      <td>-0.384</td>\n",
       "      <td>0.149</td>\n",
       "    </tr>\n",
       "  </tbody>\n",
       "</table>\n",
       "</div>"
      ],
      "text/plain": [
       "source_id             1      2      3      4      5      9      10\n",
       "first_order_month                                                 \n",
       "2017-06-01         0.225 -0.570 -0.637 -0.442 -0.274 -0.149 -0.270\n",
       "2017-07-01         0.087 -0.248 -0.593 -0.188 -0.254 -0.232 -0.465\n",
       "2017-08-01        -0.110 -0.610 -0.721 -0.468 -0.168 -0.001 -0.205\n",
       "2017-09-01        -0.091 -0.387 -0.564 -0.458 -0.052 -0.101 -0.583\n",
       "2017-10-01        -0.116 -0.373 -0.650 -0.203 -0.166  0.047 -0.127\n",
       "2017-11-01        -0.021 -0.470 -0.676  0.123 -0.500 -0.206 -0.253\n",
       "2017-12-01        -0.352 -0.315 -0.661 -0.252 -0.343 -0.296 -0.501\n",
       "2018-01-01        -0.372 -0.695 -0.720 -0.331 -0.487 -0.586 -0.536\n",
       "2018-02-01        -0.415 -0.645 -0.709 -0.207 -0.422 -0.269 -0.367\n",
       "2018-03-01         0.387 -0.549 -0.682 -0.172 -0.440 -0.120  0.213\n",
       "2018-04-01        -0.366 -0.595 -0.698 -0.216 -0.485 -0.415 -0.325\n",
       "2018-05-01        -0.143  0.049 -0.654 -0.098 -0.429 -0.384  0.149"
      ]
     },
     "execution_count": 129,
     "metadata": {},
     "output_type": "execute_result"
    }
   ],
   "source": [
    "proba_n['roi'] = (proba_n['revenue'] - proba_n['costs'])/proba_n['costs']\n",
    "\n",
    "output_roi = proba_n.pivot_table(\n",
    "        index='first_order_month', \n",
    "        columns='source_id', \n",
    "        values='roi', \n",
    "        aggfunc='mean').round(3)\n",
    "    \n",
    "output_roi.iloc[:, :].fillna('')\n",
    "\n"
   ]
  },
  {
   "cell_type": "markdown",
   "metadata": {},
   "source": [
    "Посчитаем средние значения для источников по 'ltv', 'roi', 'cac'"
   ]
  },
  {
   "cell_type": "code",
   "execution_count": 130,
   "metadata": {},
   "outputs": [],
   "source": [
    "fin_1 = proba_n.pivot_table(index = 'source_id', \n",
    "                    values = ['ltv', 'roi', 'cac'], \n",
    "                    aggfunc = 'mean').round(3)\n"
   ]
  },
  {
   "cell_type": "markdown",
   "metadata": {},
   "source": [
    "Посчитаем суммарные показатели для источников по 'revenue', 'costs', 'uid'"
   ]
  },
  {
   "cell_type": "code",
   "execution_count": 131,
   "metadata": {},
   "outputs": [],
   "source": [
    "fin_2 = proba_n.pivot_table(index = 'source_id', \n",
    "                    values = ['revenue', 'costs', 'uid'], \n",
    "                    aggfunc = 'sum').round(3)"
   ]
  },
  {
   "cell_type": "markdown",
   "metadata": {},
   "source": [
    "Выведим финальную таблицу"
   ]
  },
  {
   "cell_type": "code",
   "execution_count": 132,
   "metadata": {},
   "outputs": [
    {
     "data": {
      "text/html": [
       "<div>\n",
       "<style scoped>\n",
       "    .dataframe tbody tr th:only-of-type {\n",
       "        vertical-align: middle;\n",
       "    }\n",
       "\n",
       "    .dataframe tbody tr th {\n",
       "        vertical-align: top;\n",
       "    }\n",
       "\n",
       "    .dataframe thead th {\n",
       "        text-align: right;\n",
       "    }\n",
       "</style>\n",
       "<table border=\"1\" class=\"dataframe\">\n",
       "  <thead>\n",
       "    <tr style=\"text-align: right;\">\n",
       "      <th></th>\n",
       "      <th>cac</th>\n",
       "      <th>ltv</th>\n",
       "      <th>roi</th>\n",
       "      <th>costs</th>\n",
       "      <th>revenue</th>\n",
       "      <th>uid</th>\n",
       "    </tr>\n",
       "    <tr>\n",
       "      <th>source_id</th>\n",
       "      <th></th>\n",
       "      <th></th>\n",
       "      <th></th>\n",
       "      <th></th>\n",
       "      <th></th>\n",
       "      <th></th>\n",
       "    </tr>\n",
       "  </thead>\n",
       "  <tbody>\n",
       "    <tr>\n",
       "      <td>1</td>\n",
       "      <td>7.212</td>\n",
       "      <td>6.314</td>\n",
       "      <td>-0.107</td>\n",
       "      <td>20833.27</td>\n",
       "      <td>31090.55</td>\n",
       "      <td>2899.0</td>\n",
       "    </tr>\n",
       "    <tr>\n",
       "      <td>2</td>\n",
       "      <td>12.504</td>\n",
       "      <td>6.502</td>\n",
       "      <td>-0.451</td>\n",
       "      <td>42806.04</td>\n",
       "      <td>46923.61</td>\n",
       "      <td>3506.0</td>\n",
       "    </tr>\n",
       "    <tr>\n",
       "      <td>3</td>\n",
       "      <td>13.803</td>\n",
       "      <td>4.606</td>\n",
       "      <td>-0.664</td>\n",
       "      <td>141321.63</td>\n",
       "      <td>54511.24</td>\n",
       "      <td>10473.0</td>\n",
       "    </tr>\n",
       "    <tr>\n",
       "      <td>4</td>\n",
       "      <td>6.439</td>\n",
       "      <td>4.667</td>\n",
       "      <td>-0.243</td>\n",
       "      <td>61073.60</td>\n",
       "      <td>56696.83</td>\n",
       "      <td>10295.0</td>\n",
       "    </tr>\n",
       "    <tr>\n",
       "      <td>5</td>\n",
       "      <td>7.452</td>\n",
       "      <td>4.835</td>\n",
       "      <td>-0.335</td>\n",
       "      <td>51757.10</td>\n",
       "      <td>52624.02</td>\n",
       "      <td>6931.0</td>\n",
       "    </tr>\n",
       "    <tr>\n",
       "      <td>9</td>\n",
       "      <td>5.414</td>\n",
       "      <td>4.008</td>\n",
       "      <td>-0.226</td>\n",
       "      <td>5517.49</td>\n",
       "      <td>5759.40</td>\n",
       "      <td>1088.0</td>\n",
       "    </tr>\n",
       "    <tr>\n",
       "      <td>10</td>\n",
       "      <td>4.867</td>\n",
       "      <td>3.268</td>\n",
       "      <td>-0.273</td>\n",
       "      <td>5822.49</td>\n",
       "      <td>4450.33</td>\n",
       "      <td>1329.0</td>\n",
       "    </tr>\n",
       "    <tr>\n",
       "      <td>7</td>\n",
       "      <td>NaN</td>\n",
       "      <td>NaN</td>\n",
       "      <td>NaN</td>\n",
       "      <td>0.00</td>\n",
       "      <td>1.22</td>\n",
       "      <td>0.0</td>\n",
       "    </tr>\n",
       "  </tbody>\n",
       "</table>\n",
       "</div>"
      ],
      "text/plain": [
       "              cac    ltv    roi      costs   revenue      uid\n",
       "source_id                                                    \n",
       "1           7.212  6.314 -0.107   20833.27  31090.55   2899.0\n",
       "2          12.504  6.502 -0.451   42806.04  46923.61   3506.0\n",
       "3          13.803  4.606 -0.664  141321.63  54511.24  10473.0\n",
       "4           6.439  4.667 -0.243   61073.60  56696.83  10295.0\n",
       "5           7.452  4.835 -0.335   51757.10  52624.02   6931.0\n",
       "9           5.414  4.008 -0.226    5517.49   5759.40   1088.0\n",
       "10          4.867  3.268 -0.273    5822.49   4450.33   1329.0\n",
       "7             NaN    NaN    NaN       0.00      1.22      0.0"
      ]
     },
     "execution_count": 132,
     "metadata": {},
     "output_type": "execute_result"
    }
   ],
   "source": [
    "fin = pd.merge(fin_1, fin_2, on = 'source_id', how = 'outer')\n",
    "fin"
   ]
  },
  {
   "cell_type": "markdown",
   "metadata": {},
   "source": [
    "Видим, что самым перспективным можно назвать 1, 9, 4 и 10 источники, самым слабым можно назвать 3 источник."
   ]
  },
  {
   "cell_type": "markdown",
   "metadata": {},
   "source": [
    "# Выводы"
   ]
  },
  {
   "cell_type": "markdown",
   "metadata": {},
   "source": [
    "Исходя из расчётов, которые были сделаны - можно сказать:\n",
    "\n",
    "    * оказатель суточного посещения - 908\n",
    "    * недельный показатель - 5716\n",
    "    * месячный показатель - 23228\n",
    "    * sticky_wau - 15.9\n",
    "    * sticky_mau - 3.9\n",
    "    * Asl - 60\n",
    "    * В среднем пользователь проводит чуть больше 1-ой сессии\n",
    "    * На второй месяц после первой покупки пользователи крайне редко возвращаются для повторной покупки\n",
    "    * Почти во всех когортах повторные покупки происходят почти в одинаковом количестве\n",
    "    * На общем фоне особенно выделяется сентябрьская когорта за 3 месяц, там средний чек достиг отметки в 138,7\n",
    "    * Так же переодические всплески среднего чека наблюдаются у когорт за декабрь, июнь, сентябрь\n",
    "    *  Самым перспективным можно назвать 1, 9, 4 и 10 источники, самым слабым можно назвать 3 источник."
   ]
  }
 ],
 "metadata": {
  "kernelspec": {
   "display_name": "Python 3",
   "language": "python",
   "name": "python3"
  },
  "language_info": {
   "codemirror_mode": {
    "name": "ipython",
    "version": 3
   },
   "file_extension": ".py",
   "mimetype": "text/x-python",
   "name": "python",
   "nbconvert_exporter": "python",
   "pygments_lexer": "ipython3",
   "version": "3.7.4"
  }
 },
 "nbformat": 4,
 "nbformat_minor": 2
}
